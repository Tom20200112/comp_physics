{
 "cells": [
  {
   "cell_type": "markdown",
   "metadata": {},
   "source": [
    "## Example functions\n",
    "Complete these linear algebra functions.\n",
    "\n",
    "Try to write expressive, concise code.\n",
    "\n",
    "(all of the functions can be implemented in one line of code)"
   ]
  },
  {
   "cell_type": "code",
   "execution_count": 1,
   "metadata": {},
   "outputs": [
    {
     "name": "stdout",
     "output_type": "stream",
     "text": [
      "1 items had no tests:\n",
      "    __main__\n",
      "0 tests in 1 items.\n",
      "0 passed and 0 failed.\n",
      "Test passed.\n"
     ]
    }
   ],
   "source": [
    "if __name__ == \"__main__\":\n",
    "    import doctest\n",
    "    doctest.testmod(verbose=True)"
   ]
  },
  {
   "cell_type": "code",
   "execution_count": 3,
   "metadata": {},
   "outputs": [
    {
     "name": "stdout",
     "output_type": "stream",
     "text": [
      "Trying:\n",
      "    euclidean_norm([3.0, 4.0])\n",
      "Expecting:\n",
      "    5.0\n",
      "ok\n",
      "1 items had no tests:\n",
      "    __main__\n",
      "1 items passed all tests:\n",
      "   1 tests in __main__.euclidean_norm\n",
      "1 tests in 2 items.\n",
      "1 passed and 0 failed.\n",
      "Test passed.\n"
     ]
    },
    {
     "name": "stderr",
     "output_type": "stream",
     "text": [
      "/var/folders/26/33gfkypd2f930_67mdqmxs8m0000gn/T/ipykernel_14931/1906191235.py:9: DeprecationWarning: Calling np.sum(generator) is deprecated, and in the future will give a different result. Use np.sum(np.fromiter(generator)) or the python sum builtin instead.\n",
      "  return math.sqrt(np.sum(x**2 for x in xs))\n"
     ]
    }
   ],
   "source": [
    "import numpy as np\n",
    "import math\n",
    "\n",
    "def euclidean_norm(xs: [float]) -> float:  # easy\n",
    "    \"\"\"\n",
    "    >>> euclidean_norm([3.0, 4.0])\n",
    "    5.0\n",
    "    \"\"\"\n",
    "    return math.sqrt(np.sum(x**2 for x in xs))\n",
    "\n",
    "if __name__ == \"__main__\":\n",
    "    import doctest\n",
    "    doctest.testmod(verbose=True)"
   ]
  },
  {
   "cell_type": "code",
   "execution_count": 4,
   "metadata": {},
   "outputs": [
    {
     "name": "stdout",
     "output_type": "stream",
     "text": [
      "Trying:\n",
      "    dot_product([1.0, 3.0], [-4.0, 2.0])\n",
      "Expecting:\n",
      "    2.0\n",
      "ok\n",
      "Trying:\n",
      "    euclidean_norm([3.0, 4.0])\n",
      "Expecting:\n",
      "    5.0\n",
      "ok\n",
      "1 items had no tests:\n",
      "    __main__\n",
      "2 items passed all tests:\n",
      "   1 tests in __main__.dot_product\n",
      "   1 tests in __main__.euclidean_norm\n",
      "2 tests in 3 items.\n",
      "2 passed and 0 failed.\n",
      "Test passed.\n"
     ]
    },
    {
     "name": "stderr",
     "output_type": "stream",
     "text": [
      "/var/folders/26/33gfkypd2f930_67mdqmxs8m0000gn/T/ipykernel_14931/4120759789.py:7: DeprecationWarning: Calling np.sum(generator) is deprecated, and in the future will give a different result. Use np.sum(np.fromiter(generator)) or the python sum builtin instead.\n",
      "  return np.sum(xs[i]*ys[i] for i in range(0,len(xs)))\n",
      "/var/folders/26/33gfkypd2f930_67mdqmxs8m0000gn/T/ipykernel_14931/1906191235.py:9: DeprecationWarning: Calling np.sum(generator) is deprecated, and in the future will give a different result. Use np.sum(np.fromiter(generator)) or the python sum builtin instead.\n",
      "  return math.sqrt(np.sum(x**2 for x in xs))\n"
     ]
    }
   ],
   "source": [
    "import numpy as np\n",
    "def dot_product(xs: [float], ys: [float]) -> [float]:  # easy\n",
    "    \"\"\"\n",
    "    >>> dot_product([1.0, 3.0], [-4.0, 2.0])\n",
    "    2.0\n",
    "    \"\"\"\n",
    "    return np.sum(xs[i]*ys[i] for i in range(0,len(xs)))\n",
    "\n",
    "if __name__ == \"__main__\":\n",
    "    import doctest\n",
    "    doctest.testmod(verbose=True)"
   ]
  },
  {
   "cell_type": "code",
   "execution_count": 5,
   "metadata": {},
   "outputs": [
    {
     "name": "stdout",
     "output_type": "stream",
     "text": [
      "Trying:\n",
      "    dot_product([1.0, 3.0], [-4.0, 2.0])\n",
      "Expecting:\n",
      "    2.0\n",
      "ok\n",
      "Trying:\n",
      "    euclidean_distance([0.0, 3.0], [-4.0, 0.0])\n",
      "Expecting:\n",
      "    5.0\n",
      "ok\n",
      "Trying:\n",
      "    euclidean_norm([3.0, 4.0])\n",
      "Expecting:\n",
      "    5.0\n",
      "ok\n",
      "1 items had no tests:\n",
      "    __main__\n",
      "3 items passed all tests:\n",
      "   1 tests in __main__.dot_product\n",
      "   1 tests in __main__.euclidean_distance\n",
      "   1 tests in __main__.euclidean_norm\n",
      "3 tests in 4 items.\n",
      "3 passed and 0 failed.\n",
      "Test passed.\n"
     ]
    },
    {
     "name": "stderr",
     "output_type": "stream",
     "text": [
      "/var/folders/26/33gfkypd2f930_67mdqmxs8m0000gn/T/ipykernel_14931/4120759789.py:7: DeprecationWarning: Calling np.sum(generator) is deprecated, and in the future will give a different result. Use np.sum(np.fromiter(generator)) or the python sum builtin instead.\n",
      "  return np.sum(xs[i]*ys[i] for i in range(0,len(xs)))\n",
      "/var/folders/26/33gfkypd2f930_67mdqmxs8m0000gn/T/ipykernel_14931/1906191235.py:9: DeprecationWarning: Calling np.sum(generator) is deprecated, and in the future will give a different result. Use np.sum(np.fromiter(generator)) or the python sum builtin instead.\n",
      "  return math.sqrt(np.sum(x**2 for x in xs))\n"
     ]
    }
   ],
   "source": [
    "def euclidean_distance(xs: [float], ys: [float]) -> [float]:  # medium\n",
    "    \"\"\"\n",
    "    >>> euclidean_distance([0.0, 3.0], [-4.0, 0.0])\n",
    "    5.0\n",
    "    \"\"\"\n",
    "    return math.sqrt(sum((xs[i]-ys[i])**2 for i in range(0,len(xs))))\n",
    "\n",
    "if __name__ == \"__main__\":\n",
    "    import doctest\n",
    "    doctest.testmod(verbose=True)"
   ]
  },
  {
   "cell_type": "code",
   "execution_count": null,
   "metadata": {},
   "outputs": [],
   "source": [
    "def outer_product(xs: [float], ys: [float]) -> [[float]]:  # medium\n",
    "    \"\"\"\n",
    "    >>> outer_product([4.0, 3.0], [-4.0, 3.0])\n",
    "    [[-16.0, 12.0], [-12.0, 9.0]]\n",
    "    \"\"\"\n",
    "    ..."
   ]
  },
  {
   "cell_type": "code",
   "execution_count": null,
   "metadata": {},
   "outputs": [],
   "source": [
    "def transpose(xss: [[float]]) -> [[float]]:  # medium-hard\n",
    "    \"\"\"\n",
    "    >>> transpose([[1.0, 2.0], [3.0, 4.0]])\n",
    "    [[1.0, 3.0], [2.0, 4.0]]\n",
    "    \"\"\"\n",
    "    ..."
   ]
  },
  {
   "cell_type": "code",
   "execution_count": null,
   "metadata": {},
   "outputs": [],
   "source": [
    "def matrix_multiply(xss: [[float]], yss: [[float]]) -> [[float]]:  # hard\n",
    "    \"\"\"\n",
    "    >>> matrix_multiply([[1.0, 2.0], [3.0, 4.0]], [[5.0, 6.0], [7.0, 8.0]])\n",
    "    [[19.0, 22.0], [43.0, 50.0]]\n",
    "    \"\"\"\n",
    "    ..."
   ]
  }
 ],
 "metadata": {
  "kernelspec": {
   "display_name": "Python 3",
   "language": "python",
   "name": "python3"
  },
  "language_info": {
   "codemirror_mode": {
    "name": "ipython",
    "version": 3
   },
   "file_extension": ".py",
   "mimetype": "text/x-python",
   "name": "python",
   "nbconvert_exporter": "python",
   "pygments_lexer": "ipython3",
   "version": "3.11.2"
  },
  "vscode": {
   "interpreter": {
    "hash": "aee8b7b246df8f9039afb4144a1f6fd8d2ca17a180786b69acc140d282b71a49"
   }
  }
 },
 "nbformat": 4,
 "nbformat_minor": 1
}
