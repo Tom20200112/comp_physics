{
 "cells": [
  {
   "cell_type": "markdown",
   "metadata": {},
   "source": [
    "# Recap 12 & Examples\n",
    "## Module structure\n",
    "The `local_optimisation` module exposes functions `bfgs`, `gradient_descent`, `hybrid_eigenvector_following`, and `line_search`.\n",
    "\n",
    "The `matrices` module exposes functions `solve_system`, `determinant`, `matrix_inverse`, and `matrix_pseudoinverse`.\n",
    "\n",
    "The `pair_potential` module exposes functions `lennard_jones_potential`, `pair_potential`, `lj_energy_c`, and `lj_gradient_c`."
   ]
  },
  {
   "cell_type": "markdown",
   "metadata": {
    "tags": []
   },
   "source": [
    "## Gradient of a pair potential\n",
    "\n",
    "The Lennard-Jones pair energy and gradient $(\\epsilon = \\sigma = 1)$:\n",
    "\\begin{align}\n",
    "\\upsilon_{\\text{LJ}}{(r)} &= 4\\left[ \\left(\\frac{1}{r}\\right)^{12} - \\left(\\frac{1}{r}\\right)^{6}\\right] \\\\\n",
    "\\frac{\\text{d}}{\\text{d}r}\\upsilon_{\\text{LJ}}{(r)} &= \\frac{24}{r}\\left[ \\left(\\frac{1}{r}\\right)^{6} - 2\\left(\\frac{1}{r}\\right)^{12}\\right] \n",
    "\\end{align}\n",
    "\n",
    "The total pairwise energy and gradient:\n",
    "\\begin{align}\n",
    "V{(\\mathbf{r})} &=\\sum_{i\\ne j} \\upsilon{(r_{ij})} \\\\\n",
    "\\frac{\\partial}{\\partial r_{i\\alpha}} V{(\\mathbf{r})} &= \\sum_{i\\ne j} \\frac{\\partial}{\\partial r_{i\\alpha}} \\upsilon{(r_{ij})} \\\\\n",
    "&= \\sum_{i\\ne j} \\frac{\\partial r_{ij}}{\\partial r_{i\\alpha}} \\frac{\\partial}{\\partial r_{ij}}\\upsilon{(r_{ij})} \\\\\n",
    "&= \\sum_{i\\ne j} \\frac{r_{i\\alpha}-r_{j\\alpha}}{r_{ij}} \\frac{\\text{d}}{\\text{d}r_{ij}}\\upsilon{(r_{ij})} \\\\\n",
    "\\text{where} \\quad r_{ij} &= \\left[\\left(r_{ix}-r_{jx}\\right)^{2}+\\left(r_{iy}-r_{jy}\\right)^{2}+\\left(r_{iz}-r_{jz}\\right)^{2}\\right]^{\\frac{1}{2}} \\\\\n",
    "\\frac{\\partial r_{ij}}{\\partial r_{ix}} &= 2\\left(r_{ix}-r_{jx}\\right) \\cdot \\frac{1}{2}\\left[\\left(r_{ix}-r_{jx}\\right)^{2}+\\left(r_{iy}-r_{jy}\\right)^{2}+\\left(r_{iz}-r_{jz}\\right)^{2}\\right]^{-\\frac{1}{2}} \\\\\n",
    "&= \\frac{r_{ix}-r_{jx}}{\\left[\\left(r_{ix}-r_{jx}\\right)^{2}+\\left(r_{iy}-r_{jy}\\right)^{2}+\\left(r_{iz}-r_{jz}\\right)^{2}\\right]^{\\frac{1}{2}}} \\\\\n",
    "&= \\frac{r_{ix}-r_{jx}}{r_{ij}}\n",
    "\\end{align}\n"
   ]
  },
  {
   "cell_type": "markdown",
   "metadata": {},
   "source": [
    "## `cython` implementation of the Lennard-Jones potential\n",
    "Python is easy to learn but slow as sin. This downside can be mitigated by using `cython`, a module that allows use to write python code that can be compiled as c code. Although plain Python can be compiled in this way, taking full advantage of cython requires certain extra directives.\n",
    "\n",
    "In the `pair_potential` directory you will find a pure python implementation of the generic pair potential and LJ potential and gradient, as well as a cython implementations of the pair potential specificially for the LJ potential (`lj_potential_c.pyx`).\n",
    "\n",
    "### Compiling\n",
    "If you want to use the functions `lj_energy_c` and `lj_gradient_c`, you must first compile the code.\n",
    "\n",
    "1. download `examples.zip` from the SEP and extract its contents\n",
    "1. create a PyCharm project in the top directory, `examples`\n",
    "1. create a new Python environment, and install the dependencies list in `requirements.txt`\n",
    "1. open a terminal session\n",
    "1. navigate to the top directory, `examples`\n",
    "1. run `python setup.py build --in-place`\n",
    "\n",
    "If the next two cells run without errors, you have successful compiled the code and can use it for the examples class (and your final project)."
   ]
  },
  {
   "cell_type": "code",
   "execution_count": 5,
   "metadata": {
    "tags": []
   },
   "outputs": [],
   "source": [
    "import numpy as np\n",
    "from pair_potential import lj_energy_c, lj_gradient_c\n",
    "from local_optimisation import gradient_descent, bfgs, hybrid_eigenvector_following"
   ]
  },
  {
   "cell_type": "code",
   "execution_count": 10,
   "metadata": {},
   "outputs": [
    {
     "name": "stdout",
     "output_type": "stream",
     "text": [
      "-37.03053758273098 4.169237684330122\n",
      "-39.75218251560557 1.906933159170371e-06\n",
      "-37.18288685363649 3.221596241579343e-07\n",
      "[ 2.66458451e-01 -1.28490205e-03 -5.38297192e-01  3.76895039e-01\n",
      "  8.07355893e-02 -8.99395836e-03 -2.34510271e+00 -2.15896390e+00\n",
      "  1.14589093e+00  6.61139477e-01  5.62574859e-03  7.67681746e-01\n",
      " -1.26917194e+00  2.11719801e-01 -2.80944453e-01  1.27823351e-01\n",
      " -1.80932305e-01 -1.19366917e-01  3.17510690e-02  1.85262309e-01\n",
      " -2.19249908e-01  2.34267726e-01  6.64604624e-02 -3.60413247e-01\n",
      "  4.22096871e-01  2.83694692e-02 -4.70535319e-02  1.80390560e-01\n",
      "  5.82063000e-01 -5.49324013e-02  9.82435069e-01  5.56222179e-01\n",
      "  2.40918291e-01  1.90194114e-01  2.92234529e-01 -1.52055461e-01\n",
      "  1.40822925e-01  3.32488023e-01 -3.73183893e-01]\n"
     ]
    }
   ],
   "source": [
    "np.random.seed(0)\n",
    "pos = np.load(\"config.npy\")\n",
    "\n",
    "f = lj_energy_c\n",
    "df = lj_gradient_c\n",
    "\n",
    "print(lj_energy_c(pos), np.linalg.norm(lj_gradient_c(pos)))\n",
    "\n",
    "minimum = bfgs(f, df, pos, xtol=1e-8, gtol=1e-5)\n",
    "print(lj_energy_c(minimum), np.linalg.norm(lj_gradient_c(minimum)))\n",
    "\n",
    "saddle = hybrid_eigenvector_following(f, df, pos, tolg=1e-6, tolev=1e-6)\n",
    "print(lj_energy_c(saddle), np.linalg.norm(lj_gradient_c(saddle)))"
   ]
  }
 ],
 "metadata": {
  "kernelspec": {
   "display_name": "Python 3",
   "language": "python",
   "name": "python3"
  },
  "language_info": {
   "codemirror_mode": {
    "name": "ipython",
    "version": 3
   },
   "file_extension": ".py",
   "mimetype": "text/x-python",
   "name": "python",
   "nbconvert_exporter": "python",
   "pygments_lexer": "ipython3",
   "version": "3.11.2"
  },
  "vscode": {
   "interpreter": {
    "hash": "aee8b7b246df8f9039afb4144a1f6fd8d2ca17a180786b69acc140d282b71a49"
   }
  }
 },
 "nbformat": 4,
 "nbformat_minor": 4
}
