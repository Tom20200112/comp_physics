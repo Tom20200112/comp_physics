{
 "cells": [
  {
   "cell_type": "markdown",
   "id": "9e4b3f8b",
   "metadata": {},
   "source": [
    "# A simple function"
   ]
  },
  {
   "cell_type": "code",
   "execution_count": 3,
   "id": "b2830ad6",
   "metadata": {},
   "outputs": [],
   "source": [
    "def factorial(n: int) -> int:  # function definition statement\n",
    "    \"\"\"\n",
    "\n",
    "    evaluates n! = n * (n - 1) * ... * 2 * 1\n",
    "    0! evaluates to 1\n",
    "\n",
    "    >>> factorial(0)\n",
    "    1\n",
    "\n",
    "    >>> factorial(10)\n",
    "    3628800\n",
    "\n",
    "    >>> factorial(-1)\n",
    "    Traceback (most recent call last):\n",
    "    ValueError: n! is undefined for n less than zero\n",
    "\n",
    "    >>> factorial(3.141)\n",
    "    Traceback (most recent call last):\n",
    "    TypeError: n is not an integer\n",
    "\n",
    "    \"\"\"\n",
    "\n",
    "    if not isinstance(n, int):\n",
    "        raise TypeError(\"n is not an integer\")  # raise statement\n",
    "    elif n < 0:  # if statement\n",
    "        raise ValueError(\"n! is undefined for n less than zero\")  # raise statement\n",
    "\n",
    "    n_factorial = 1  # assignment statement\n",
    "\n",
    "    while n > 1:  # while statement\n",
    "        n_factorial = n_factorial * n  # assignment statement\n",
    "        n = n - 1  # assignment statement\n",
    "\n",
    "    return n_factorial  # return statement\n"
   ]
  },
  {
   "cell_type": "code",
   "execution_count": 4,
   "id": "757520c2",
   "metadata": {},
   "outputs": [
    {
     "ename": "TypeError",
     "evalue": "n is not an integer",
     "output_type": "error",
     "traceback": [
      "\u001b[0;31m---------------------------------------------------------------------------\u001b[0m",
      "\u001b[0;31mTypeError\u001b[0m                                 Traceback (most recent call last)",
      "Cell \u001b[0;32mIn[4], line 1\u001b[0m\n\u001b[0;32m----> 1\u001b[0m factorial(\u001b[39m\"\u001b[39;49m\u001b[39mstring\u001b[39;49m\u001b[39m\"\u001b[39;49m)  \u001b[39m# factorial expects an int argument\u001b[39;00m\n",
      "Cell \u001b[0;32mIn[3], line 24\u001b[0m, in \u001b[0;36mfactorial\u001b[0;34m(n)\u001b[0m\n\u001b[1;32m      2\u001b[0m \u001b[39m\u001b[39m\u001b[39m\"\"\"\u001b[39;00m\n\u001b[1;32m      3\u001b[0m \n\u001b[1;32m      4\u001b[0m \u001b[39mevaluates n! = n * (n - 1) * ... * 2 * 1\u001b[39;00m\n\u001b[0;32m   (...)\u001b[0m\n\u001b[1;32m     20\u001b[0m \n\u001b[1;32m     21\u001b[0m \u001b[39m\"\"\"\u001b[39;00m\n\u001b[1;32m     23\u001b[0m \u001b[39mif\u001b[39;00m \u001b[39mnot\u001b[39;00m \u001b[39misinstance\u001b[39m(n, \u001b[39mint\u001b[39m):\n\u001b[0;32m---> 24\u001b[0m     \u001b[39mraise\u001b[39;00m \u001b[39mTypeError\u001b[39;00m(\u001b[39m\"\u001b[39m\u001b[39mn is not an integer\u001b[39m\u001b[39m\"\u001b[39m)  \u001b[39m# raise statement\u001b[39;00m\n\u001b[1;32m     25\u001b[0m \u001b[39melif\u001b[39;00m n \u001b[39m<\u001b[39m \u001b[39m0\u001b[39m:  \u001b[39m# if statement\u001b[39;00m\n\u001b[1;32m     26\u001b[0m     \u001b[39mraise\u001b[39;00m \u001b[39mValueError\u001b[39;00m(\u001b[39m\"\u001b[39m\u001b[39mn! is undefined for n less than zero\u001b[39m\u001b[39m\"\u001b[39m)  \u001b[39m# raise statement\u001b[39;00m\n",
      "\u001b[0;31mTypeError\u001b[0m: n is not an integer"
     ]
    }
   ],
   "source": [
    "factorial(\"string\")  # factorial expects an int argument"
   ]
  },
  {
   "cell_type": "code",
   "execution_count": null,
   "id": "483ea5c1",
   "metadata": {},
   "outputs": [],
   "source": [
    "x = factorial(5)\n",
    "print(x)"
   ]
  },
  {
   "cell_type": "markdown",
   "id": "db04e588",
   "metadata": {},
   "source": [
    "## Assignment statements"
   ]
  },
  {
   "cell_type": "code",
   "execution_count": null,
   "id": "256af4ae",
   "metadata": {},
   "outputs": [],
   "source": [
    "x1 = 5  # valid assignment statement"
   ]
  },
  {
   "cell_type": "code",
   "execution_count": null,
   "id": "4dbbae33",
   "metadata": {},
   "outputs": [],
   "source": [
    "x = 1 + 3  # valid---RHS is a valid expression"
   ]
  },
  {
   "cell_type": "code",
   "execution_count": null,
   "id": "dbec339e",
   "metadata": {},
   "outputs": [],
   "source": [
    "1x = 5  # invalid name---names cannot begin with digits"
   ]
  },
  {
   "cell_type": "code",
   "execution_count": null,
   "id": "42f20814",
   "metadata": {},
   "outputs": [],
   "source": [
    "x = 1 +  # invalid---RHS is an invalid expression"
   ]
  },
  {
   "cell_type": "markdown",
   "id": "aecf2685",
   "metadata": {},
   "source": [
    "## Identifiers / names"
   ]
  },
  {
   "cell_type": "code",
   "execution_count": null,
   "id": "619cd416",
   "metadata": {},
   "outputs": [],
   "source": [
    "my_result = 1  # good variable name! (snake case)\n",
    "myresult = 1  # bad, missing underscore between words\n",
    "x = 1  # bad, not descriptive!\n",
    "number_of_atoms = 10  # better\n",
    "natoms = 10  # also ok\n",
    "\n",
    "MY_RESULT = 1  # constant, good! (upper snake case)\n",
    "MYRESULT = 1  # bad, missing underscore between words\n",
    "\n",
    "def sphere_volume(radius: float) -> float:  # function name, same rules as for variable names\n",
    "    ...\n",
    "\n",
    "class ParticleSystem: # class name (Pascal case)\n",
    "    ..."
   ]
  },
  {
   "cell_type": "markdown",
   "id": "ecceee68",
   "metadata": {},
   "source": [
    "## Expressions"
   ]
  },
  {
   "cell_type": "code",
   "execution_count": null,
   "id": "e4ffbf08",
   "metadata": {},
   "outputs": [],
   "source": [
    "1  # integer literal"
   ]
  },
  {
   "cell_type": "code",
   "execution_count": null,
   "id": "5a693037",
   "metadata": {},
   "outputs": [],
   "source": [
    "\"hello world\"  # string literal"
   ]
  },
  {
   "cell_type": "code",
   "execution_count": null,
   "id": "80b0842c",
   "metadata": {},
   "outputs": [],
   "source": [
    "3.141  # float literal"
   ]
  },
  {
   "cell_type": "code",
   "execution_count": null,
   "id": "5ef84a83",
   "metadata": {},
   "outputs": [],
   "source": [
    "2 + 3  # valid expression"
   ]
  },
  {
   "cell_type": "code",
   "execution_count": null,
   "id": "7ca4d590",
   "metadata": {},
   "outputs": [],
   "source": [
    "print(4)  # valid expression"
   ]
  },
  {
   "cell_type": "code",
   "execution_count": null,
   "id": "0a6fb50e",
   "metadata": {},
   "outputs": [],
   "source": [
    "/2, 1+, \"string  # nonsense"
   ]
  },
  {
   "cell_type": "markdown",
   "id": "ffe34b1d",
   "metadata": {},
   "source": [
    "## Numeric datatypes: int, float, complex\n",
    "### `int`: for representing integers"
   ]
  },
  {
   "cell_type": "code",
   "execution_count": null,
   "id": "15d5533a",
   "metadata": {},
   "outputs": [],
   "source": [
    "21345453464675867  # integer literal"
   ]
  },
  {
   "cell_type": "code",
   "execution_count": null,
   "id": "11f5cc58",
   "metadata": {},
   "outputs": [],
   "source": [
    "big_number = 2134545346467586744235424350000000000000000 + 1\n",
    "print(big_number)  # python integers have unlimited precision!"
   ]
  },
  {
   "cell_type": "code",
   "execution_count": null,
   "id": "65a74f52",
   "metadata": {},
   "outputs": [],
   "source": [
    "0b1000  # binary literal"
   ]
  },
  {
   "cell_type": "code",
   "execution_count": null,
   "id": "fbbc2c15",
   "metadata": {},
   "outputs": [],
   "source": [
    "0x1000  # hex literal"
   ]
  },
  {
   "cell_type": "code",
   "execution_count": null,
   "id": "ad8ccd9e",
   "metadata": {},
   "outputs": [],
   "source": [
    "0o1000  # oct literal"
   ]
  },
  {
   "cell_type": "code",
   "execution_count": null,
   "id": "5a794119",
   "metadata": {},
   "outputs": [],
   "source": [
    "bin(8)  # to binary string"
   ]
  },
  {
   "cell_type": "code",
   "execution_count": null,
   "id": "d50ad146",
   "metadata": {},
   "outputs": [],
   "source": [
    "hex(4096)  # to hex string"
   ]
  },
  {
   "cell_type": "code",
   "execution_count": null,
   "id": "1701ae98",
   "metadata": {},
   "outputs": [
    {
     "data": {
      "text/plain": [
       "'0o1000'"
      ]
     },
     "execution_count": 1,
     "metadata": {},
     "output_type": "execute_result"
    }
   ],
   "source": [
    "oct(512)  # to oct string"
   ]
  },
  {
   "cell_type": "markdown",
   "id": "49439f5e",
   "metadata": {},
   "source": [
    "### `float`: for representing real numbers"
   ]
  },
  {
   "cell_type": "code",
   "execution_count": null,
   "id": "d301f4ae",
   "metadata": {},
   "outputs": [
    {
     "data": {
      "text/plain": [
       "1.023"
      ]
     },
     "execution_count": 2,
     "metadata": {},
     "output_type": "execute_result"
    }
   ],
   "source": [
    "1.023  # float literal"
   ]
  },
  {
   "cell_type": "code",
   "execution_count": null,
   "id": "ae8b5f63",
   "metadata": {},
   "outputs": [],
   "source": [
    "23.45e-6  # also float literal"
   ]
  },
  {
   "cell_type": "code",
   "execution_count": null,
   "id": "75514815",
   "metadata": {},
   "outputs": [],
   "source": [
    "float(10)  # get a float from another type"
   ]
  },
  {
   "cell_type": "code",
   "execution_count": null,
   "id": "c3794e68",
   "metadata": {},
   "outputs": [],
   "source": [
    "small_number = 1e-10\n",
    "large_number = 1e10\n",
    "large_number+small_number-large_number  # loss of precision!"
   ]
  },
  {
   "cell_type": "code",
   "execution_count": null,
   "id": "7dba3327",
   "metadata": {},
   "outputs": [],
   "source": [
    "large_number-large_number+small_number  # expressions are evaluated left to right, and in accordance with operator precedence"
   ]
  },
  {
   "cell_type": "code",
   "execution_count": null,
   "id": "3e03d057",
   "metadata": {},
   "outputs": [],
   "source": [
    "bin(1.0)  # doesn't work! bin expects an int argument, not float"
   ]
  },
  {
   "cell_type": "markdown",
   "id": "fbda4dda",
   "metadata": {},
   "source": [
    "### `complex`: for representing complex numbers"
   ]
  },
  {
   "cell_type": "code",
   "execution_count": null,
   "id": "55460d6b",
   "metadata": {},
   "outputs": [],
   "source": [
    "1 + 2j  # complex literal"
   ]
  },
  {
   "cell_type": "code",
   "execution_count": null,
   "id": "c3717366",
   "metadata": {},
   "outputs": [],
   "source": [
    "3j  # imaginary number"
   ]
  },
  {
   "cell_type": "code",
   "execution_count": null,
   "id": "962a8d44",
   "metadata": {},
   "outputs": [],
   "source": [
    "z = complex(1, 2)  # complex from a pair of other numbers"
   ]
  },
  {
   "cell_type": "code",
   "execution_count": null,
   "id": "2b321c2c",
   "metadata": {},
   "outputs": [],
   "source": [
    "re = z.real  # can extract real\n",
    "im = z.imag  # and imaginary parts\n",
    "print(re, im)  # floats!"
   ]
  },
  {
   "cell_type": "markdown",
   "id": "e32681ee",
   "metadata": {},
   "source": [
    "## Arithmetic operators and functions\n",
    "**note**: this and later tables are taken directly from the <a href=\"https://docs.python.org/3/library/stdtypes.html#numeric-types-int-float-complex\">Python documentation</a>."
   ]
  },
  {
   "cell_type": "markdown",
   "id": "6a1cd5f0",
   "metadata": {},
   "source": [
    "<table class=\"docutils align-default\">\n",
    "<colgroup>\n",
    "<col style=\"width: 25%\" />\n",
    "<col style=\"width: 40%\" />\n",
    "<col style=\"width: 11%\" />\n",
    "<col style=\"width: 24%\" />\n",
    "</colgroup>\n",
    "<thead>\n",
    "<tr class=\"row-odd\"><th class=\"head\"><p>Operation</p></th>\n",
    "<th class=\"head\"><p>Result</p></th>\n",
    "<th class=\"head\"><p>Notes</p></th>\n",
    "<th class=\"head\"><p>Full documentation</p></th>\n",
    "</tr>\n",
    "</thead>\n",
    "<tbody>\n",
    "<tr class=\"row-even\"><td><p><code class=\"docutils literal notranslate\"><span class=\"pre\">x</span> <span class=\"pre\">+</span> <span class=\"pre\">y</span></code></p></td>\n",
    "<td><p>sum of <em>x</em> and <em>y</em></p></td>\n",
    "<td></td>\n",
    "<td></td>\n",
    "</tr>\n",
    "<tr class=\"row-odd\"><td><p><code class=\"docutils literal notranslate\"><span class=\"pre\">x</span> <span class=\"pre\">-</span> <span class=\"pre\">y</span></code></p></td>\n",
    "<td><p>difference of <em>x</em> and <em>y</em></p></td>\n",
    "<td></td>\n",
    "<td></td>\n",
    "</tr>\n",
    "<tr class=\"row-even\"><td><p><code class=\"docutils literal notranslate\"><span class=\"pre\">x</span> <span class=\"pre\">*</span> <span class=\"pre\">y</span></code></p></td>\n",
    "<td><p>product of <em>x</em> and <em>y</em></p></td>\n",
    "<td></td>\n",
    "<td></td>\n",
    "</tr>\n",
    "<tr class=\"row-odd\"><td><p><code class=\"docutils literal notranslate\"><span class=\"pre\">x</span> <span class=\"pre\">/</span> <span class=\"pre\">y</span></code></p></td>\n",
    "<td><p>quotient of <em>x</em> and <em>y</em></p></td>\n",
    "<td></td>\n",
    "<td></td>\n",
    "</tr>\n",
    "<tr class=\"row-even\"><td><p><code class=\"docutils literal notranslate\"><span class=\"pre\">x</span> <span class=\"pre\">//</span> <span class=\"pre\">y</span></code></p></td>\n",
    "<td><p>floored quotient of <em>x</em> and\n",
    "<em>y</em></p></td>\n",
    "<td><p>(1)</p></td>\n",
    "<td></td>\n",
    "</tr>\n",
    "<tr class=\"row-odd\"><td><p><code class=\"docutils literal notranslate\"><span class=\"pre\">x</span> <span class=\"pre\">%</span> <span class=\"pre\">y</span></code></p></td>\n",
    "<td><p>remainder of <code class=\"docutils literal notranslate\"><span class=\"pre\">x</span> <span class=\"pre\">/</span> <span class=\"pre\">y</span></code></p></td>\n",
    "<td><p>(2)</p></td>\n",
    "<td></td>\n",
    "</tr>\n",
    "<tr class=\"row-even\"><td><p><code class=\"docutils literal notranslate\"><span class=\"pre\">-x</span></code></p></td>\n",
    "<td><p><em>x</em> negated</p></td>\n",
    "<td></td>\n",
    "<td></td>\n",
    "</tr>\n",
    "<tr class=\"row-odd\"><td><p><code class=\"docutils literal notranslate\"><span class=\"pre\">+x</span></code></p></td>\n",
    "<td><p><em>x</em> unchanged</p></td>\n",
    "<td></td>\n",
    "<td></td>\n",
    "</tr>\n",
    "<tr class=\"row-even\"><td><p><code class=\"docutils literal notranslate\"><span class=\"pre\">abs(x)</span></code></p></td>\n",
    "<td><p>absolute value or magnitude of\n",
    "<em>x</em></p></td>\n",
    "<td></td>\n",
    "<td><p><a class=\"reference internal\" href=\"https://docs.python.org/3/library/functions.html#abs\" title=\"abs\"><code class=\"xref py py-func docutils literal notranslate\"><span class=\"pre\">abs()</span></code></a></p></td>\n",
    "</tr>\n",
    "<tr class=\"row-odd\"><td><p><code class=\"docutils literal notranslate\"><span class=\"pre\">int(x)</span></code></p></td>\n",
    "<td><p><em>x</em> converted to integer</p></td>\n",
    "<td><p>(3)(6)</p></td>\n",
    "<td><p><a class=\"reference internal\" href=\"https://docs.python.org/3/library/functions.html#int\" title=\"int\"><code class=\"xref py py-func docutils literal notranslate\"><span class=\"pre\">int()</span></code></a></p></td>\n",
    "</tr>\n",
    "<tr class=\"row-even\"><td><p><code class=\"docutils literal notranslate\"><span class=\"pre\">float(x)</span></code></p></td>\n",
    "<td><p><em>x</em> converted to floating point</p></td>\n",
    "<td><p>(4)(6)</p></td>\n",
    "<td><p><a class=\"reference internal\" href=\"https://docs.python.org/3/library/functions.html#float\" title=\"float\"><code class=\"xref py py-func docutils literal notranslate\"><span class=\"pre\">float()</span></code></a></p></td>\n",
    "</tr>\n",
    "<tr class=\"row-odd\"><td><p><code class=\"docutils literal notranslate\"><span class=\"pre\">complex(re,</span> <span class=\"pre\">im)</span></code></p></td>\n",
    "<td><p>a complex number with real part\n",
    "<em>re</em>, imaginary part <em>im</em>.\n",
    "<em>im</em> defaults to zero.</p></td>\n",
    "<td><p>(6)</p></td>\n",
    "<td><p><a class=\"reference internal\" href=\"https://docs.python.org/3/library/functions.html#complex\" title=\"complex\"><code class=\"xref py py-func docutils literal notranslate\"><span class=\"pre\">complex()</span></code></a></p></td>\n",
    "</tr>\n",
    "<tr class=\"row-even\"><td><p><code class=\"docutils literal notranslate\"><span class=\"pre\">c.conjugate()</span></code></p></td>\n",
    "<td><p>conjugate of the complex number\n",
    "<em>c</em></p></td>\n",
    "<td></td>\n",
    "<td></td>\n",
    "</tr>\n",
    "<tr class=\"row-odd\"><td><p><code class=\"docutils literal notranslate\"><span class=\"pre\">divmod(x,</span> <span class=\"pre\">y)</span></code></p></td>\n",
    "<td><p>the pair <code class=\"docutils literal notranslate\"><span class=\"pre\">(x</span> <span class=\"pre\">//</span> <span class=\"pre\">y,</span> <span class=\"pre\">x</span> <span class=\"pre\">%</span> <span class=\"pre\">y)</span></code></p></td>\n",
    "<td><p>(2)</p></td>\n",
    "<td><p><a class=\"reference internal\" href=\"https://docs.python.org/3/library/functions.html#divmod\" title=\"divmod\"><code class=\"xref py py-func docutils literal notranslate\"><span class=\"pre\">divmod()</span></code></a></p></td>\n",
    "</tr>\n",
    "<tr class=\"row-even\"><td><p><code class=\"docutils literal notranslate\"><span class=\"pre\">pow(x,</span> <span class=\"pre\">y)</span></code></p></td>\n",
    "<td><p><em>x</em> to the power <em>y</em></p></td>\n",
    "<td><p>(5)</p></td>\n",
    "<td><p><a class=\"reference internal\" href=\"https://docs.python.org/3/library/functions.html#pow\" title=\"pow\"><code class=\"xref py py-func docutils literal notranslate\"><span class=\"pre\">pow()</span></code></a></p></td>\n",
    "</tr>\n",
    "<tr class=\"row-odd\"><td><p><code class=\"docutils literal notranslate\"><span class=\"pre\">x</span> <span class=\"pre\">**</span> <span class=\"pre\">y</span></code></p></td>\n",
    "<td><p><em>x</em> to the power <em>y</em></p></td>\n",
    "<td><p>(5)</p></td>\n",
    "<td></td>\n",
    "</tr>\n",
    "</tbody>\n",
    "</table>"
   ]
  },
  {
   "cell_type": "code",
   "execution_count": null,
   "id": "87d0c47b",
   "metadata": {},
   "outputs": [],
   "source": [
    "1 / 2  # float division, returns a float"
   ]
  },
  {
   "cell_type": "code",
   "execution_count": null,
   "id": "4f84a751",
   "metadata": {},
   "outputs": [],
   "source": [
    "1 // 2  # floor division, returns?"
   ]
  },
  {
   "cell_type": "code",
   "execution_count": null,
   "id": "0c3e7a91",
   "metadata": {},
   "outputs": [],
   "source": [
    "1.0 // 2.0  # these examples are"
   ]
  },
  {
   "cell_type": "code",
   "execution_count": null,
   "id": "21db53e5",
   "metadata": {},
   "outputs": [],
   "source": [
    "1 // 2.0  # all equivalent---the int"
   ]
  },
  {
   "cell_type": "code",
   "execution_count": null,
   "id": "3e6ca802",
   "metadata": {},
   "outputs": [],
   "source": [
    "1.0 // 2  # gets `promoted' to a float"
   ]
  },
  {
   "cell_type": "code",
   "execution_count": null,
   "id": "0618b304",
   "metadata": {},
   "outputs": [],
   "source": [
    "10 % 3  # 10 mod 5"
   ]
  },
  {
   "cell_type": "code",
   "execution_count": null,
   "id": "2e54908b",
   "metadata": {},
   "outputs": [],
   "source": [
    "int(-1)  # legal"
   ]
  },
  {
   "cell_type": "code",
   "execution_count": null,
   "id": "288448c3",
   "metadata": {},
   "outputs": [],
   "source": [
    "int(1.0-1e-5)  # legal, but maybe risky!"
   ]
  },
  {
   "cell_type": "code",
   "execution_count": null,
   "id": "9a38b160",
   "metadata": {},
   "outputs": [],
   "source": [
    "from math import floor, ceil\n",
    "print(floor(1.0-1e-5), ceil(1.0-1e-5))  # safer!"
   ]
  },
  {
   "cell_type": "code",
   "execution_count": null,
   "id": "b69f0737",
   "metadata": {},
   "outputs": [],
   "source": [
    "int(1+0j)  # TypeError! what are we supposed to do with the imaginary part?"
   ]
  },
  {
   "cell_type": "markdown",
   "id": "644fe0ab",
   "metadata": {},
   "source": [
    "## Comparison operators"
   ]
  },
  {
   "cell_type": "markdown",
   "id": "eb8cdc34",
   "metadata": {},
   "source": [
    "<table class=\"docutils align-default\">\n",
    "<colgroup>\n",
    "<col style=\"width: 32%\" />\n",
    "<col style=\"width: 68%\" />\n",
    "</colgroup>\n",
    "<thead>\n",
    "<tr class=\"row-odd\"><th class=\"head\"><p>Operation</p></th>\n",
    "<th class=\"head\"><p>Meaning</p></th>\n",
    "</tr>\n",
    "</thead>\n",
    "<tbody>\n",
    "<tr class=\"row-even\"><td><p><code class=\"docutils literal notranslate\"><span class=\"pre\">&lt;</span></code></p></td>\n",
    "<td><p>strictly less than</p></td>\n",
    "</tr>\n",
    "<tr class=\"row-odd\"><td><p><code class=\"docutils literal notranslate\"><span class=\"pre\">&lt;=</span></code></p></td>\n",
    "<td><p>less than or equal</p></td>\n",
    "</tr>\n",
    "<tr class=\"row-even\"><td><p><code class=\"docutils literal notranslate\"><span class=\"pre\">&gt;</span></code></p></td>\n",
    "<td><p>strictly greater than</p></td>\n",
    "</tr>\n",
    "<tr class=\"row-odd\"><td><p><code class=\"docutils literal notranslate\"><span class=\"pre\">&gt;=</span></code></p></td>\n",
    "<td><p>greater than or equal</p></td>\n",
    "</tr>\n",
    "<tr class=\"row-even\"><td><p><code class=\"docutils literal notranslate\"><span class=\"pre\">==</span></code></p></td>\n",
    "<td><p>equal</p></td>\n",
    "</tr>\n",
    "<tr class=\"row-odd\"><td><p><code class=\"docutils literal notranslate\"><span class=\"pre\">!=</span></code></p></td>\n",
    "<td><p>not equal</p></td>\n",
    "</tr>\n",
    "<tr class=\"row-even\"><td><p><code class=\"docutils literal notranslate\"><span class=\"pre\">is</span></code></p></td>\n",
    "<td><p>object identity</p></td>\n",
    "</tr>\n",
    "<tr class=\"row-odd\"><td><p><code class=\"docutils literal notranslate\"><span class=\"pre\">is</span> <span class=\"pre\">not</span></code></p></td>\n",
    "<td><p>negated object identity</p></td>\n",
    "</tr>\n",
    "</tbody>\n",
    "</table>"
   ]
  },
  {
   "cell_type": "code",
   "execution_count": null,
   "id": "dee45ce2",
   "metadata": {},
   "outputs": [],
   "source": [
    "1 == 1  # True"
   ]
  },
  {
   "cell_type": "code",
   "execution_count": null,
   "id": "7cbc7fe0",
   "metadata": {},
   "outputs": [],
   "source": [
    "1 == 2  # False"
   ]
  },
  {
   "cell_type": "code",
   "execution_count": null,
   "id": "c26dcb83",
   "metadata": {},
   "outputs": [],
   "source": [
    "1 == 1.0  # True, same value"
   ]
  },
  {
   "cell_type": "code",
   "execution_count": null,
   "id": "a2140db3",
   "metadata": {},
   "outputs": [],
   "source": [
    "x = 1\n",
    "y = 1\n",
    "z = 1.0"
   ]
  },
  {
   "cell_type": "code",
   "execution_count": null,
   "id": "c5b19516",
   "metadata": {},
   "outputs": [],
   "source": [
    "x is y  # True, same object"
   ]
  },
  {
   "cell_type": "code",
   "execution_count": null,
   "id": "eecb0c33",
   "metadata": {},
   "outputs": [],
   "source": [
    "x is z  # False, different objects!"
   ]
  },
  {
   "cell_type": "markdown",
   "id": "cddea2f7",
   "metadata": {},
   "source": [
    "Comparison operations return either `True` or `False` (notice the capital \"T\" and \"F\"!)\n",
    "\n",
    "`True` or `False` are `bool` types, a subclass of the `int` type.\n",
    "\n",
    "By the way, the type of an object can be tested by passing it to the `type` function. To test whether an object is of a certain type, use the `isinstance` function."
   ]
  },
  {
   "cell_type": "code",
   "execution_count": null,
   "id": "9fde3181",
   "metadata": {},
   "outputs": [],
   "source": [
    "type(False)"
   ]
  },
  {
   "cell_type": "code",
   "execution_count": null,
   "id": "edca5c37",
   "metadata": {},
   "outputs": [],
   "source": [
    "type(1.05)"
   ]
  },
  {
   "cell_type": "code",
   "execution_count": null,
   "id": "43ea44fa",
   "metadata": {},
   "outputs": [],
   "source": [
    "type(\"hello world\")"
   ]
  },
  {
   "cell_type": "code",
   "execution_count": null,
   "id": "ae82b496",
   "metadata": {},
   "outputs": [],
   "source": [
    "type(None)"
   ]
  },
  {
   "cell_type": "code",
   "execution_count": null,
   "id": "2fe6ab74",
   "metadata": {},
   "outputs": [],
   "source": [
    "type([])"
   ]
  },
  {
   "cell_type": "code",
   "execution_count": null,
   "id": "4b38f569",
   "metadata": {},
   "outputs": [],
   "source": [
    "isinstance(1, int)"
   ]
  },
  {
   "cell_type": "code",
   "execution_count": null,
   "id": "98462c60",
   "metadata": {},
   "outputs": [],
   "source": [
    "isinstance(\"hello world\", list)"
   ]
  },
  {
   "cell_type": "markdown",
   "id": "4729df82",
   "metadata": {},
   "source": [
    "## The `while` statement: indefinite iteration\n",
    "The `while` statement is one way of controlling the flow of execution of a program."
   ]
  },
  {
   "cell_type": "code",
   "execution_count": null,
   "id": "62e4c3bc",
   "metadata": {},
   "outputs": [],
   "source": [
    "while expr:\n",
    "    suite\n",
    "else:\n",
    "    termination suite\n",
    "other code"
   ]
  },
  {
   "cell_type": "code",
   "execution_count": null,
   "id": "8b806d25",
   "metadata": {},
   "outputs": [],
   "source": [
    "# sum the integers from 0 to 5\n",
    "total = 0\n",
    "value = 0\n",
    "maximum_value = 5\n",
    "\n",
    "while value <= maximum_value:\n",
    "    total = total + value\n",
    "    value = value + 1\n",
    "else:\n",
    "    print(value)\n",
    "\n",
    "print(total)"
   ]
  },
  {
   "cell_type": "markdown",
   "id": "27503f34",
   "metadata": {},
   "source": [
    "`while` tests the truth value of `expr`, executing `suite` if `expr` is truthy, and skipping to `other code` if it is falsy.\n",
    "\n",
    "How is the truth value of an expression determined?\n",
    "***\n",
    "<ul class=\"simple\" id=\"index-3\">\n",
    "<li><p>constants defined to be false: <code class=\"docutils literal notranslate\"><span class=\"pre\">None</span></code> and <code class=\"docutils literal notranslate\"><span class=\"pre\">False</span></code>.</p></li>\n",
    "<li><p>zero of any numeric type: <code class=\"docutils literal notranslate\"><span class=\"pre\">0</span></code>, <code class=\"docutils literal notranslate\"><span class=\"pre\">0.0</span></code>, <code class=\"docutils literal notranslate\"><span class=\"pre\">0j</span></code>, <code class=\"docutils literal notranslate\"><span class=\"pre\">Decimal(0)</span></code>,\n",
    "<code class=\"docutils literal notranslate\"><span class=\"pre\">Fraction(0,</span> <span class=\"pre\">1)</span></code></p></li>\n",
    "<li><p>empty sequences and collections: <code class=\"docutils literal notranslate\"><span class=\"pre\">''</span></code>, <code class=\"docutils literal notranslate\"><span class=\"pre\">()</span></code>, <code class=\"docutils literal notranslate\"><span class=\"pre\">[]</span></code>, <code class=\"docutils literal notranslate\"><span class=\"pre\">{}</span></code>, <code class=\"docutils literal notranslate\"><span class=\"pre\">set()</span></code>,\n",
    "<code class=\"docutils literal notranslate\"><span class=\"pre\">range(0)</span></code></p></li>\n",
    "</ul>\n",
    "\n",
    "\n",
    "***\n",
    "Pretty much everything else is true."
   ]
  },
  {
   "cell_type": "code",
   "execution_count": null,
   "id": "89c8b826",
   "metadata": {},
   "outputs": [],
   "source": [
    "# which means we can do this:\n",
    "total = 0\n",
    "maximum_value = 5\n",
    "\n",
    "while maximum_value > 0:\n",
    "    total = total + maximum_value\n",
    "    maximum_value = maximum_value - 1\n",
    "\n",
    "print(total)\n",
    "# ...although we probably shouldn't."
   ]
  },
  {
   "cell_type": "markdown",
   "id": "df55f9f7",
   "metadata": {},
   "source": [
    "This means potentially suprising results for the boolean operators `and`, `or`, and `not`:"
   ]
  },
  {
   "cell_type": "code",
   "execution_count": null,
   "id": "d9c71083",
   "metadata": {},
   "outputs": [],
   "source": [
    "5 and 6  # returns 6!!"
   ]
  },
  {
   "cell_type": "code",
   "execution_count": null,
   "id": "3d93399f",
   "metadata": {},
   "outputs": [],
   "source": [
    "0.0 and True  # returns 0.0!!"
   ]
  },
  {
   "cell_type": "markdown",
   "id": "387bc82a",
   "metadata": {},
   "source": [
    "## factorial\n",
    "Now you can implement the meat of the above factorial function!"
   ]
  },
  {
   "cell_type": "code",
   "execution_count": null,
   "id": "46f26724",
   "metadata": {},
   "outputs": [],
   "source": [
    "# compute 23! - 21!\n",
    "\n",
    "n = 23\n",
    "n_factorial_23 = 1\n",
    "while n > 1:\n",
    "    n_factorial_23 = n_factorial_23 * n\n",
    "    n = n -1\n",
    "print(n_factorial_23)\n",
    "\n",
    "n = 21\n",
    "n_factorial_21 = 1\n",
    "while n > 1:\n",
    "    n_factorial_21 = n_factorial_21 * n\n",
    "    n = n -1\n",
    "print(n_factorial_21)\n",
    "\n",
    "print(n_factorial_23 - n_factorial_21)"
   ]
  },
  {
   "cell_type": "markdown",
   "id": "33f9db5c",
   "metadata": {},
   "source": [
    "## Functions\n",
    "### Defining functions\n",
    "Repeating code this way is not only verbose but dangerous.\n",
    "\n",
    "It is better to write frequently-used code as *functions*."
   ]
  },
  {
   "cell_type": "code",
   "execution_count": null,
   "id": "44110da8",
   "metadata": {},
   "outputs": [],
   "source": [
    "def function_name(argument_list):  # function definition statement\n",
    "    suite  # function body\n",
    "    return return_list  # return statement, optional"
   ]
  },
  {
   "cell_type": "code",
   "execution_count": null,
   "id": "843a0aae",
   "metadata": {},
   "outputs": [],
   "source": [
    "# function to compute the square of a number\n",
    "def square(x):\n",
    "    return x * x"
   ]
  },
  {
   "cell_type": "code",
   "execution_count": null,
   "id": "2196ef54",
   "metadata": {},
   "outputs": [],
   "source": [
    "square"
   ]
  },
  {
   "cell_type": "code",
   "execution_count": null,
   "id": "3745262c",
   "metadata": {},
   "outputs": [],
   "source": [
    "square(3)"
   ]
  },
  {
   "cell_type": "code",
   "execution_count": null,
   "id": "9c878be2",
   "metadata": {},
   "outputs": [],
   "source": [
    "# function to compute the product of two numbers\n",
    "def product(x, y):\n",
    "    return x * y"
   ]
  },
  {
   "cell_type": "code",
   "execution_count": null,
   "id": "e94e491f",
   "metadata": {},
   "outputs": [],
   "source": [
    "product(3, 4)"
   ]
  },
  {
   "cell_type": "code",
   "execution_count": null,
   "id": "c15dd6ce",
   "metadata": {},
   "outputs": [],
   "source": [
    "# function to the norm of two numbers\n",
    "def norm(x, y, n=2):\n",
    "    return (x**n + y**n)**(1/n)"
   ]
  },
  {
   "cell_type": "code",
   "execution_count": null,
   "id": "977ce4dc",
   "metadata": {},
   "outputs": [],
   "source": [
    "norm(3, 4)"
   ]
  },
  {
   "cell_type": "code",
   "execution_count": null,
   "id": "f9213a4c",
   "metadata": {},
   "outputs": [],
   "source": [
    "norm(3, 4, 2)"
   ]
  },
  {
   "cell_type": "code",
   "execution_count": null,
   "id": "edf851ce",
   "metadata": {},
   "outputs": [],
   "source": [
    "norm(3, 4, n=2)"
   ]
  },
  {
   "cell_type": "code",
   "execution_count": null,
   "id": "73b08033",
   "metadata": {},
   "outputs": [],
   "source": [
    "norm(y=4, n=2, x=3)  # legal, but ugly and confusing"
   ]
  },
  {
   "cell_type": "code",
   "execution_count": null,
   "id": "c78f56ef",
   "metadata": {},
   "outputs": [],
   "source": [
    "norm(x=3, n=2)  # TypeError"
   ]
  },
  {
   "cell_type": "code",
   "execution_count": null,
   "id": "77ce22aa",
   "metadata": {},
   "outputs": [],
   "source": [
    "norm(n=2, 3, 4)  # SyntaxError"
   ]
  },
  {
   "cell_type": "code",
   "execution_count": null,
   "id": "bd3e1f6e",
   "metadata": {},
   "outputs": [],
   "source": [
    "norm(x=3, y=4, n=2) # best practice"
   ]
  },
  {
   "cell_type": "markdown",
   "id": "ca81c934",
   "metadata": {},
   "source": [
    "Python has many built-in functions that are available in any Python shell.\n",
    "\n",
    "We have already seen `print`, `type`, `int`, `float`, and `complex`; for a full list, see the <a href=https://docs.python.org/3/library/functions.html>documentation</a>."
   ]
  },
  {
   "cell_type": "markdown",
   "id": "3158637e",
   "metadata": {},
   "source": [
    "### Type hints\n",
    "As long as you have the right number of arguments, python will attempt to call a function with whatever (potentially nonsense) values you supply to it."
   ]
  },
  {
   "cell_type": "code",
   "execution_count": null,
   "id": "2840ffa9",
   "metadata": {},
   "outputs": [],
   "source": [
    "def product(x: float, y: float) -> float:\n",
    "    return x * y\n",
    "\n",
    "help(product)"
   ]
  },
  {
   "cell_type": "markdown",
   "id": "7ccb55e5",
   "metadata": {},
   "source": [
    "Type hints let other people know which types a function expects as its arguments.\n",
    "\n",
    "They also allow the IDE to give you warnings if the types don't match the hints!"
   ]
  },
  {
   "cell_type": "markdown",
   "id": "b56fe9cc",
   "metadata": {},
   "source": [
    "## Modules\n",
    "As we write more and more functions, our code becomes difficult to understand.\n",
    "\n",
    "One way to mitigate this problem is to modularise our code, keeping similar functions in `modules`.\n",
    "\n",
    "Functions and other objects can be imported from modules using the `import` statement."
   ]
  },
  {
   "cell_type": "code",
   "execution_count": null,
   "id": "7538d87c",
   "metadata": {},
   "outputs": [],
   "source": [
    "# this part is a bit tricky to demonstrate in a notebook\n",
    "# make a new file called \"mymath.py\" in the same directory as this notebook\n",
    "# and copy the square & product functions to it.\n",
    "\n",
    "import my_math\n",
    "my_math.product"
   ]
  },
  {
   "cell_type": "code",
   "execution_count": null,
   "id": "16503309",
   "metadata": {},
   "outputs": [],
   "source": [
    "from my_math import square\n",
    "square"
   ]
  },
  {
   "cell_type": "code",
   "execution_count": null,
   "id": "0746e371",
   "metadata": {},
   "outputs": [],
   "source": [
    "from my_math import product as myproduct\n",
    "myproduct(3, 4)"
   ]
  },
  {
   "cell_type": "markdown",
   "id": "a08946d6",
   "metadata": {},
   "source": [
    "The Python standard library not only includes readily-available functions like `print` and `int`, but also a variety of modules containing useful functionality, such as `math` and `itertools`.\n",
    "\n",
    "For a full list, see the <a href=https://docs.python.org/3/library/index.html>documentation</a>."
   ]
  },
  {
   "cell_type": "code",
   "execution_count": null,
   "id": "5e762da3",
   "metadata": {},
   "outputs": [],
   "source": [
    "# math example\n",
    "from math import sin, pi"
   ]
  },
  {
   "cell_type": "code",
   "execution_count": null,
   "id": "f4aaa1a7",
   "metadata": {},
   "outputs": [],
   "source": [
    "sin"
   ]
  },
  {
   "cell_type": "code",
   "execution_count": null,
   "id": "7eb7b744",
   "metadata": {},
   "outputs": [],
   "source": [
    "pi"
   ]
  },
  {
   "cell_type": "code",
   "execution_count": null,
   "id": "b793c3c5",
   "metadata": {},
   "outputs": [],
   "source": [
    "sin(pi/2)"
   ]
  },
  {
   "cell_type": "markdown",
   "id": "0f7bd391",
   "metadata": {},
   "source": [
    "## The `if` statement\n",
    "`if` statements are another way to control the flow of a program."
   ]
  },
  {
   "cell_type": "code",
   "execution_count": null,
   "id": "33da17f5",
   "metadata": {},
   "outputs": [],
   "source": [
    "if expression1:\n",
    "    suite1\n",
    "elif expression2:\n",
    "    suite2\n",
    "    ...\n",
    "elif expressionY:\n",
    "    suiteY\n",
    "else:\n",
    "    suiteZ\n",
    "other code"
   ]
  },
  {
   "cell_type": "code",
   "execution_count": null,
   "id": "33d287c4",
   "metadata": {},
   "outputs": [],
   "source": [
    "# fizz buzz\n",
    "def fizzbuzz(n: int) -> int | str:\n",
    "    if n % 3 == 0 and n % 5 == 0:\n",
    "        return \"fizzbuzz\"\n",
    "    elif n % 3 == 0:\n",
    "        return \"fizz\"\n",
    "    elif n % 5 == 0:\n",
    "        return \"buzz\"\n",
    "    else:\n",
    "        return n"
   ]
  },
  {
   "cell_type": "code",
   "execution_count": null,
   "id": "8803e90b",
   "metadata": {},
   "outputs": [],
   "source": [
    "fizzbuzz(1)"
   ]
  },
  {
   "cell_type": "code",
   "execution_count": null,
   "id": "fd571cfe",
   "metadata": {},
   "outputs": [],
   "source": [
    "fizzbuzz(3)"
   ]
  },
  {
   "cell_type": "code",
   "execution_count": null,
   "id": "6ca25d49",
   "metadata": {},
   "outputs": [],
   "source": [
    "fizzbuzz(5)"
   ]
  },
  {
   "cell_type": "code",
   "execution_count": null,
   "id": "14d2b935",
   "metadata": {},
   "outputs": [],
   "source": [
    "fizzbuzz(15)"
   ]
  },
  {
   "cell_type": "markdown",
   "id": "d25d9de3",
   "metadata": {},
   "source": [
    "### `continue` and `break`\n",
    "The `continue` and `break` statements are used to implement more complex control flow in loops."
   ]
  },
  {
   "cell_type": "code",
   "execution_count": null,
   "id": "83ef7729",
   "metadata": {},
   "outputs": [],
   "source": [
    "# fizz buzz, but be choosy\n",
    "n = 0\n",
    "\n",
    "while n < 20:\n",
    "    n = n + 1\n",
    "    fb = fizzbuzz(n)\n",
    "    if fb == \"fizz\":\n",
    "        continue \n",
    "    print(n, fb)\n",
    "    n = n + 1\n",
    "else:\n",
    "    print(\"I didn't break\")"
   ]
  },
  {
   "cell_type": "markdown",
   "id": "2dd60cb5",
   "metadata": {},
   "source": [
    "## Exception handling\n",
    "An exception is not a Python (syntax) error, but something that the programmer his or herself has decided is not ok: something they take exception to."
   ]
  },
  {
   "cell_type": "code",
   "execution_count": null,
   "id": "8670990b",
   "metadata": {},
   "outputs": [],
   "source": [
    "# use a raise statement to bring up an exception\n",
    "raise exception_class(\"error_message\")"
   ]
  },
  {
   "cell_type": "markdown",
   "id": "f6754b28",
   "metadata": {},
   "source": [
    "We use `raise` statements in the factorial function when the input `n` is not in the domain of the function."
   ]
  },
  {
   "cell_type": "code",
   "execution_count": null,
   "id": "3a8ab779",
   "metadata": {},
   "outputs": [],
   "source": [
    "# from the factorial function:\n",
    "\n",
    "def factorial(n: int) -> int:  # function definition statement\n",
    "    \"\"\" ... \"\"\"\n",
    "    if not isinstance(n, int):\n",
    "        raise TypeError(\"n is not an integer\")  # raise statement\n",
    "    elif n < 0:  # if statement\n",
    "        raise ValueError(\"n! is undefined for n less than zero\")  # raise statement\n",
    "\n",
    "    n_factorial = 1  # assignment statement\n",
    "\n",
    "    while n > 1:  # while statement\n",
    "        n_factorial = n_factorial * n  # assignment statement\n",
    "        n = n - 1  # assignment statement\n",
    "\n",
    "    return n_factorial  # return statement\n"
   ]
  },
  {
   "cell_type": "code",
   "execution_count": null,
   "id": "81baeba1",
   "metadata": {},
   "outputs": [],
   "source": [
    "\"hello world!\" < 0"
   ]
  },
  {
   "cell_type": "markdown",
   "id": "878f6c3f",
   "metadata": {},
   "source": [
    "Let's disable the exceptions and see what kind of trouble we can get into."
   ]
  },
  {
   "cell_type": "code",
   "execution_count": null,
   "id": "7328e75f",
   "metadata": {},
   "outputs": [],
   "source": [
    "def factorial(n: int) -> int:  # function definition statement\n",
    "    \"\"\" ... \"\"\"\n",
    "    if not isinstance(n, int):\n",
    "        raise TypeError(\"n is not an integer\")  # raise statement\n",
    "    elif n < 0:  # if statement\n",
    "        raise ValueError(\"n! is undefined for n less than zero\")  # raise statement\n",
    "\n",
    "    n_factorial = 1  # assignment statement\n",
    "\n",
    "    while n > 1:  # while statement\n",
    "        n_factorial = n_factorial * n  # assignment statement\n",
    "        n = n - 1  # assignment statement\n",
    "\n",
    "    return n_factorial  # return statement\n"
   ]
  },
  {
   "cell_type": "code",
   "execution_count": null,
   "id": "9179be67",
   "metadata": {},
   "outputs": [],
   "source": [
    "factorial(10)"
   ]
  },
  {
   "cell_type": "code",
   "execution_count": null,
   "id": "55a2e1f5",
   "metadata": {},
   "outputs": [],
   "source": [
    "factorial(-10)"
   ]
  },
  {
   "cell_type": "code",
   "execution_count": null,
   "id": "735ca581",
   "metadata": {},
   "outputs": [],
   "source": [
    "factorial(3.141)"
   ]
  },
  {
   "cell_type": "code",
   "execution_count": null,
   "id": "5b972de2",
   "metadata": {},
   "outputs": [],
   "source": [
    "factorial(\"pi\")"
   ]
  },
  {
   "cell_type": "markdown",
   "id": "ba6a0f88",
   "metadata": {},
   "source": [
    "## Documentation tests and docstrings\n",
    "The doctest module searches for pieces of text that look like interactive Python sessions, and then\n",
    "executes those sessions to verify that they work exactly as shown. If your tests fail, then either\n",
    "1. your docstring needs to be updated, or\n",
    "2. your code no longer works properly.\n",
    "\n",
    "Writing good documentation may seem like a hassle now, but it saves a lot of time in the long run.\n",
    "Best practice is to write a docstring and doctests before you implement your function! That way, you have\n",
    "a clear statement of how your function should behave in a variety of circumstances, and can periodically\n",
    "check your progress with the doctest module."
   ]
  },
  {
   "cell_type": "code",
   "execution_count": null,
   "id": "7edd3a77",
   "metadata": {},
   "outputs": [],
   "source": [
    "def factorial(n: int) -> int:  # function definition statement\n",
    "    \"\"\"\n",
    "\n",
    "    evaluates n! = n * (n - 1) * ... * 2 * 1\n",
    "    0! evaluates to 1\n",
    "\n",
    "    >>> factorial(0)\n",
    "    1\n",
    "\n",
    "    >>> factorial(10)\n",
    "    3628800\n",
    "\n",
    "    >>> factorial(-1)\n",
    "    Traceback (most recent call last):\n",
    "    ValueError: n! is undefined for n less than zero\n",
    "\n",
    "    >>> factorial(3.141)\n",
    "    Traceback (most recent call last):\n",
    "    TypeError: n is not an integer\n",
    "\n",
    "    \"\"\"\n",
    "\n",
    "    if not isinstance(n, int):\n",
    "        raise TypeError(\"n is not an integer\")  # raise statement\n",
    "    elif n < 0:  # if statement\n",
    "        raise ValueError(\"n! is undefined for n less than zero\")  # raise statement\n",
    "\n",
    "    n_factorial = 1  # assignment statement\n",
    "\n",
    "    while n > 1:  # while statement\n",
    "        n_factorial = n_factorial * n  # assignment statement\n",
    "        n = n - 1  # assignment statement\n",
    "\n",
    "    return n_factorial  # return statement\n",
    "\n",
    "\n",
    "if __name__ == \"__main__\":\n",
    "    import doctest\n",
    "    doctest.testmod(verbose=True)"
   ]
  },
  {
   "cell_type": "markdown",
   "id": "41699a04",
   "metadata": {},
   "source": [
    "Doctests should be formatted exactly as they would appear in a console session, including the `>>>` prompt.\n",
    "\n",
    "Only the first and last lines of error output should be included."
   ]
  },
  {
   "cell_type": "code",
   "execution_count": null,
   "id": "ee98838b",
   "metadata": {},
   "outputs": [],
   "source": [
    "def factorial(n: int) -> int:\n",
    "    \"\"\"\n",
    "    >>> expression  # an expression that should return a value\n",
    "    value\n",
    "    \n",
    "    >>> expression  # an expression that should raise an exception\n",
    "    Traceback (most recent call last):  # include only the first\n",
    "    Error: error message                # and last lines of the error output\n",
    "    \n",
    "    \"\"\"\n",
    "    ..."
   ]
  },
  {
   "cell_type": "code",
   "execution_count": null,
   "id": "f9402318",
   "metadata": {},
   "outputs": [],
   "source": [
    "# error-free examples are transcribed verbatim:\n",
    "\n",
    ">>> factorial(10)\n",
    "3628800\n",
    "\n",
    "def factorial(n: int) -> int:\n",
    "    \"\"\"\n",
    "    >>> factorial(10)\n",
    "    3628800\n",
    "    \"\"\""
   ]
  },
  {
   "cell_type": "code",
   "execution_count": null,
   "id": "b1a694a3",
   "metadata": {},
   "outputs": [],
   "source": [
    "# in the case of errorful examples,\n",
    "# the output to console make look like so:\n",
    "\n",
    ">>> factorial(3.141)\n",
    "Traceback (most recent call last):\n",
    "  File \"<stdin>\", line 1, in <module>\n",
    "  File \"/home/compphys/compphys22-23/mymath.py\", line 73, in factorial\n",
    "    raise TypeError(\"n is not an integer\")  # raise statement\n",
    "TypeError: n is not an integer\n",
    "\n",
    "# but only the first and last lines are constant;\n",
    "# the callstack depends on the specific program,\n",
    "# so we omit it in the doctest\n",
    "\n",
    "def factorial(n: int) -> int:\n",
    "    \"\"\"\n",
    "    >>> factorial(3.141)\n",
    "    Traceback (most recent call last):  # this line is always the same \n",
    "    TypeError: n is not an integer\n",
    "    \"\"\""
   ]
  },
  {
   "cell_type": "markdown",
   "id": "30f415c5",
   "metadata": {},
   "source": [
    "You can also run doctests from the command line, or from within PyCharm.\n",
    "\n",
    "Put the fizzbuzz and factorial functions in file, `mymath.py`, and run the following command from the same directory:\n",
    "\n",
    "`python -m doctest --verbose mymath.py`\n",
    "\n",
    "Alternatively, in PyCharm, right-click on a doctest and choose, `Run 'Doctest <function>'`."
   ]
  },
  {
   "cell_type": "markdown",
   "id": "6fe13fe9",
   "metadata": {},
   "source": [
    "## Exercise: the Collatz Conjecture\n",
    "The Collatz sequence:\n",
    "\n",
    "- $x_{n+1} = \\frac{1}{2}x_{n} $ if $x_{n}$ is even;\n",
    "- $x_{n+1} = 3x_{n}+1 $ if $x_{n}$ is odd.\n",
    "\n",
    "The Collatz conjecture:\n",
    "\n",
    "- for any $x_{0} \\in \\mathbb{Z}^{+}$, the Collatz sequence converges to 1.\n",
    "***\n",
    "Write a function that takes an initial value $x_{0}$ and returns the length of the sequence generated, *i.e.*, $n$ when $x_{n}=1$.\n",
    "\n",
    "Write a docstring with doctests you write the code, and handle bad input appropriately."
   ]
  },
  {
   "cell_type": "code",
   "execution_count": null,
   "id": "9fd90a32",
   "metadata": {
    "pycharm": {
     "is_executing": true
    }
   },
   "outputs": [],
   "source": [
    "# Collatz sequence code\n",
    "\n",
    "def collatz_sequence(n: int) -> int:\n",
    "    \"\"\"\n",
    "    compute the length of the Collatz sequence starting at n.\n",
    "    \n",
    "    \"\"\""
   ]
  },
  {
   "cell_type": "markdown",
   "id": "542078cd",
   "metadata": {},
   "source": [
    "## Sequence types: `list`, `tuple`, `range`\n",
    "Ordered sequences to represent relationships between data."
   ]
  },
  {
   "cell_type": "markdown",
   "id": "29e8bf16",
   "metadata": {},
   "source": [
    "### `range`: ordered, immutable sequence of numbers\n",
    "`range(start, stop, step)`\n",
    "\n",
    "`range(n)` -> `range(0, n, 1)`\n",
    "\n",
    "`range(n, m)` -> `range(n, m, 1)`\n",
    "\n",
    "`range(n, m, s)` -> `range(n, m, s)`"
   ]
  },
  {
   "cell_type": "code",
   "execution_count": null,
   "id": "b5a0b2eb",
   "metadata": {},
   "outputs": [],
   "source": [
    "range(10)"
   ]
  },
  {
   "cell_type": "code",
   "execution_count": null,
   "id": "3822902d",
   "metadata": {},
   "outputs": [],
   "source": [
    "range(2,10)"
   ]
  },
  {
   "cell_type": "code",
   "execution_count": null,
   "id": "c41698ae",
   "metadata": {},
   "outputs": [],
   "source": [
    "range(2,10,2)"
   ]
  },
  {
   "cell_type": "markdown",
   "id": "ea4a11eb",
   "metadata": {},
   "source": [
    "### `tuple`: ordered, immutable sequence\n",
    "A tuple literal is written as a sequence of comma separated values in parentheses.\n",
    "\n",
    "The one-tuple must include a terminating comma.\n",
    "\n",
    "Other sequence types can be converted to tuples using the `tuple` function."
   ]
  },
  {
   "cell_type": "code",
   "execution_count": null,
   "id": "a1703475",
   "metadata": {},
   "outputs": [],
   "source": [
    "(2, 4, 6, 8)"
   ]
  },
  {
   "cell_type": "code",
   "execution_count": null,
   "id": "e37bb173",
   "metadata": {},
   "outputs": [],
   "source": [
    "tuple(range(2, 10, 2))"
   ]
  },
  {
   "cell_type": "code",
   "execution_count": null,
   "id": "b0e4ddb5",
   "metadata": {},
   "outputs": [],
   "source": [
    "()"
   ]
  },
  {
   "cell_type": "code",
   "execution_count": null,
   "id": "64b79928",
   "metadata": {},
   "outputs": [],
   "source": [
    "type((10))"
   ]
  },
  {
   "cell_type": "code",
   "execution_count": null,
   "id": "70869850",
   "metadata": {},
   "outputs": [],
   "source": [
    "type((10,))"
   ]
  },
  {
   "cell_type": "code",
   "execution_count": null,
   "id": "cfeca303",
   "metadata": {},
   "outputs": [],
   "source": [
    "(10) != (10,)"
   ]
  },
  {
   "cell_type": "markdown",
   "id": "9bb2ceab",
   "metadata": {},
   "source": [
    "### Some common sequence operations\n",
    "<table class=\"docutils align-default\" id=\"index-19\">\n",
    "<colgroup>\n",
    "<col style=\"width: 38%\" />\n",
    "<col style=\"width: 47%\" />\n",
    "<col style=\"width: 15%\" />\n",
    "</colgroup>\n",
    "<thead>\n",
    "<tr class=\"row-odd\"><th class=\"head\"><p>Operation</p></th>\n",
    "<th class=\"head\"><p>Result</p></th>\n",
    "<th class=\"head\"><p>Notes</p></th>\n",
    "</tr>\n",
    "</thead>\n",
    "<tbody>\n",
    "<tr class=\"row-even\"><td><p><code class=\"docutils literal notranslate\"><span class=\"pre\">x</span> <span class=\"pre\">in</span> <span class=\"pre\">s</span></code></p></td>\n",
    "<td><p><code class=\"docutils literal notranslate\"><span class=\"pre\">True</span></code> if an item of <em>s</em> is\n",
    "equal to <em>x</em>, else <code class=\"docutils literal notranslate\"><span class=\"pre\">False</span></code></p></td>\n",
    "<td><p>(1)</p></td>\n",
    "</tr>\n",
    "<tr class=\"row-odd\"><td><p><code class=\"docutils literal notranslate\"><span class=\"pre\">x</span> <span class=\"pre\">not</span> <span class=\"pre\">in</span> <span class=\"pre\">s</span></code></p></td>\n",
    "<td><p><code class=\"docutils literal notranslate\"><span class=\"pre\">False</span></code> if an item of <em>s</em> is\n",
    "equal to <em>x</em>, else <code class=\"docutils literal notranslate\"><span class=\"pre\">True</span></code></p></td>\n",
    "<td><p>(1)</p></td>\n",
    "</tr>\n",
    "<tr class=\"row-even\"><td><p><code class=\"docutils literal notranslate\"><span class=\"pre\">s</span> <span class=\"pre\">+</span> <span class=\"pre\">t</span></code></p></td>\n",
    "<td><p>the concatenation of <em>s</em> and\n",
    "<em>t</em></p></td>\n",
    "<td><p>(6)(7)</p></td>\n",
    "</tr>\n",
    "<tr class=\"row-odd\"><td><p><code class=\"docutils literal notranslate\"><span class=\"pre\">s</span> <span class=\"pre\">*</span> <span class=\"pre\">n</span></code> or\n",
    "<code class=\"docutils literal notranslate\"><span class=\"pre\">n</span> <span class=\"pre\">*</span> <span class=\"pre\">s</span></code></p></td>\n",
    "<td><p>equivalent to adding <em>s</em> to\n",
    "itself <em>n</em> times</p></td>\n",
    "<td><p>(2)(7)</p></td>\n",
    "</tr>\n",
    "<tr class=\"row-even\"><td><p><code class=\"docutils literal notranslate\"><span class=\"pre\">s[i]</span></code></p></td>\n",
    "<td><p><em>i</em>th item of <em>s</em>, origin 0</p></td>\n",
    "<td><p>(3)</p></td>\n",
    "</tr>\n",
    "<tr class=\"row-odd\"><td><p><code class=\"docutils literal notranslate\"><span class=\"pre\">s[i:j]</span></code></p></td>\n",
    "<td><p>slice of <em>s</em> from <em>i</em> to <em>j</em></p></td>\n",
    "<td><p>(3)(4)</p></td>\n",
    "</tr>\n",
    "<tr class=\"row-even\"><td><p><code class=\"docutils literal notranslate\"><span class=\"pre\">s[i:j:k]</span></code></p></td>\n",
    "<td><p>slice of <em>s</em> from <em>i</em> to <em>j</em>\n",
    "with step <em>k</em></p></td>\n",
    "<td><p>(3)(5)</p></td>\n",
    "</tr>\n",
    "<tr class=\"row-odd\"><td><p><code class=\"docutils literal notranslate\"><span class=\"pre\">len(s)</span></code></p></td>\n",
    "<td><p>length of <em>s</em></p></td>\n",
    "<td></td>\n",
    "</tr>\n",
    "<tr class=\"row-even\"><td><p><code class=\"docutils literal notranslate\"><span class=\"pre\">min(s)</span></code></p></td>\n",
    "<td><p>smallest item of <em>s</em></p></td>\n",
    "<td></td>\n",
    "</tr>\n",
    "<tr class=\"row-odd\"><td><p><code class=\"docutils literal notranslate\"><span class=\"pre\">max(s)</span></code></p></td>\n",
    "<td><p>largest item of <em>s</em></p></td>\n",
    "<td></td>\n",
    "</tr>\n",
    "<tr class=\"row-even\"><td><p><code class=\"docutils literal notranslate\"><span class=\"pre\">s.index(x[,</span> <span class=\"pre\">i[,</span> <span class=\"pre\">j]])</span></code></p></td>\n",
    "<td><p>index of the first occurrence\n",
    "of <em>x</em> in <em>s</em> (at or after\n",
    "index <em>i</em> and before index <em>j</em>)</p></td>\n",
    "<td><p>(8)</p></td>\n",
    "</tr>\n",
    "<tr class=\"row-odd\"><td><p><code class=\"docutils literal notranslate\"><span class=\"pre\">s.count(x)</span></code></p></td>\n",
    "<td><p>total number of occurrences of\n",
    "<em>x</em> in <em>s</em></p></td>\n",
    "<td></td>\n",
    "</tr>\n",
    "</tbody>\n",
    "</table>"
   ]
  },
  {
   "cell_type": "code",
   "execution_count": null,
   "id": "c6f60348",
   "metadata": {},
   "outputs": [],
   "source": [
    "t = (2,4,6,8)\n",
    "4 in t"
   ]
  },
  {
   "cell_type": "code",
   "execution_count": null,
   "id": "599f471d",
   "metadata": {},
   "outputs": [],
   "source": [
    "s = (1,3,5,9)\n",
    "t + s"
   ]
  },
  {
   "cell_type": "code",
   "execution_count": null,
   "id": "528965e6",
   "metadata": {},
   "outputs": [],
   "source": [
    "2 * t"
   ]
  },
  {
   "cell_type": "code",
   "execution_count": null,
   "id": "e930eb3b",
   "metadata": {},
   "outputs": [],
   "source": [
    "t[0], t[-1], t[0:3], t[0::2]"
   ]
  },
  {
   "cell_type": "code",
   "execution_count": null,
   "id": "4ac6878c",
   "metadata": {
    "scrolled": true
   },
   "outputs": [],
   "source": [
    "t[0] = 10"
   ]
  },
  {
   "cell_type": "code",
   "execution_count": null,
   "id": "63808a87",
   "metadata": {},
   "outputs": [],
   "source": [
    "len(t), min(t), max(t), max(t, key=lambda x:-x)"
   ]
  },
  {
   "cell_type": "markdown",
   "id": "e1632fd7",
   "metadata": {},
   "source": [
    "### `str`: immutable text sequence\n",
    "Strings support all of the above operations."
   ]
  },
  {
   "cell_type": "code",
   "execution_count": null,
   "id": "ae26aa4c",
   "metadata": {},
   "outputs": [],
   "source": [
    "s = \"hello world!\"\n",
    "len(s), min(s), max(s), s.count(\"o\"), s.replace(\"o\", \"O\"), s.split(\" \"), s.split(\"o\")"
   ]
  },
  {
   "cell_type": "markdown",
   "id": "fd092549",
   "metadata": {},
   "source": [
    "### `list`: ordered, mutable sequence\n",
    "Lists are like tuples whose contents and length can be modified.\n",
    "\n",
    "Other sequence types can be converted to tuples using the `list` function."
   ]
  },
  {
   "cell_type": "code",
   "execution_count": null,
   "id": "35f04a9b",
   "metadata": {},
   "outputs": [],
   "source": [
    "[2, 4, 6, 8]"
   ]
  },
  {
   "cell_type": "code",
   "execution_count": null,
   "id": "ad75582f",
   "metadata": {},
   "outputs": [],
   "source": [
    "list(range(2,10,2))"
   ]
  },
  {
   "cell_type": "markdown",
   "id": "3661b76b",
   "metadata": {},
   "source": [
    "### Some common operations for *mutable* sequences\n",
    "<table class=\"docutils align-default\" id=\"index-23\">\n",
    "<colgroup>\n",
    "<col style=\"width: 36%\" />\n",
    "<col style=\"width: 39%\" />\n",
    "<col style=\"width: 25%\" />\n",
    "</colgroup>\n",
    "<thead>\n",
    "<tr class=\"row-odd\"><th class=\"head\"><p>Operation</p></th>\n",
    "<th class=\"head\"><p>Result</p></th>\n",
    "<th class=\"head\"><p>Notes</p></th>\n",
    "</tr>\n",
    "</thead>\n",
    "<tbody>\n",
    "<tr class=\"row-even\"><td><p><code class=\"docutils literal notranslate\"><span class=\"pre\">s[i]</span> <span class=\"pre\">=</span> <span class=\"pre\">x</span></code></p></td>\n",
    "<td><p>item <em>i</em> of <em>s</em> is replaced by\n",
    "<em>x</em></p></td>\n",
    "<td></td>\n",
    "</tr>\n",
    "<tr class=\"row-odd\"><td><p><code class=\"docutils literal notranslate\"><span class=\"pre\">s[i:j]</span> <span class=\"pre\">=</span> <span class=\"pre\">t</span></code></p></td>\n",
    "<td><p>slice of <em>s</em> from <em>i</em> to <em>j</em>\n",
    "is replaced by the contents of\n",
    "the iterable <em>t</em></p></td>\n",
    "<td></td>\n",
    "</tr>\n",
    "<tr class=\"row-even\"><td><p><code class=\"docutils literal notranslate\"><span class=\"pre\">del</span> <span class=\"pre\">s[i:j]</span></code></p></td>\n",
    "<td><p>same as <code class=\"docutils literal notranslate\"><span class=\"pre\">s[i:j]</span> <span class=\"pre\">=</span> <span class=\"pre\">[]</span></code></p></td>\n",
    "<td></td>\n",
    "</tr>\n",
    "<tr class=\"row-odd\"><td><p><code class=\"docutils literal notranslate\"><span class=\"pre\">s[i:j:k]</span> <span class=\"pre\">=</span> <span class=\"pre\">t</span></code></p></td>\n",
    "<td><p>the elements of <code class=\"docutils literal notranslate\"><span class=\"pre\">s[i:j:k]</span></code>\n",
    "are replaced by those of <em>t</em></p></td>\n",
    "<td><p>(1)</p></td>\n",
    "</tr>\n",
    "<tr class=\"row-even\"><td><p><code class=\"docutils literal notranslate\"><span class=\"pre\">del</span> <span class=\"pre\">s[i:j:k]</span></code></p></td>\n",
    "<td><p>removes the elements of\n",
    "<code class=\"docutils literal notranslate\"><span class=\"pre\">s[i:j:k]</span></code> from the list</p></td>\n",
    "<td></td>\n",
    "</tr>\n",
    "<tr class=\"row-odd\"><td><p><code class=\"docutils literal notranslate\"><span class=\"pre\">s.append(x)</span></code></p></td>\n",
    "<td><p>appends <em>x</em> to the end of the\n",
    "sequence (same as\n",
    "<code class=\"docutils literal notranslate\"><span class=\"pre\">s[len(s):len(s)]</span> <span class=\"pre\">=</span> <span class=\"pre\">[x]</span></code>)</p></td>\n",
    "<td></td>\n",
    "</tr>\n",
    "<tr class=\"row-even\"><td><p><code class=\"docutils literal notranslate\"><span class=\"pre\">s.clear()</span></code></p></td>\n",
    "<td><p>removes all items from <em>s</em>\n",
    "(same as <code class=\"docutils literal notranslate\"><span class=\"pre\">del</span> <span class=\"pre\">s[:]</span></code>)</p></td>\n",
    "<td><p>(5)</p></td>\n",
    "</tr>\n",
    "<tr class=\"row-odd\"><td><p><code class=\"docutils literal notranslate\"><span class=\"pre\">s.copy()</span></code></p></td>\n",
    "<td><p>creates a shallow copy of <em>s</em>\n",
    "(same as <code class=\"docutils literal notranslate\"><span class=\"pre\">s[:]</span></code>)</p></td>\n",
    "<td><p>(5)</p></td>\n",
    "</tr>\n",
    "<tr class=\"row-even\"><td><p><code class=\"docutils literal notranslate\"><span class=\"pre\">s.extend(t)</span></code> or\n",
    "<code class=\"docutils literal notranslate\"><span class=\"pre\">s</span> <span class=\"pre\">+=</span> <span class=\"pre\">t</span></code></p></td>\n",
    "<td><p>extends <em>s</em> with the\n",
    "contents of <em>t</em> (for the\n",
    "most part the same as\n",
    "<code class=\"docutils literal notranslate\"><span class=\"pre\">s[len(s):len(s)]</span> <span class=\"pre\">=</span> <span class=\"pre\">t</span></code>)</p></td>\n",
    "<td></td>\n",
    "</tr>\n",
    "<tr class=\"row-odd\"><td><p><code class=\"docutils literal notranslate\"><span class=\"pre\">s</span> <span class=\"pre\">*=</span> <span class=\"pre\">n</span></code></p></td>\n",
    "<td><p>updates <em>s</em> with its contents\n",
    "repeated <em>n</em> times</p></td>\n",
    "<td><p>(6)</p></td>\n",
    "</tr>\n",
    "<tr class=\"row-even\"><td><p><code class=\"docutils literal notranslate\"><span class=\"pre\">s.insert(i,</span> <span class=\"pre\">x)</span></code></p></td>\n",
    "<td><p>inserts <em>x</em> into <em>s</em> at the\n",
    "index given by <em>i</em>\n",
    "(same as <code class=\"docutils literal notranslate\"><span class=\"pre\">s[i:i]</span> <span class=\"pre\">=</span> <span class=\"pre\">[x]</span></code>)</p></td>\n",
    "<td></td>\n",
    "</tr>\n",
    "<tr class=\"row-odd\"><td><p><code class=\"docutils literal notranslate\"><span class=\"pre\">s.pop()</span></code> or <code class=\"docutils literal notranslate\"><span class=\"pre\">s.pop(i)</span></code></p></td>\n",
    "<td><p>retrieves the item at <em>i</em> and\n",
    "also removes it from <em>s</em></p></td>\n",
    "<td><p>(2)</p></td>\n",
    "</tr>\n",
    "<tr class=\"row-even\"><td><p><code class=\"docutils literal notranslate\"><span class=\"pre\">s.remove(x)</span></code></p></td>\n",
    "<td><p>remove the first item from <em>s</em>\n",
    "where <code class=\"docutils literal notranslate\"><span class=\"pre\">s[i]</span></code> is equal to <em>x</em></p></td>\n",
    "<td><p>(3)</p></td>\n",
    "</tr>\n",
    "<tr class=\"row-odd\"><td><p><code class=\"docutils literal notranslate\"><span class=\"pre\">s.reverse()</span></code></p></td>\n",
    "<td><p>reverses the items of <em>s</em> in\n",
    "place</p></td>\n",
    "<td><p>(4)</p></td>\n",
    "</tr>\n",
    "</tbody>\n",
    "</table>"
   ]
  },
  {
   "cell_type": "code",
   "execution_count": null,
   "id": "99c1d1e4",
   "metadata": {},
   "outputs": [],
   "source": [
    "l = list(range(2,10,2))\n",
    "l[0] = 10\n",
    "del l[2]\n",
    "l.append(6)\n",
    "l*=2\n",
    "l[2:4] = [1,2,3,4,5]\n",
    "l"
   ]
  },
  {
   "cell_type": "markdown",
   "id": "554d3ef1",
   "metadata": {},
   "source": [
    "### Aside: methods\n",
    "Methods are functions that belong to a object.\n",
    "\n",
    "They are invoked by the `.` operator.\n",
    "\n",
    "Methods are different from functions in that their first argument is always the object itself (`self`); otherwise, they behave in much the same way.\n",
    "\n",
    "You don't need to supply the `self` argument to the method, it happens automatically behind the scenes."
   ]
  },
  {
   "cell_type": "code",
   "execution_count": null,
   "id": "3251f9f4",
   "metadata": {},
   "outputs": [],
   "source": [
    "# sort vs. sorted\n",
    "l = [2,8,4,0]\n",
    "l2 = sorted(l, key=lambda x: -x)\n",
    "print(l, l2)\n",
    "\n",
    "l.sort(key=lambda x: x)\n",
    "print(l, l2)\n",
    "\n",
    "l3 = l\n",
    "l.sort(key=lambda x: -x)\n",
    "print(l, l3)\n",
    "\n",
    "l4 = l.copy()\n",
    "l5 = l[:]\n",
    "l.sort(key=lambda x: x**2-5*x-15)\n",
    "print(l, l3, l4, l5)"
   ]
  },
  {
   "cell_type": "markdown",
   "id": "822fc480",
   "metadata": {},
   "source": [
    "### The `for` statement: definite iteration\n",
    "We can iterate over a sequence using a `while` loop and indexing operations, but this approach can easily run into trouble."
   ]
  },
  {
   "cell_type": "code",
   "execution_count": null,
   "id": "59c91575",
   "metadata": {},
   "outputs": [],
   "source": [
    "xs = list(range(1,100))"
   ]
  },
  {
   "cell_type": "markdown",
   "id": "446bec54",
   "metadata": {},
   "source": [
    "It is better in this case to use a for loop."
   ]
  },
  {
   "cell_type": "code",
   "execution_count": null,
   "id": "211934d8",
   "metadata": {},
   "outputs": [],
   "source": [
    "for target_list in expression_list:\n",
    "    suite\n",
    "else:\n",
    "    suite_b\n",
    "other code"
   ]
  },
  {
   "cell_type": "code",
   "execution_count": null,
   "id": "b2c7e059",
   "metadata": {},
   "outputs": [],
   "source": [
    "for x in range(2,10,2):\n",
    "    print(x)\n",
    "else:\n",
    "    print(\"yay!\")"
   ]
  },
  {
   "cell_type": "code",
   "execution_count": null,
   "id": "900ec276",
   "metadata": {},
   "outputs": [],
   "source": [
    "i = 0\n",
    "r = range(2,10,2)\n",
    "while i < 5:\n",
    "    print(r[i])\n",
    "    i += 1\n",
    "else:\n",
    "    print(\"boo\")"
   ]
  },
  {
   "cell_type": "code",
   "execution_count": null,
   "id": "a57eef23",
   "metadata": {},
   "outputs": [],
   "source": [
    "i = 0\n",
    "r = range(2,10,2)\n",
    "while i < len(r):\n",
    "    print(r[i])\n",
    "    i += 1\n",
    "else:\n",
    "    print(\"boo\")"
   ]
  },
  {
   "cell_type": "markdown",
   "id": "77e9e172",
   "metadata": {},
   "source": [
    "### Comprehensions\n",
    "Sequences (and other types) can be constructed succinctly and readably using *comprehensions*."
   ]
  },
  {
   "cell_type": "code",
   "execution_count": null,
   "id": "7a2cdd2d",
   "metadata": {},
   "outputs": [],
   "source": [
    "# for + append vs. comprehension\n",
    "squares = []\n",
    "for n in range(1,11):\n",
    "    squares.append(n**2)\n",
    "squares"
   ]
  },
  {
   "cell_type": "code",
   "execution_count": null,
   "id": "2c053526",
   "metadata": {},
   "outputs": [],
   "source": [
    "[x**2 for x in range(1,11)]"
   ]
  },
  {
   "cell_type": "code",
   "execution_count": null,
   "id": "9a1cb5e7",
   "metadata": {},
   "outputs": [],
   "source": [
    "# tuple comprehension?\n",
    "(x**2 for x in range(1,11))"
   ]
  },
  {
   "cell_type": "code",
   "execution_count": null,
   "id": "ec91bdc4",
   "metadata": {},
   "outputs": [],
   "source": [
    "for y in (x**2 for x in range(1,11)):\n",
    "    print(y)"
   ]
  },
  {
   "cell_type": "code",
   "execution_count": null,
   "id": "7ff8740c",
   "metadata": {},
   "outputs": [],
   "source": [
    "ys = (x**2 for x in range(1,11))\n",
    "next(ys), next(ys), next(ys)"
   ]
  },
  {
   "cell_type": "code",
   "execution_count": null,
   "id": "6bbb47a0",
   "metadata": {},
   "outputs": [],
   "source": [
    "next(ys)"
   ]
  },
  {
   "cell_type": "code",
   "execution_count": null,
   "id": "f5b4d4aa",
   "metadata": {},
   "outputs": [],
   "source": [
    "while True:\n",
    "    print(next(ys))"
   ]
  },
  {
   "cell_type": "markdown",
   "id": "a7cea2a9",
   "metadata": {},
   "source": [
    "## Sequence unpacking"
   ]
  },
  {
   "cell_type": "code",
   "execution_count": null,
   "id": "c9ea34c2",
   "metadata": {},
   "outputs": [],
   "source": [
    "x, *xs = [1, 2, 3, 4]\n",
    "x, xs"
   ]
  },
  {
   "cell_type": "code",
   "execution_count": null,
   "id": "81d7972a",
   "metadata": {},
   "outputs": [],
   "source": [
    "x, *ys, z = [1, 2, 3, 4]\n",
    "x, ys, z"
   ]
  },
  {
   "cell_type": "code",
   "execution_count": null,
   "id": "fe60c1a4",
   "metadata": {},
   "outputs": [],
   "source": [
    "x, *_ = [1, 2, 3, 4]\n",
    "x"
   ]
  },
  {
   "cell_type": "code",
   "execution_count": null,
   "id": "c2ce59ba",
   "metadata": {},
   "outputs": [],
   "source": [
    "_, *xs = [1, 2, 3, 4]\n",
    "xs"
   ]
  },
  {
   "cell_type": "markdown",
   "id": "b2bd4787",
   "metadata": {},
   "source": [
    "### Generator comprehensions\n",
    "Unlike list comprehensions, generator comprehensions don't construct the entire sequence in memory.\n",
    "\n",
    "Instead, the return the next element of the sequence on-demand. This is called lazy evaluation."
   ]
  },
  {
   "cell_type": "code",
   "execution_count": null,
   "id": "9b9d414d",
   "metadata": {},
   "outputs": [],
   "source": [
    "xs = (1,2,3,4)\n",
    "ys = (x*x for x in xs)\n",
    "for y in ys:\n",
    "    print(y)"
   ]
  },
  {
   "cell_type": "code",
   "execution_count": null,
   "id": "a9dcdede",
   "metadata": {},
   "outputs": [],
   "source": [
    "for y in ys:\n",
    "    print(y)  # no output"
   ]
  },
  {
   "cell_type": "markdown",
   "id": "d0904a37",
   "metadata": {},
   "source": [
    "Generator comprehensions can be passed directly to functions that take iterable arguments, without surrounding parentheses."
   ]
  },
  {
   "cell_type": "code",
   "execution_count": null,
   "id": "4336d7be",
   "metadata": {},
   "outputs": [],
   "source": [
    "xs = [1,2,3,4]"
   ]
  },
  {
   "cell_type": "code",
   "execution_count": null,
   "id": "71347e0c",
   "metadata": {},
   "outputs": [],
   "source": [
    "sum([x for x in xs])"
   ]
  },
  {
   "cell_type": "code",
   "execution_count": null,
   "id": "3294a768",
   "metadata": {},
   "outputs": [],
   "source": [
    "sum((x for x in xs))"
   ]
  },
  {
   "cell_type": "code",
   "execution_count": null,
   "id": "eacf9d0e",
   "metadata": {},
   "outputs": [],
   "source": [
    "sum(x for x in xs)"
   ]
  },
  {
   "cell_type": "markdown",
   "id": "187d36b6",
   "metadata": {},
   "source": [
    "### Useful functions for sequences: `enumerate`, `zip`, the <a href=\"https://docs.python.org/3/library/itertools.html\">`itertools`</a> module"
   ]
  },
  {
   "cell_type": "code",
   "execution_count": null,
   "id": "df685bd8",
   "metadata": {},
   "outputs": [],
   "source": [
    "word_0 = \"computational\"\n",
    "word_1 = \"physics\"\n",
    "matrix = [[1, 2, 3], [4, 5, 6]]"
   ]
  },
  {
   "cell_type": "code",
   "execution_count": null,
   "id": "b677c54a",
   "metadata": {},
   "outputs": [],
   "source": [
    "for i, w in enumerate(word_0):\n",
    "    print(i, w)"
   ]
  },
  {
   "cell_type": "code",
   "execution_count": null,
   "id": "2d851e42",
   "metadata": {},
   "outputs": [],
   "source": [
    "for w0, w1 in zip(word_0, word_1):\n",
    "    print(w0, w1)"
   ]
  },
  {
   "cell_type": "code",
   "execution_count": null,
   "id": "e415b1a4",
   "metadata": {},
   "outputs": [],
   "source": [
    "from itertools import zip_longest\n",
    "\n",
    "for w0, w1 in zip_longest(word_0, word_1):\n",
    "    print(w0, w1)"
   ]
  },
  {
   "cell_type": "code",
   "execution_count": null,
   "id": "66806457",
   "metadata": {},
   "outputs": [],
   "source": [
    "from itertools import zip_longest\n",
    "\n",
    "for w0, w1 in zip_longest(word_0, word_1):\n",
    "    print(w0 or \" \", w1 or \" \")"
   ]
  },
  {
   "cell_type": "code",
   "execution_count": null,
   "id": "1bd0e48d",
   "metadata": {},
   "outputs": [],
   "source": [
    "for xs in matrix:  # iterate over rows of matrix\n",
    "    print(xs)"
   ]
  },
  {
   "cell_type": "code",
   "execution_count": null,
   "id": "7c265d8f",
   "metadata": {},
   "outputs": [],
   "source": [
    "for xs in zip(*matrix): # unpack the matrix into zip\n",
    "    print(xs)           # allowing iteration of columns\n",
    "# zip(*[[1, 2, 3], [4, 5, 6]]) -> zip([1, 2, 3], [4, 5, 6])"
   ]
  },
  {
   "cell_type": "code",
   "execution_count": null,
   "id": "973c88af",
   "metadata": {},
   "outputs": [],
   "source": [
    "import itertools\n",
    "xs = [1,2,3]\n",
    "ys = \"computational\""
   ]
  },
  {
   "cell_type": "code",
   "execution_count": null,
   "id": "38336d72",
   "metadata": {
    "scrolled": true
   },
   "outputs": [],
   "source": [
    "itertools.combinations(xs, 2)"
   ]
  },
  {
   "cell_type": "code",
   "execution_count": null,
   "id": "e9e85461",
   "metadata": {
    "scrolled": false
   },
   "outputs": [],
   "source": [
    "zs = itertools.combinations(xs, 2)\n",
    "for a, b in zs:\n",
    "    print(a, b)"
   ]
  },
  {
   "cell_type": "code",
   "execution_count": null,
   "id": "f98e34b4",
   "metadata": {},
   "outputs": [],
   "source": [
    "for a, b in xs:\n",
    "    print(a, b)"
   ]
  },
  {
   "cell_type": "code",
   "execution_count": null,
   "id": "bab9a31e",
   "metadata": {},
   "outputs": [],
   "source": [
    "list(itertools.combinations(xs, 2))"
   ]
  },
  {
   "cell_type": "code",
   "execution_count": null,
   "id": "76877490",
   "metadata": {},
   "outputs": [],
   "source": []
  },
  {
   "cell_type": "code",
   "execution_count": null,
   "id": "4612d47f",
   "metadata": {
    "scrolled": false
   },
   "outputs": [],
   "source": [
    "list(itertools.pairwise(ys))"
   ]
  },
  {
   "cell_type": "code",
   "execution_count": null,
   "id": "9a8f64ac",
   "metadata": {},
   "outputs": [],
   "source": []
  },
  {
   "cell_type": "code",
   "execution_count": null,
   "id": "1cf6a5d9",
   "metadata": {},
   "outputs": [],
   "source": [
    "list(itertools.product(xs, repeat=3))"
   ]
  },
  {
   "cell_type": "markdown",
   "id": "89d8b390",
   "metadata": {},
   "source": [
    "### Exercise:\n",
    "Rewrite `zip`, `zip_longest`, `pairwise`, `combinations`, and `product` using `for` loops or comprehensions."
   ]
  },
  {
   "cell_type": "markdown",
   "id": "83abff47",
   "metadata": {},
   "source": [
    "## Functions of lists"
   ]
  },
  {
   "cell_type": "code",
   "execution_count": null,
   "id": "63c43adf",
   "metadata": {},
   "outputs": [],
   "source": [
    "def bad_function(xs: list = []):\n",
    "    xs.append(1)\n",
    "    return xs"
   ]
  },
  {
   "cell_type": "code",
   "execution_count": null,
   "id": "7e731b8c",
   "metadata": {},
   "outputs": [],
   "source": [
    "xs = bad_function()\n",
    "xs"
   ]
  },
  {
   "cell_type": "code",
   "execution_count": null,
   "id": "3c5e5961",
   "metadata": {},
   "outputs": [],
   "source": [
    "xs.append(2)\n",
    "xs"
   ]
  },
  {
   "cell_type": "code",
   "execution_count": null,
   "id": "f551d82c",
   "metadata": {},
   "outputs": [],
   "source": [
    "xs = bad_function()\n",
    "xs"
   ]
  },
  {
   "cell_type": "code",
   "execution_count": null,
   "id": "e3820e8c",
   "metadata": {},
   "outputs": [],
   "source": [
    "def good_function(xs = None):\n",
    "    if xs is None:\n",
    "        xs = []\n",
    "    xs.append(1)\n",
    "    return xs"
   ]
  },
  {
   "cell_type": "code",
   "execution_count": null,
   "id": "431e72c7",
   "metadata": {},
   "outputs": [],
   "source": [
    "xs = good_function()\n",
    "xs"
   ]
  },
  {
   "cell_type": "code",
   "execution_count": null,
   "id": "05f2b3ab",
   "metadata": {},
   "outputs": [],
   "source": [
    "xs.append(2)\n",
    "xs"
   ]
  },
  {
   "cell_type": "code",
   "execution_count": null,
   "id": "65de6992",
   "metadata": {},
   "outputs": [],
   "source": [
    "xs = good_function()\n",
    "xs"
   ]
  },
  {
   "cell_type": "markdown",
   "id": "aefe7a01",
   "metadata": {},
   "source": [
    "## Functions of functions\n",
    "In Python, functions are first-class objects.\n",
    "\n",
    "They can be passed to and returned from other functions, and names assigned to them, just as with other Python objects.\n",
    "\n",
    "The type hint for a general function is typing.Callable\n",
    "\n",
    "`Callable[[*argument_types], *return_type]`"
   ]
  },
  {
   "cell_type": "code",
   "execution_count": 4,
   "id": "a1eebaa7",
   "metadata": {},
   "outputs": [],
   "source": [
    "from typing import Callable\n",
    "\n",
    "def apply_to_vector(f: Callable[[float], float], xs: [float]) -> [float]:\n",
    "    \"\"\"\n",
    "    >>> from math import sqrt\n",
    "    >>> apply_to_vector(sqrt, [4.0, 9.0, 16.0])\n",
    "    [2.0, 3.0, 4.0]\n",
    "    \"\"\"\n",
    "    return [f(x) for x in xs]"
   ]
  },
  {
   "cell_type": "code",
   "execution_count": null,
   "id": "72657b7a",
   "metadata": {},
   "outputs": [],
   "source": [
    "from math import sqrt\n",
    "xs = [4.0, 9.0, 16.0]"
   ]
  },
  {
   "cell_type": "code",
   "execution_count": null,
   "id": "54697563",
   "metadata": {},
   "outputs": [],
   "source": [
    "apply_to_vector(sqrt, xs)"
   ]
  },
  {
   "cell_type": "code",
   "execution_count": null,
   "id": "e8cf1210",
   "metadata": {},
   "outputs": [],
   "source": [
    "lambda x: x**0.5"
   ]
  },
  {
   "cell_type": "code",
   "execution_count": null,
   "id": "e2f0941e",
   "metadata": {},
   "outputs": [],
   "source": [
    "func = lambda x: x**0.5  # DON'T ASSIGN TO LAMBDAS!\n",
    "func"
   ]
  },
  {
   "cell_type": "code",
   "execution_count": null,
   "id": "c61e075e",
   "metadata": {},
   "outputs": [],
   "source": [
    "apply_to_vector(lambda x: x**0.5, xs)"
   ]
  },
  {
   "cell_type": "code",
   "execution_count": null,
   "id": "2f673735",
   "metadata": {},
   "outputs": [],
   "source": [
    "map(sqrt, xs)"
   ]
  },
  {
   "cell_type": "code",
   "execution_count": null,
   "id": "6e074628",
   "metadata": {},
   "outputs": [],
   "source": [
    "list(map(sqrt, xs))"
   ]
  },
  {
   "cell_type": "code",
   "execution_count": null,
   "id": "a58f6dbd",
   "metadata": {},
   "outputs": [],
   "source": [
    "def reduce_vector(f: Callable[[float, float], float], xs: [float], init: float) -> float:\n",
    "    \"\"\"\n",
    "    >>> from operator import add\n",
    "    >>> reduce_vector(add, [4.0, 9.0, 16.0], init=0.0)\n",
    "    29.0\n",
    "    \"\"\"\n",
    "    if not xs:\n",
    "        return init\n",
    "    *xs, x = xs\n",
    "    return f(x, reduce_vector(f, xs, init))"
   ]
  },
  {
   "cell_type": "code",
   "execution_count": null,
   "id": "8d54aca9",
   "metadata": {},
   "outputs": [],
   "source": [
    "from operator import add\n",
    "xs = [4.0, 9.0, 16.0]"
   ]
  },
  {
   "cell_type": "code",
   "execution_count": null,
   "id": "f3f1cf8c",
   "metadata": {},
   "outputs": [],
   "source": [
    "reduce_vector(add, xs, init=0.0)"
   ]
  },
  {
   "cell_type": "code",
   "execution_count": null,
   "id": "6e255e48",
   "metadata": {},
   "outputs": [],
   "source": [
    "from functools import reduce\n",
    "reduce(add, xs)"
   ]
  },
  {
   "cell_type": "code",
   "execution_count": null,
   "id": "aaad8213",
   "metadata": {},
   "outputs": [],
   "source": [
    "reduce(lambda x,y: x+y, xs)"
   ]
  },
  {
   "cell_type": "markdown",
   "id": "0844622f",
   "metadata": {},
   "source": [
    "### Example: Lennard-Jones potential\n",
    "The Lennard-Jones (LJ) potential finds use as a simple model for pair interactions in noble gases and simple fluids, among other applications.\n",
    "\n",
    "It has the form:\n",
    "$$\n",
    "V{\\left(r\\right)} = 4\\epsilon\\left[\\left(\\frac{\\sigma}{r}\\right)^{12} - \\left(\\frac{\\sigma}{r}\\right)^{6}\\right] ,\n",
    "$$\n",
    "where $\\sigma$ is the diameter of the particles and $\\epsilon$ is the depth of the potential well.\n",
    "\n",
    "The total energy of a system of particles interacting *via* the LJ potential is a sum over pairwise contributions,\n",
    "$$\n",
    "E = \\sum_{i\\ne j} V{\\left(r_{ij}\\right)}\n",
    "$$\n",
    "which we can expand to\n",
    "$$\n",
    "E\\left(\\mathbf{x}\\right) = \\sum_{i\\ne j} V{\\left( \\sqrt{\\sum_{\\alpha} \\left(x_{i\\alpha}-x_{j\\alpha}\\right)^{2}} \\right)}\n",
    "$$\n",
    "where $i,j$ and $\\alpha$ are particle indices a cartesian index, respectively.\n",
    "\n",
    "With `sum`, `zip`, `combinations`, and comprehensions, we can solve this problem in one line."
   ]
  },
  {
   "cell_type": "code",
   "execution_count": 6,
   "id": "76c70e00",
   "metadata": {},
   "outputs": [],
   "source": [
    "from itertools import combinations\n",
    "from typing import Callable\n",
    "from math import sqrt\n",
    "\n",
    "\n",
    "def lj_potential(x: float) -> float:  # obfuscated, but fast implementation!\n",
    "    r6 = 1 / x / x\n",
    "    r6 *= r6 * r6\n",
    "    return 4 * r6 * (r6 - 1)\n",
    "\n",
    "\n",
    "def pairwise_potential(potential: Callable[[float], float], xss: [[float]]) -> float:\n",
    "    \"\"\"\n",
    "    >>> lj13 = [\n",
    "    ...     [  1.0132226417,  0.3329955686,  0.1812866397],\n",
    "    ...     [   0.7255989775, -0.7660449415,  0.2388625373],\n",
    "    ...     [   0.7293356067, -0.2309436666, -0.7649239428],\n",
    "    ...     [   0.3513618941,  0.8291166557, -0.5995702064],\n",
    "    ...     [   0.3453146118, -0.0366957540,  1.0245903005],\n",
    "    ...     [   0.1140240770,  0.9491685999,  0.5064104273],\n",
    "    ...     [  -1.0132240213, -0.3329960305, -0.1812867552],\n",
    "    ...     [  -0.1140234764, -0.9491689127, -0.5064103454],\n",
    "    ...     [  -0.3513615244, -0.8291170821,  0.5995701458],\n",
    "    ...     [  -0.3453152548,  0.0366956843, -1.0245902691],\n",
    "    ...     [  -0.7255983925,  0.7660457628, -0.2388624662],\n",
    "    ...     [  -0.7293359733,  0.2309438428,  0.7649237858],\n",
    "    ...     [   0.0000008339,  0.0000002733,  0.0000001488],\n",
    "    ... ]\n",
    "    >>> pairwise_potential(lj_potential, lj13)\n",
    "    -44.326801418734654\n",
    "    \"\"\"\n",
    "    return sum(\n",
    "        potential(\n",
    "            sum((xia-xja)**2 for xia, xja in zip(xi, xj))**0.5\n",
    "        ) for xi, xj in combinations(xss, 2)\n",
    "    )"
   ]
  },
  {
   "cell_type": "code",
   "execution_count": 8,
   "id": "87b4d9f0",
   "metadata": {},
   "outputs": [
    {
     "data": {
      "text/plain": [
       "-44.326801418734654"
      ]
     },
     "execution_count": 8,
     "metadata": {},
     "output_type": "execute_result"
    }
   ],
   "source": [
    "lj13 = [\n",
    "    [  1.0132226417,  0.3329955686,  0.1812866397],\n",
    "    [   0.7255989775, -0.7660449415,  0.2388625373],\n",
    "    [   0.7293356067, -0.2309436666, -0.7649239428],\n",
    "    [   0.3513618941,  0.8291166557, -0.5995702064],\n",
    "    [   0.3453146118, -0.0366957540,  1.0245903005],\n",
    "    [   0.1140240770,  0.9491685999,  0.5064104273],\n",
    "    [  -1.0132240213, -0.3329960305, -0.1812867552],\n",
    "    [  -0.1140234764, -0.9491689127, -0.5064103454],\n",
    "    [  -0.3513615244, -0.8291170821,  0.5995701458],\n",
    "    [  -0.3453152548,  0.0366956843, -1.0245902691],\n",
    "    [  -0.7255983925,  0.7660457628, -0.2388624662],\n",
    "    [  -0.7293359733,  0.2309438428,  0.7649237858],\n",
    "    [   0.0000008339,  0.0000002733,  0.0000001488],\n",
    "]\n",
    "\n",
    "\n",
    "def worked_lj_potential(xss:[[float]])->float:\n",
    "    return pairwise_potential(lj_potential,xss)\n",
    "\n",
    "pairwise_potential(lj_potential, lj13)  # -44.326801418734654\n"
   ]
  },
  {
   "cell_type": "code",
   "execution_count": 9,
   "id": "014ec998",
   "metadata": {},
   "outputs": [],
   "source": [
    "from typing import Callable\n",
    "\n",
    "\n",
    "def lj_potential(x: float, epsilon: float, sigma: float) -> float:  # obfuscated, but fast implementation!\n",
    "    x /= sigma\n",
    "    r6 = 1 / x / x\n",
    "    r6 *= r6 * r6\n",
    "    return 4 * epsilon * r6 * (r6 - 1)"
   ]
  },
  {
   "cell_type": "code",
   "execution_count": null,
   "id": "d8fb993b",
   "metadata": {},
   "outputs": [],
   "source": [
    "pairwise_potential(lj_potential, lj13)"
   ]
  },
  {
   "cell_type": "markdown",
   "id": "32992f36",
   "metadata": {},
   "source": [
    "### `*args`, `**kwargs`"
   ]
  },
  {
   "cell_type": "code",
   "execution_count": 12,
   "id": "9e1a441f",
   "metadata": {},
   "outputs": [
    {
     "data": {
      "text/plain": [
       "-44.32680141873467"
      ]
     },
     "execution_count": 12,
     "metadata": {},
     "output_type": "execute_result"
    }
   ],
   "source": [
    "from math import dist\n",
    "\n",
    "def pairwise_potential_with_args(potential: Callable[[float], float], xss: [[float]], **potential_args) -> float:\n",
    "    return sum(\n",
    "        potential(dist(xi, xj), **potential_args)\n",
    "        for xi, xj in combinations(xss, 2)\n",
    "    )\n",
    "\n",
    "# potential_args = (1.0, 1.0)\n",
    "epsilon = 1.0\n",
    "sigma = 1.0\n",
    "pairwise_potential_with_args(lj_potential, lj13, epsilon=epsilon, sigma=sigma)"
   ]
  },
  {
   "cell_type": "markdown",
   "id": "a786f15c",
   "metadata": {},
   "source": [
    "### Function factory"
   ]
  },
  {
   "cell_type": "code",
   "execution_count": null,
   "id": "11b2e2a6",
   "metadata": {},
   "outputs": [],
   "source": [
    "def lj_potential_factory(epsilon: float, sigma: float) -> Callable[[float], float]:\n",
    "    def lj(x: float) -> float:\n",
    "        return lj_potential(x, epsilon, sigma)\n",
    "    return lj\n",
    "\n",
    "\n",
    "lj = lj_potential_factory(epsilon=1.0, sigma=1.0)\n",
    "\n",
    "pairwise_potential(lj, lj13)"
   ]
  },
  {
   "cell_type": "markdown",
   "id": "2597f353",
   "metadata": {},
   "source": [
    "### Partial application"
   ]
  },
  {
   "cell_type": "code",
   "execution_count": null,
   "id": "208ebfab",
   "metadata": {},
   "outputs": [],
   "source": [
    "from functools import partial\n",
    "\n",
    "lj = partial(lj_potential, epsilon=1.0, sigma=1.0)\n",
    "\n",
    "pairwise_potential(lj, lj13)"
   ]
  },
  {
   "cell_type": "markdown",
   "id": "00bef18c",
   "metadata": {},
   "source": [
    "### Custom class\n",
    "In the below example, the `lj` instance of the `LJPotential` class is not a function object but it *is* callable, because it defines the `__call__` dunder method."
   ]
  },
  {
   "cell_type": "code",
   "execution_count": null,
   "id": "ba05ec11",
   "metadata": {},
   "outputs": [],
   "source": [
    "class LJPotential:\n",
    "    def __init__(self, epsilon: float, sigma: float) -> None:\n",
    "        self.epsilon = epsilon\n",
    "        self.sigma = sigma\n",
    "    \n",
    "    def __call__(self, x: float) -> float:\n",
    "        x /= self.sigma\n",
    "        r6 = 1 / x / x\n",
    "        r6 *= r6 * r6\n",
    "        return 4 * self.epsilon * r6 * (r6 - 1)\n",
    "\n",
    "lj = LJPotential(epsilon=1.0, sigma=1.0)\n",
    "pairwise_potential(lj, lj13)"
   ]
  },
  {
   "cell_type": "markdown",
   "id": "621c0037",
   "metadata": {},
   "source": [
    "This approach is a bit more flexible, in that you can later change the values of `epsilon` and `sigma`:"
   ]
  },
  {
   "cell_type": "code",
   "execution_count": null,
   "id": "5de37b0e",
   "metadata": {},
   "outputs": [],
   "source": [
    "lj.epsilon = 10.0\n",
    "pairwise_potential(lj, lj13)"
   ]
  },
  {
   "cell_type": "markdown",
   "id": "eef7ea9b",
   "metadata": {},
   "source": [
    "## Practice functions\n",
    "Complete the functions in `example_functions.ipynb`, ensuring that the doctests pass."
   ]
  },
  {
   "cell_type": "markdown",
   "id": "5ade50a5",
   "metadata": {},
   "source": [
    "# Scientific Programming with NumPy and friends\n",
    "NumPy, short for Numerical Python, is a python package for scientific programming.\n",
    "\n",
    "It provides a framework for efficiently dealing with large amounts of data, and implements many algorithms from linear algebra, Fourier transforms, and efficient random number generations, to name just three fields.\n",
    "\n",
    "The NumPy library is a key dependency of many math, engineering, and science libraries, in no small part due to the n-dimensional array, or `ndarray`.\n",
    "\n",
    "## Working with arrays"
   ]
  },
  {
   "cell_type": "code",
   "execution_count": 2,
   "id": "4e01d81f",
   "metadata": {},
   "outputs": [],
   "source": [
    "import numpy as np"
   ]
  },
  {
   "cell_type": "markdown",
   "id": "0754c58d",
   "metadata": {},
   "source": [
    "We can initialise an ndarray by passing a sequence type to `np.array`"
   ]
  },
  {
   "cell_type": "code",
   "execution_count": null,
   "id": "5912ff48",
   "metadata": {},
   "outputs": [],
   "source": [
    "a = np.array([0, 1, 2])\n",
    "a, type(a)"
   ]
  },
  {
   "cell_type": "markdown",
   "id": "b40ceae7",
   "metadata": {},
   "source": [
    "Unlike lists and tuples, the type of the elements of an ndarray is restricted, though it can be quite general."
   ]
  },
  {
   "cell_type": "code",
   "execution_count": null,
   "id": "ec06fd86",
   "metadata": {},
   "outputs": [],
   "source": [
    "a.dtype  # dtype is inferred from arguments to np.array"
   ]
  },
  {
   "cell_type": "code",
   "execution_count": null,
   "id": "0ccdbad2",
   "metadata": {},
   "outputs": [],
   "source": [
    "b = np.array([0, 1, 2], dtype=float)\n",
    "b, b.dtype"
   ]
  },
  {
   "cell_type": "code",
   "execution_count": null,
   "id": "5164fae8",
   "metadata": {},
   "outputs": [],
   "source": [
    "c = np.array([0, 1, 2], dtype=complex)\n",
    "c, c.dtype"
   ]
  },
  {
   "cell_type": "code",
   "execution_count": null,
   "id": "afcb0977",
   "metadata": {},
   "outputs": [],
   "source": [
    "d = np.array([0, 'a', range(4)], dtype=object)\n",
    "d, d.dtype"
   ]
  },
  {
   "cell_type": "markdown",
   "id": "5e5fb824",
   "metadata": {},
   "source": [
    "### Array shape and size\n",
    "Passing a sequence of sequence types to `np.array` creates a multi-dimensional array---an ndarray."
   ]
  },
  {
   "cell_type": "code",
   "execution_count": null,
   "id": "6358bcc9",
   "metadata": {},
   "outputs": [],
   "source": [
    "xs = np.array([\n",
    "    [0, 1, 2],\n",
    "    [3, 4, 5],\n",
    "])\n",
    "xs"
   ]
  },
  {
   "cell_type": "code",
   "execution_count": null,
   "id": "6b838d97",
   "metadata": {},
   "outputs": [],
   "source": [
    "xs.size, xs.shape"
   ]
  },
  {
   "cell_type": "markdown",
   "id": "0fddc56f",
   "metadata": {},
   "source": [
    "There are a number of ways to modify the shape of an array,"
   ]
  },
  {
   "cell_type": "code",
   "execution_count": null,
   "id": "d29717e5",
   "metadata": {
    "scrolled": false
   },
   "outputs": [],
   "source": [
    "xs.flatten()"
   ]
  },
  {
   "cell_type": "code",
   "execution_count": null,
   "id": "63671f39",
   "metadata": {},
   "outputs": [],
   "source": [
    "for x in xs.flat:  # iterator\n",
    "    print(x)"
   ]
  },
  {
   "cell_type": "code",
   "execution_count": null,
   "id": "98f01762",
   "metadata": {},
   "outputs": [],
   "source": [
    "xs.reshape(3, 2)"
   ]
  },
  {
   "cell_type": "code",
   "execution_count": null,
   "id": "7702eb85",
   "metadata": {},
   "outputs": [],
   "source": [
    "xs.reshape(1, 6)"
   ]
  },
  {
   "cell_type": "code",
   "execution_count": null,
   "id": "ad461ec9",
   "metadata": {},
   "outputs": [],
   "source": [
    "xs.reshape(6, 1)"
   ]
  },
  {
   "cell_type": "code",
   "execution_count": null,
   "id": "3661a6f4",
   "metadata": {},
   "outputs": [],
   "source": [
    "xs.reshape(1,3,1,2,1)"
   ]
  },
  {
   "cell_type": "code",
   "execution_count": null,
   "id": "83e4cb1e",
   "metadata": {},
   "outputs": [],
   "source": [
    "xs.transpose(1, 0)"
   ]
  },
  {
   "cell_type": "code",
   "execution_count": null,
   "id": "5ec43c03",
   "metadata": {},
   "outputs": [],
   "source": [
    "xs.T"
   ]
  },
  {
   "cell_type": "markdown",
   "id": "4228af53",
   "metadata": {},
   "source": [
    "Arrays of numerical types are contiguous; if a sequence of sequences of different lengths is passed to `np.array`..."
   ]
  },
  {
   "cell_type": "code",
   "execution_count": null,
   "id": "40190e7a",
   "metadata": {},
   "outputs": [],
   "source": [
    "object_array = np.array([\n",
    "    [1,2,3],\n",
    "    [4,5],\n",
    "    [6],\n",
    "])\n",
    "object_array.shape"
   ]
  },
  {
   "cell_type": "markdown",
   "id": "f917e40d",
   "metadata": {},
   "source": [
    "### Some other ways to initialise arrays"
   ]
  },
  {
   "cell_type": "code",
   "execution_count": null,
   "id": "8789b816",
   "metadata": {},
   "outputs": [],
   "source": [
    "z = np.zeros(4, dtype=int)\n",
    "z"
   ]
  },
  {
   "cell_type": "code",
   "execution_count": null,
   "id": "2085cbb9",
   "metadata": {},
   "outputs": [],
   "source": [
    "np.ones_like(z, dtype=float)"
   ]
  },
  {
   "cell_type": "code",
   "execution_count": null,
   "id": "8953ced8",
   "metadata": {},
   "outputs": [],
   "source": [
    "np.full((3, 4), 3.0 + 4.0j, dtype=complex)"
   ]
  },
  {
   "cell_type": "code",
   "execution_count": null,
   "id": "c68250de",
   "metadata": {},
   "outputs": [],
   "source": [
    "np.eye(4)"
   ]
  },
  {
   "cell_type": "code",
   "execution_count": null,
   "id": "7bc98d65",
   "metadata": {},
   "outputs": [],
   "source": [
    "np.random.rand(4)"
   ]
  },
  {
   "cell_type": "markdown",
   "id": "a490f86e",
   "metadata": {},
   "source": [
    "### Broadcasting\n",
    "What are the advantages of an ndarray over a list?\n",
    "\n",
    "Consider using a tuple to represent a vector."
   ]
  },
  {
   "cell_type": "code",
   "execution_count": null,
   "id": "27fc0af7",
   "metadata": {},
   "outputs": [],
   "source": [
    "u = (1.0, 2.0, 3.0)\n",
    "v = (4.0, 5.0, 6.0)"
   ]
  },
  {
   "cell_type": "markdown",
   "id": "0c940ae5",
   "metadata": {},
   "source": [
    "Can we add `u + v = (5.0, 7.0, 9.0)`?"
   ]
  },
  {
   "cell_type": "code",
   "execution_count": null,
   "id": "984e3e6d",
   "metadata": {},
   "outputs": [],
   "source": [
    "u + v  # not what we wanted"
   ]
  },
  {
   "cell_type": "code",
   "execution_count": null,
   "id": "c14820e9",
   "metadata": {},
   "outputs": [],
   "source": [
    "tuple(ua + va for ua, va in zip(u, v))"
   ]
  },
  {
   "cell_type": "markdown",
   "id": "7fc070a9",
   "metadata": {},
   "source": [
    "Now the same with ndarrays."
   ]
  },
  {
   "cell_type": "code",
   "execution_count": null,
   "id": "64424ebb",
   "metadata": {},
   "outputs": [],
   "source": [
    "u = np.array(u)\n",
    "v = np.array(v)\n",
    "\n",
    "u + v"
   ]
  },
  {
   "cell_type": "code",
   "execution_count": null,
   "id": "28702391",
   "metadata": {},
   "outputs": [],
   "source": [
    "u * v"
   ]
  },
  {
   "cell_type": "markdown",
   "id": "a922deca",
   "metadata": {},
   "source": [
    "The addition operation is *broadcast* along the dimensions of the arrays.\n",
    "\n",
    "Broadcasting of typical arithmetic and comparison operators works only if the arrays have the same shape (dimensions of length 1 are ignored in this analysis)."
   ]
  },
  {
   "cell_type": "code",
   "execution_count": null,
   "id": "66b77e6f",
   "metadata": {},
   "outputs": [],
   "source": [
    "us = np.arange(6).reshape(3,2)\n",
    "vs = np.arange(6).reshape(2,3)"
   ]
  },
  {
   "cell_type": "code",
   "execution_count": null,
   "id": "5b0e08d4",
   "metadata": {},
   "outputs": [],
   "source": [
    "us ** us"
   ]
  },
  {
   "cell_type": "code",
   "execution_count": null,
   "id": "6e833aa4",
   "metadata": {},
   "outputs": [],
   "source": [
    "pairdiff = us.reshape(3,1,2) - us.reshape(1,3,2)\n",
    "pairdiff.shape, pairdiff"
   ]
  },
  {
   "cell_type": "code",
   "execution_count": null,
   "id": "d484c06c",
   "metadata": {},
   "outputs": [],
   "source": [
    "us + vs"
   ]
  },
  {
   "cell_type": "markdown",
   "id": "024f4dec",
   "metadata": {},
   "source": [
    "The exception is the `matmul` operator, `@`:"
   ]
  },
  {
   "cell_type": "code",
   "execution_count": null,
   "id": "687d6815",
   "metadata": {
    "scrolled": true
   },
   "outputs": [],
   "source": [
    "us @ us"
   ]
  },
  {
   "cell_type": "code",
   "execution_count": null,
   "id": "dc86b6da",
   "metadata": {},
   "outputs": [],
   "source": [
    "us @ vs"
   ]
  },
  {
   "cell_type": "code",
   "execution_count": null,
   "id": "d1a1023e",
   "metadata": {},
   "outputs": [],
   "source": [
    "vs @ us"
   ]
  },
  {
   "cell_type": "markdown",
   "id": "bf88dfd6",
   "metadata": {},
   "source": [
    "### Indexing\n",
    "Another advantage over lists is the ease with which arrays can be indexed."
   ]
  },
  {
   "cell_type": "code",
   "execution_count": null,
   "id": "1475ba99",
   "metadata": {},
   "outputs": [],
   "source": [
    "xs = ((1, 2, 3), (4, 5, 6), (7, 8, 9))"
   ]
  },
  {
   "cell_type": "code",
   "execution_count": null,
   "id": "038a0883",
   "metadata": {},
   "outputs": [],
   "source": [
    "xs[1]  # first row"
   ]
  },
  {
   "cell_type": "code",
   "execution_count": null,
   "id": "c97413a0",
   "metadata": {},
   "outputs": [],
   "source": [
    "xs[:][1]  # first column?"
   ]
  },
  {
   "cell_type": "code",
   "execution_count": null,
   "id": "3fc1e4fb",
   "metadata": {},
   "outputs": [],
   "source": [
    "xs[:, 1]  # first column??"
   ]
  },
  {
   "cell_type": "code",
   "execution_count": null,
   "id": "868588a4",
   "metadata": {},
   "outputs": [],
   "source": [
    "tuple(xs[i][1] for i in range(len(xs)))"
   ]
  },
  {
   "cell_type": "code",
   "execution_count": null,
   "id": "b1777714",
   "metadata": {},
   "outputs": [],
   "source": [
    "tuple(y for y in zip(*xs))[1]  # first column???"
   ]
  },
  {
   "cell_type": "markdown",
   "id": "56c62834",
   "metadata": {},
   "source": [
    "Arrays allow two kinds of indexing.\n",
    "\n",
    "Normal indexing is an enhanced version of list indexing."
   ]
  },
  {
   "cell_type": "code",
   "execution_count": null,
   "id": "5a079ac5",
   "metadata": {},
   "outputs": [],
   "source": [
    "xs = np.array(xs)"
   ]
  },
  {
   "cell_type": "code",
   "execution_count": null,
   "id": "32d086ba",
   "metadata": {},
   "outputs": [],
   "source": [
    "xs[1]  # first row"
   ]
  },
  {
   "cell_type": "code",
   "execution_count": null,
   "id": "b824e607",
   "metadata": {},
   "outputs": [],
   "source": [
    "xs[:, 1]  # first column!"
   ]
  },
  {
   "cell_type": "markdown",
   "id": "a265bb8c",
   "metadata": {},
   "source": [
    "Array slices indexed in this way share memory with the original array---they are *views* of the array."
   ]
  },
  {
   "cell_type": "code",
   "execution_count": null,
   "id": "3b545a51",
   "metadata": {},
   "outputs": [],
   "source": [
    "ys = xs.copy()\n",
    "col = ys[:, 1]\n",
    "col[0] += 2\n",
    "ys[:, 1], col"
   ]
  },
  {
   "cell_type": "code",
   "execution_count": null,
   "id": "b9b9228f",
   "metadata": {},
   "outputs": [],
   "source": [
    "np.shares_memory(ys, col)"
   ]
  },
  {
   "cell_type": "markdown",
   "id": "5f5cd6c1",
   "metadata": {},
   "source": [
    "*Fancy indexing* allows us to extract arbitrary elements into arbitrary rectangular shapes."
   ]
  },
  {
   "cell_type": "code",
   "execution_count": null,
   "id": "7c8ece2d",
   "metadata": {},
   "outputs": [],
   "source": [
    "xs[[0,1,2], [0,1,2]]  # diagonal"
   ]
  },
  {
   "cell_type": "code",
   "execution_count": null,
   "id": "d8540c60",
   "metadata": {},
   "outputs": [],
   "source": [
    "xs[[2,0,1]]  # re-ordered rows"
   ]
  },
  {
   "cell_type": "markdown",
   "id": "91f4619f",
   "metadata": {},
   "source": [
    "The resulting arrays **do not** share memory with their parents."
   ]
  },
  {
   "cell_type": "code",
   "execution_count": null,
   "id": "74d40b34",
   "metadata": {},
   "outputs": [],
   "source": [
    "ys = xs[[0,1,2]]\n",
    "ys"
   ]
  },
  {
   "cell_type": "code",
   "execution_count": null,
   "id": "6d9878b1",
   "metadata": {},
   "outputs": [],
   "source": [
    "ys[[0,2],[2,0]] = 0\n",
    "ys == xs"
   ]
  },
  {
   "cell_type": "code",
   "execution_count": null,
   "id": "493742d2",
   "metadata": {},
   "outputs": [],
   "source": [
    "np.shares_memory(xs, ys)"
   ]
  },
  {
   "cell_type": "markdown",
   "id": "ef2f7f28",
   "metadata": {},
   "source": [
    "Boolean arrays are convenient for fancy indexing."
   ]
  },
  {
   "cell_type": "code",
   "execution_count": null,
   "id": "997abec3",
   "metadata": {},
   "outputs": [],
   "source": [
    "xs > 5"
   ]
  },
  {
   "cell_type": "code",
   "execution_count": null,
   "id": "0a98964f",
   "metadata": {},
   "outputs": [],
   "source": [
    "xs[xs > 5]"
   ]
  },
  {
   "cell_type": "code",
   "execution_count": null,
   "id": "52bcd974",
   "metadata": {},
   "outputs": [],
   "source": [
    "xs[xs > 5] = 0\n",
    "xs"
   ]
  },
  {
   "cell_type": "code",
   "execution_count": null,
   "id": "78760ea1",
   "metadata": {},
   "outputs": [],
   "source": [
    "np.where(xs > 5, 0, xs)"
   ]
  },
  {
   "cell_type": "markdown",
   "id": "1a9056ea",
   "metadata": {},
   "source": [
    "## Functions\n",
    "NumPy provides broadcasting versions of many built-in functions,"
   ]
  },
  {
   "cell_type": "code",
   "execution_count": null,
   "id": "63501205",
   "metadata": {},
   "outputs": [],
   "source": [
    "xs = np.arange(6).reshape(2,3)"
   ]
  },
  {
   "cell_type": "code",
   "execution_count": null,
   "id": "bd0dc95a",
   "metadata": {},
   "outputs": [],
   "source": [
    "from math import sqrt\n",
    "\n",
    "sqrt(xs)"
   ]
  },
  {
   "cell_type": "code",
   "execution_count": null,
   "id": "9535ccf3",
   "metadata": {},
   "outputs": [],
   "source": [
    "np.sqrt(xs)"
   ]
  },
  {
   "cell_type": "markdown",
   "id": "70853d61",
   "metadata": {},
   "source": [
    "as well as other useful definitions,"
   ]
  },
  {
   "cell_type": "code",
   "execution_count": null,
   "id": "c02ded1b",
   "metadata": {},
   "outputs": [],
   "source": [
    "np.mean(xs), np.std(xs)"
   ]
  },
  {
   "cell_type": "code",
   "execution_count": null,
   "id": "1e5f2f86",
   "metadata": {},
   "outputs": [],
   "source": [
    "np.linalg.norm(xs)"
   ]
  },
  {
   "cell_type": "markdown",
   "id": "ed80d2a8",
   "metadata": {},
   "source": [
    "Reduction operations (those that reduce the number of dimensions) can take an axis as an argument."
   ]
  },
  {
   "cell_type": "code",
   "execution_count": null,
   "id": "c637b034",
   "metadata": {},
   "outputs": [],
   "source": [
    "np.sum(xs, axis=0)"
   ]
  },
  {
   "cell_type": "code",
   "execution_count": null,
   "id": "b08b0fcf",
   "metadata": {},
   "outputs": [],
   "source": [
    "np.linalg.norm(xs, axis=1)"
   ]
  },
  {
   "cell_type": "markdown",
   "id": "976a5f1c",
   "metadata": {},
   "source": [
    "## Vectorisation\n",
    "The major benefit of ndarrays is that operations on and between them are vectorised.\n",
    "\n",
    "Python loops are slow in part because of the global interpreter lock (GIL): even if a loop could be evaluated in parallel, the python interpreter can only look at one element at a time.\n",
    "\n",
    "Operations like pairwise addition of vectors are parallelisable because the element-wise operations are independent of one another---the result of one operation does not affect another.\n",
    "\n",
    "Numpy arrays take advantage of this independence, executing multiple operations simultaneously."
   ]
  },
  {
   "cell_type": "code",
   "execution_count": 6,
   "id": "6f78a53d",
   "metadata": {},
   "outputs": [
    {
     "name": "stdout",
     "output_type": "stream",
     "text": [
      "3.6530546936007156\n"
     ]
    }
   ],
   "source": [
    "from itertools import combinations\n",
    "from typing import Callable\n",
    "from math import dist\n",
    "\n",
    "\n",
    "def lj_potential(x: float) -> float:  # obfuscated, but fast implementation!\n",
    "    r6 = 1 / x / x\n",
    "    r6 *= r6 * r6\n",
    "    return 4 * r6 * (r6 - 1)\n",
    "\n",
    "def coulomb_potential(r: float)->float:\n",
    "    return 1/r\n",
    "\n",
    "def lj_potential_derivative(x: float) -> float:\n",
    "    r6=x**6\n",
    "    r7=x**7\n",
    "    return 4/r7*(-12/r6+6)\n",
    "\n",
    "def pairwise_potential(potential: Callable[[float], float], xss: [[float]]) -> float:\n",
    "    \"\"\"\n",
    "    >>> lj13 = [\n",
    "    ...     [  1.0132226417,  0.3329955686,  0.1812866397],\n",
    "    ...     [   0.7255989775, -0.7660449415,  0.2388625373],\n",
    "    ...     [   0.7293356067, -0.2309436666, -0.7649239428],\n",
    "    ...     [   0.3513618941,  0.8291166557, -0.5995702064],\n",
    "    ...     [   0.3453146118, -0.0366957540,  1.0245903005],\n",
    "    ...     [   0.1140240770,  0.9491685999,  0.5064104273],\n",
    "    ...     [  -1.0132240213, -0.3329960305, -0.1812867552],\n",
    "    ...     [  -0.1140234764, -0.9491689127, -0.5064103454],\n",
    "    ...     [  -0.3513615244, -0.8291170821,  0.5995701458],\n",
    "    ...     [  -0.3453152548,  0.0366956843, -1.0245902691],\n",
    "    ...     [  -0.7255983925,  0.7660457628, -0.2388624662],\n",
    "    ...     [  -0.7293359733,  0.2309438428,  0.7649237858],\n",
    "    ...     [   0.0000008339,  0.0000002733,  0.0000001488],\n",
    "    ... ]\n",
    "    >>> pairwise_potential(lj_potential, lj13)\n",
    "    -44.326801418734654\n",
    "    \"\"\"\n",
    "    return sum(\n",
    "        potential(dist(xi, xj)) for xi, xj in combinations(xss, 2)\n",
    "    )\n",
    "    \n",
    "def sph_cartesian(angle: [float]):\n",
    "    coordinate=[]\n",
    "    coordinate.append(np.sin(angle[0])*np.cos(angle[1]))\n",
    "    coordinate.append(np.sin(angle[0])*np.sin(angle[1]))\n",
    "    coordinate.append(np.cos(angle[0]))\n",
    "    \n",
    "    return coordinate\n",
    "    \n",
    "def pairwise_coulomb_potential(angles: [[float]]):\n",
    "    return sum(\n",
    "        coulomb_potential(dist(sph_cartesian(xi),sph_cartesian(xj))) for xi,xj in combinations(angles,2)\n",
    "    )\n",
    "    \n",
    "col1=np.random.rand(3) * np.pi\n",
    "col2 = np.random.rand(3) * 2 * np.pi\n",
    "arr= np.column_stack((col1, col2))\n",
    "print(pairwise_coulomb_potential(arr))"
   ]
  },
  {
   "cell_type": "code",
   "execution_count": null,
   "id": "b70d504f",
   "metadata": {},
   "outputs": [],
   "source": [
    "lj13 = [\n",
    "    [  1.0132226417,  0.3329955686,  0.1812866397],\n",
    "    [   0.7255989775, -0.7660449415,  0.2388625373],\n",
    "    [   0.7293356067, -0.2309436666, -0.7649239428],\n",
    "    [   0.3513618941,  0.8291166557, -0.5995702064],\n",
    "    [   0.3453146118, -0.0366957540,  1.0245903005],\n",
    "    [   0.1140240770,  0.9491685999,  0.5064104273],\n",
    "    [  -1.0132240213, -0.3329960305, -0.1812867552],\n",
    "    [  -0.1140234764, -0.9491689127, -0.5064103454],\n",
    "    [  -0.3513615244, -0.8291170821,  0.5995701458],\n",
    "    [  -0.3453152548,  0.0366956843, -1.0245902691],\n",
    "    [  -0.7255983925,  0.7660457628, -0.2388624662],\n",
    "    [  -0.7293359733,  0.2309438428,  0.7649237858],\n",
    "    [   0.0000008339,  0.0000002733,  0.0000001488],\n",
    "]\n",
    "\n",
    "pairwise_potential(lj_potential, lj13)  # -44.326801418734654"
   ]
  },
  {
   "cell_type": "code",
   "execution_count": null,
   "id": "aa3bbe14",
   "metadata": {},
   "outputs": [],
   "source": [
    "import numpy as np\n",
    "\n",
    "def pairwise_potential_numpy(potential: Callable[[float], float], xss: [[float]]) -> float:\n",
    "    \"\"\"\n",
    "    >>> import numpy as np\n",
    "    >>> lj13 = np.array[\n",
    "    ...     [  1.0132226417,  0.3329955686,  0.1812866397],\n",
    "    ...     [   0.7255989775, -0.7660449415,  0.2388625373],\n",
    "    ...     [   0.7293356067, -0.2309436666, -0.7649239428],\n",
    "    ...     [   0.3513618941,  0.8291166557, -0.5995702064],\n",
    "    ...     [   0.3453146118, -0.0366957540,  1.0245903005],\n",
    "    ...     [   0.1140240770,  0.9491685999,  0.5064104273],\n",
    "    ...     [  -1.0132240213, -0.3329960305, -0.1812867552],\n",
    "    ...     [  -0.1140234764, -0.9491689127, -0.5064103454],\n",
    "    ...     [  -0.3513615244, -0.8291170821,  0.5995701458],\n",
    "    ...     [  -0.3453152548,  0.0366956843, -1.0245902691],\n",
    "    ...     [  -0.7255983925,  0.7660457628, -0.2388624662],\n",
    "    ...     [  -0.7293359733,  0.2309438428,  0.7649237858],\n",
    "    ...     [   0.0000008339,  0.0000002733,  0.0000001488],\n",
    "    ... ]\n",
    "    >>> pairwise_potential_numpy(lj_potential, lj13)\n",
    "    -44.326801418734654\n",
    "    \"\"\"\n",
    "    atoms, *_ = xss.shape\n",
    "    left, right = np.triu_indices(atoms, k=1)\n",
    "    \n",
    "    return potential(\n",
    "        np.linalg.norm(xss[left] - xss[right], axis=1)\n",
    "    ).sum()\n"
   ]
  },
  {
   "cell_type": "code",
   "execution_count": null,
   "id": "a4cecde3",
   "metadata": {},
   "outputs": [],
   "source": [
    "lj13 = np.loadtxt(\"lj13.txt\")\n",
    "pairwise_potential_numpy(lj_potential, lj13) "
   ]
  },
  {
   "cell_type": "markdown",
   "id": "05dfd7cf",
   "metadata": {},
   "source": [
    "## How much faster?"
   ]
  },
  {
   "cell_type": "code",
   "execution_count": null,
   "id": "f45c9c9d",
   "metadata": {},
   "outputs": [],
   "source": [
    "from time import time as time\n",
    "\n",
    "\n",
    "def time_pairwise(func, xss):\n",
    "    t0 = time()\n",
    "    func(lj_potential, xss)\n",
    "    return time()-t0\n",
    "\n",
    "\n",
    "atoms = np.geomspace(10,500,10,dtype=int)\n",
    "\n",
    "random_coordinates = [\n",
    "    np.random.rand(3*n).reshape(n, 3)\n",
    "    for n in atoms\n",
    "]\n",
    "\n",
    "timings_python = np.array([\n",
    "    time_pairwise(pairwise_potential, xss)\n",
    "    for xss in random_coordinates\n",
    "])\n",
    "\n",
    "timings_numpy = np.array([\n",
    "    time_pairwise(pairwise_potential_numpy, xss)\n",
    "    for xss in random_coordinates\n",
    "])"
   ]
  },
  {
   "cell_type": "code",
   "execution_count": null,
   "id": "8437695a",
   "metadata": {},
   "outputs": [],
   "source": [
    "timings_python"
   ]
  },
  {
   "cell_type": "code",
   "execution_count": null,
   "id": "34241c5c",
   "metadata": {},
   "outputs": [],
   "source": [
    "timings_numpy"
   ]
  },
  {
   "cell_type": "markdown",
   "id": "5ba21280",
   "metadata": {},
   "source": [
    "## Reading and writing arrays\n",
    "Read and write human-readable text files with `loadtxt` and `savetxt`."
   ]
  },
  {
   "cell_type": "code",
   "execution_count": null,
   "id": "3c3cbcf7",
   "metadata": {},
   "outputs": [],
   "source": [
    "lj13 = np.loadtxt(\"lj13.txt\")\n",
    "lj14 = np.zeros((14,3), dtype=float)\n",
    "lj14[:-1] = lj13[:]\n",
    "lj14[-1] = np.random.rand(3)\n",
    "np.savetxt(\"lj14.txt\", lj14)"
   ]
  },
  {
   "cell_type": "markdown",
   "id": "36dc76b1",
   "metadata": {},
   "source": [
    "For faster reading and writing, use `load` and `save`."
   ]
  },
  {
   "cell_type": "code",
   "execution_count": null,
   "id": "632b7a61",
   "metadata": {},
   "outputs": [],
   "source": [
    "lj13 = np.loadtxt(\"lj13.txt\")\n",
    "np.save(\"lj13.npy\", lj13)\n",
    "lj13_copy = np.load(\"lj13.npy\")\n",
    "np.all(lj13 == lj13_copy)"
   ]
  },
  {
   "cell_type": "markdown",
   "id": "343d2631",
   "metadata": {},
   "source": [
    "To read text files more selectively, use `genfromtxt`."
   ]
  },
  {
   "cell_type": "code",
   "execution_count": null,
   "id": "6aa2babb",
   "metadata": {},
   "outputs": [],
   "source": [
    "xs = np.genfromtxt(\"lj13.txt\", skip_header=2, usecols=(0,2))  # x, z coordinates of particles 2--13\n",
    "xs.shape"
   ]
  },
  {
   "cell_type": "markdown",
   "id": "bf0c1663",
   "metadata": {},
   "source": [
    "## Plotting with `matplotlib`\n",
    "Matplotlib is a python package that provides functions to draw figures.\n",
    "\n",
    "You can get started with Matplotlib very quickly:"
   ]
  },
  {
   "cell_type": "code",
   "execution_count": null,
   "id": "abde2b2c",
   "metadata": {},
   "outputs": [],
   "source": [
    "import numpy as np\n",
    "import matplotlib.pyplot as plt"
   ]
  },
  {
   "cell_type": "code",
   "execution_count": null,
   "id": "8740af34",
   "metadata": {},
   "outputs": [],
   "source": [
    "x = np.linspace(-1, 1, 100)"
   ]
  },
  {
   "cell_type": "code",
   "execution_count": null,
   "id": "9960ec65",
   "metadata": {},
   "outputs": [],
   "source": [
    "fig, ax = plt.subplots(1, 1)\n",
    "ax.plot(x, x**2)"
   ]
  },
  {
   "cell_type": "code",
   "execution_count": null,
   "id": "03bbd001",
   "metadata": {},
   "outputs": [],
   "source": [
    "# fixed size\n",
    "fig, ax = plt.subplots(1, 1, figsize=(4,4))\n",
    "ax.plot(x, x**2)\n"
   ]
  },
  {
   "cell_type": "code",
   "execution_count": null,
   "id": "c6bbf0df",
   "metadata": {},
   "outputs": [],
   "source": [
    "# with legend\n",
    "fig, ax = plt.subplots(1, 1, figsize=(4, 4))\n",
    "ax.plot(x, x**2, label=\"$y=x^{2}$\")\n",
    "ax.plot(x, x**3, label=\"$y=x^{3}$\")\n",
    "ax.legend(loc=\"lower right\")"
   ]
  },
  {
   "cell_type": "code",
   "execution_count": null,
   "id": "9d026c77",
   "metadata": {},
   "outputs": [],
   "source": [
    "# with legend\n",
    "fig, ax = plt.subplots(1, 1, figsize=(4, 4))\n",
    "ax.plot(x, x**2, label=\"$y=x^{2}$\")\n",
    "ax.plot(x, x**3, label=\"$y=x^{3}$\")\n",
    "ax.legend(loc=\"lower right\")\n",
    "ax.set_xlabel(\"$x$\")\n",
    "ax.set_ylabel(\"$y$\")"
   ]
  },
  {
   "cell_type": "code",
   "execution_count": null,
   "id": "73ca79fe",
   "metadata": {},
   "outputs": [],
   "source": [
    "# with custom ticks\n",
    "fig, ax = plt.subplots(1, 1, figsize=(4, 4))\n",
    "ax.plot(x, x**2, label=\"$y=x^{2}$\")\n",
    "ax.plot(x, x**3, label=\"$y=x^{3}$\")\n",
    "ax.legend(loc=\"lower right\")\n",
    "ax.set_xlabel(\"$x$\")\n",
    "ax.set_ylabel(\"$y$\")\n",
    "ax.set_yticks([-1,-0.5,0,0.5,1])"
   ]
  },
  {
   "cell_type": "code",
   "execution_count": null,
   "id": "0a9e5f6d",
   "metadata": {},
   "outputs": [],
   "source": [
    "# separate axes, same ranges\n",
    "fig, (ax1, ax2) = plt.subplots(1, 2, figsize=(8, 4), sharex=\"all\", sharey=\"all\")\n",
    "\n",
    "x = np.linspace(-1, 1, 21)\n",
    "\n",
    "ax1.plot(\n",
    "    x, x**2,\n",
    "    label=\"$y=x^{2}$\",\n",
    "    linestyle='-',\n",
    "    color='tab:blue',\n",
    "    marker='o',\n",
    "    markerfacecolor='tab:orange'\n",
    ")\n",
    "\n",
    "ax1.legend(loc=\"lower right\")\n",
    "ax1.set_title(\"axis title\")\n",
    "ax1.set_yticks([-1,-0.5,0,0.5,1])\n",
    "\n",
    "ax2.plot(\n",
    "    x, x**3,\n",
    "    label=\"$y=x^{3}$\",\n",
    "    linestyle='-',\n",
    "    color='g',\n",
    "    marker='o',\n",
    "    markerfacecolor='#CCFFEE'\n",
    ")\n",
    "\n",
    "ax2.legend(loc=\"lower right\")\n",
    "ax2.set_title(\"axis title\")\n",
    "\n",
    "fig.supxlabel(\"$x$\")\n",
    "fig.supylabel(\"$y$\")\n",
    "fig.suptitle(\"figure title\")\n"
   ]
  },
  {
   "cell_type": "code",
   "execution_count": null,
   "id": "976042c4",
   "metadata": {},
   "outputs": [],
   "source": [
    "# constrained_layout for much better-looking plots!\n",
    "fig, (ax1, ax2) = plt.subplots(\n",
    "    1, 2,\n",
    "    figsize=(8, 4),\n",
    "    sharex=\"all\",\n",
    "    sharey=\"all\",\n",
    "    constrained_layout=True,\n",
    ")\n",
    "\n",
    "x = np.linspace(-1, 1, 21)\n",
    "\n",
    "ax1.plot(\n",
    "    x, x**2,\n",
    "    label=\"$y=x^{2}$\",\n",
    "    linestyle='-',\n",
    "    color='tab:blue',\n",
    "    marker='o',\n",
    "    markerfacecolor='tab:orange'\n",
    ")\n",
    "\n",
    "ax1.legend(loc=\"lower right\")\n",
    "ax1.set_title(\"axis title\")\n",
    "ax1.set_yticks([-1,-0.5,0,0.5,1])\n",
    "\n",
    "ax2.plot(\n",
    "    x, x**3,\n",
    "    label=\"$y=x^{3}$\",\n",
    "    linestyle='-',\n",
    "    color='g',\n",
    "    marker='o',\n",
    "    markerfacecolor='#CCFFEE'\n",
    ")\n",
    "\n",
    "ax2.legend(loc=\"lower right\")\n",
    "ax2.set_title(\"axis title\")\n",
    "\n",
    "fig.supxlabel(\"$x$\")\n",
    "fig.supylabel(\"$y$\")\n",
    "fig.suptitle(\"figure title\")\n"
   ]
  },
  {
   "cell_type": "markdown",
   "id": "f59ff8ac",
   "metadata": {},
   "source": [
    "Let's use these ideas to plot the time taken by the two pairwise potential functions."
   ]
  },
  {
   "cell_type": "code",
   "execution_count": null,
   "id": "d55a3c37",
   "metadata": {},
   "outputs": [],
   "source": [
    "fig, ax = plt.subplots(1, 1, constrained_layout=True, figsize=plt.figaspect(1 / 2))\n",
    "\n",
    "ax.plot(atoms, timings_python, 'o-', label=\"python\")\n",
    "ax.plot(atoms, timings_numpy, 'o-', label=\"numpy\")\n",
    "ax.legend()\n",
    "ax.set_yscale('log')\n",
    "ax.set_ylabel(\"time / s\")\n",
    "\n",
    "ax1 = ax.twinx()\n",
    "ax1.plot(atoms, timings_python/timings_numpy, 'k*-', label=\"ratio\")\n",
    "ax1.legend(loc=\"lower right\")\n",
    "ax1.set_ylabel(\"python / numpy\")\n",
    "ax1.set_yticks([20])\n",
    "\n",
    "plt.show()\n"
   ]
  },
  {
   "cell_type": "markdown",
   "id": "ecd576a3",
   "metadata": {},
   "source": [
    "# Summary\n",
    "NumPy provides the `ndarray` object, an essential building block of many scientific Python pipelines.\n",
    "\n",
    "`ndarray`s provide fast, vectorised arithmetic and convenient data access and manipulation, marrying the execution speed of compiled languages with the development speed of Python.\n",
    "\n",
    "Matplotlib is just one of many plotting libraries, but one that is well adopted, well documented, and full featured. If you think it should be possible, it probably is. \n",
    "\n",
    "NumPy's `ndarray` is great for number crunching. But if you're handling large quantities of labelled, imperfect data, the Pandas `DataFrame` is the way to go. "
   ]
  },
  {
   "cell_type": "markdown",
   "id": "c87e9879",
   "metadata": {},
   "source": [
    "# Exercise\n",
    "Later on in the course, you will code and run Monte Carlo (MC) and molecular dynamics (MD) simulations of a system of particles interacting *via* pairwise-additive forces.\n",
    "\n",
    "A basic MC simulation requires only computation of particle energies, while MD simulations require computation of forces.\n",
    "\n",
    "Write a python function that computes the **analytical** gradient of an arbitrary pairwise potential."
   ]
  },
  {
   "cell_type": "code",
   "execution_count": 109,
   "id": "e4724bce",
   "metadata": {},
   "outputs": [
    {
     "name": "stdout",
     "output_type": "stream",
     "text": [
      "[[0.26354493 0.76526056]\n",
      " [1.72316581 5.17451065]\n",
      " [2.79008533 4.74637504]\n",
      " [0.63769997 3.78637842]\n",
      " [2.77305791 0.05117928]\n",
      " [0.21538282 2.56150364]]\n",
      "14.373460158821963\n",
      "[[11.79169951 -3.36784703]\n",
      " [ 2.02385986  5.00839423]\n",
      " [ 0.99333713  3.75879461]\n",
      " [ 4.13542687  3.76027453]\n",
      " [ 1.11818262  1.86574024]\n",
      " [10.19944864  6.05985101]]\n",
      "[[0.6816537285789631, -0.15691384618713078, 0.7146511311046522], [0.2622718582221074, -0.860007491657795, -0.4377220427133987], [-0.6832694733060808, -0.4849117672014539, 0.5458968811759175], [0.6827720675854675, 0.48607973465096943, -0.5454803344637722], [-0.2614161681475602, 0.8604736748164744, 0.4373175527907368], [-0.6821087264874891, 0.15492263591751296, -0.7146514270117884]]\n",
      "9.98528247233445\n"
     ]
    },
    {
     "data": {
      "image/png": "[encoded data removed]",
      "text/plain": [
       "<Figure size 640x480 with 1 Axes>"
      ]
     },
     "metadata": {},
     "output_type": "display_data"
    }
   ],
   "source": [
    "import sys\n",
    "import os\n",
    "\n",
    "sys.path.append(\"../examples/\")\n",
    "\n",
    "from pair_potential import lj_energy_c, lj_gradient_c\n",
    "from local_optimisation import gradient_descent, bfgs, hybrid_eigenvector_following\n",
    "\n",
    "def array_norm(v:np.array):\n",
    "    v=np.array(v)\n",
    "    square = np.sum(v * v)\n",
    "    return np.sqrt(square)\n",
    "\n",
    "def pairwise_potential_gradient(gradient: Callable[[float], float], xss: [[float]]) -> [[float]]:\n",
    "    \"\"\"\n",
    "    calculate the gradient of the total pairwise energy w.r.t. the particle coordinates.\n",
    "    \n",
    "    :param gradient: computes the magnitude of the gradient for a single pair\n",
    "    :param xss: n x d array of particle coordinates\n",
    "    :return: n x d array of the derivative of the total energy w.r.t. particle coordinates\n",
    "    \"\"\"\n",
    "    \n",
    "    xss_array=np.array(xss)\n",
    "    n, d = xss_array.shape\n",
    "    xss_flat=xss_array.flatten()\n",
    "    gradient_components = []\n",
    "    \n",
    "    for i in range(n):\n",
    "        for alpha in range(d):\n",
    "            sum=0\n",
    "            for j in range(n):\n",
    "                if j!=i:\n",
    "                    distance=dist(xss[i],xss[j])\n",
    "                    sum+=(xss_array[i,alpha]-xss_array[j,alpha])/distance*gradient(distance)\n",
    "            gradient_components.append(sum)\n",
    "            \n",
    "    return np.array(gradient_components).reshape((-1,3))\n",
    "\n",
    "def pairwise_coulomb_potential_gradient(angles:[[float]])->[[float]]:\n",
    "    angles_array=np.array(angles)\n",
    "    n,d=angles_array.shape\n",
    "    angles_flat=angles_array.flatten()\n",
    "    gradient_components=[]\n",
    "    \n",
    "    for i in range(n):\n",
    "        # calculate partial theta first\n",
    "        theta_i=angles[i][0]\n",
    "        phi_i=angles[i][1]\n",
    "        coordinate_i=sph_cartesian(angles[i])\n",
    "        sum=0\n",
    "        for j in range(n):\n",
    "            if j!=i:\n",
    "                coordinate_j=sph_cartesian(angles[j])\n",
    "                distance=dist(coordinate_i,sph_cartesian(angles[j]))\n",
    "                sum+=(2*(coordinate_i[0]-coordinate_j[0])*(np.cos(theta_i))*(np.cos(phi_i))+2*(coordinate_i[1]-coordinate_j[1])*(np.cos(theta_i))*(np.sin(phi_i))+2*(coordinate_i[2]-coordinate_j[2])*(0-np.sin(theta_i)))*(0-1/distance**3)/2\n",
    "        gradient_components.append(sum)\n",
    "        \n",
    "        # calculate partial phi next\n",
    "        sum=0\n",
    "        for j in range(n):\n",
    "            if j!=i:\n",
    "                coordinate_j=sph_cartesian(angles[j])\n",
    "                distance=dist(coordinate_i,sph_cartesian(angles[j]))\n",
    "                sum+=((coordinate_i[0]-coordinate_j[0])*(0-np.sin(theta_i))*(np.sin(phi_i))+(coordinate_i[1]-coordinate_j[1])*(np.sin(theta_i))*(np.cos(phi_i)))*(0-1/distance**3)\n",
    "        gradient_components.append(sum)\n",
    "    \n",
    "    return np.array(gradient_components).reshape((-1,d))\n",
    "    \n",
    "def lj_gradient_descent(x0: [[float]],tol:float,c0: float=0.3, tau: float=0.5, max_alpha: float=1):\n",
    "    c=np.array(x0).flatten()\n",
    "    \n",
    "    while (array_norm(lj_gradient_c(c))>np.power(tol,1/3)):\n",
    "        p=lj_gradient_c(c)\n",
    "        m=array_norm(p)\n",
    "        p=p/m\n",
    "        alpha=max_alpha\n",
    "        while lj_energy_c(c-alpha*p)-lj_energy_c(c)>-alpha*c0*m:\n",
    "            #print(\"LHS= {:.15f}\".format(pairwise_potential(lj_potential,c-alpha*p)-pairwise_potential(lj_potential,c)))\n",
    "            #print(\"RHS= {:.15f}\".format(-alpha*c0*m))\n",
    "            #print(alpha)\n",
    "            alpha=tau*alpha\n",
    "        c=c-alpha*p       \n",
    "        \n",
    "    a=c\n",
    "    b=a-lj_gradient_c(a)\n",
    "    \n",
    "    while array_norm(lj_gradient_c(b))>tol:\n",
    "        gamma=abs(sum((a-b).flatten()*(lj_gradient_c(a)-lj_gradient_c(b)).flatten()))/(array_norm(lj_gradient_c(a)-lj_gradient_c(b)))**2\n",
    "        c=b-gamma*lj_gradient_c(b)\n",
    "        a=b \n",
    "        b=c\n",
    "    \n",
    "    return c\n",
    "\n",
    "def coulomb_gradient_descent(angles:[[float]],tol:float,c0:float=0.3,tau:float=0.5,max_alpha:float=1):\n",
    "    c=np.array(angles)\n",
    "    \n",
    "    \"\"\"\n",
    "    while (array_norm(pairwise_coulomb_potential_gradient(c))>np.power(tol,1/3)):\n",
    "        p=pairwise_coulomb_potential_gradient(c)\n",
    "        m=array_norm(p)\n",
    "        p=p/m\n",
    "        alpha=max_alpha\n",
    "        while pairwise_coulomb_potential(c-alpha*p)-pairwise_coulomb_potential(c)>-alpha*c0*m:\n",
    "            alpha=tau*alpha\n",
    "        c=c-alpha*tau\n",
    "    \"\"\"\n",
    "        \n",
    "    a=c\n",
    "    b=a-pairwise_coulomb_potential_gradient(a)\n",
    "    \n",
    "    while array_norm(pairwise_coulomb_potential_gradient(b))>tol:\n",
    "        gamma=abs(sum((a-b).flatten()*(pairwise_coulomb_potential_gradient(a)-pairwise_coulomb_potential_gradient(b)).flatten()))/(array_norm(pairwise_coulomb_potential_gradient(a)-pairwise_coulomb_potential_gradient(b)))**2\n",
    "        c=b-gamma*pairwise_coulomb_potential_gradient(b)\n",
    "        a=b \n",
    "        b=c\n",
    "    \n",
    "    return c\n",
    "\n",
    "col1=np.random.rand(6) * np.pi\n",
    "col2 = np.random.rand(6) * 2 * np.pi\n",
    "\n",
    "arr= np.column_stack((col1, col2))\n",
    "    \n",
    "descent_arr=coulomb_gradient_descent(arr,1e-3,c0=0.2)\n",
    "descent_energy=pairwise_coulomb_potential(descent_arr)\n",
    "\n",
    "    \n",
    "print(arr)\n",
    "print(pairwise_coulomb_potential(arr))\n",
    "print(descent_arr)\n",
    "config=[sph_cartesian(c) for c in descent_arr]\n",
    "print(config)\n",
    "print(descent_energy)\n",
    "\n",
    "fig = plt.figure()\n",
    "ax = fig.add_subplot(111, projection='3d')\n",
    "\n",
    "# Create a unit sphere\n",
    "u = np.linspace(0, 2 * np.pi, 1000)\n",
    "v = np.linspace(0, np.pi, 500)\n",
    "u, v = np.meshgrid(u, v)\n",
    "x = np.cos(u) * np.sin(v)\n",
    "y = np.sin(u) * np.sin(v)\n",
    "z = np.cos(v)\n",
    "\n",
    "# Plot the wireframe of the unit sphere\n",
    "ax.plot_wireframe(x, y, z, color='r', alpha=0.1)\n",
    "\n",
    "for point in config:\n",
    "    ax.scatter(point[0], point[1], point[2], c='b', marker='o')\n",
    "    \n",
    "ax.set_xlabel('X-axis')\n",
    "ax.set_ylabel('Y-axis')\n",
    "ax.set_zlabel('Z-axis')\n",
    "\n",
    "# Set the title of the plot\n",
    "ax.set_title('3D Scatter Plot')\n",
    "ax.view_init(elev=90, azim=50)\n",
    "\n",
    "# Show the plot\n",
    "plt.show()\n",
    "\n",
    "min_energy=[0.5000000,1.7320508,3.67423483,6.4746939,9.98528335,14.453036,19.6752885,25.759989,32.7169573,40.5964530,49.1652546]\n",
    "\n",
    "N=[i for i in range(2,13)]\n"
   ]
  },
  {
   "cell_type": "code",
   "execution_count": 127,
   "id": "4297c7ff",
   "metadata": {},
   "outputs": [
    {
     "ename": "ImportError",
     "evalue": "dynamic module does not define module export function (PyInit_minimize_thomson_c)",
     "output_type": "error",
     "traceback": [
      "\u001b[0;31m---------------------------------------------------------------------------\u001b[0m",
      "\u001b[0;31mImportError\u001b[0m                               Traceback (most recent call last)",
      "Cell \u001b[0;32mIn[127], line 1\u001b[0m\n\u001b[0;32m----> 1\u001b[0m \u001b[39mfrom\u001b[39;00m \u001b[39mminimize_thomson_c\u001b[39;00m \u001b[39mimport\u001b[39;00m coulomb_gradient_descent\n\u001b[1;32m      2\u001b[0m \u001b[39mfrom\u001b[39;00m \u001b[39mminimize_thomson_c\u001b[39;00m \u001b[39mimport\u001b[39;00m generate_cluster\n\u001b[1;32m      3\u001b[0m config\u001b[39m=\u001b[39mcoulomb_gradient_descent(generate_cluster(\u001b[39m3\u001b[39m))\n",
      "\u001b[0;31mImportError\u001b[0m: dynamic module does not define module export function (PyInit_minimize_thomson_c)"
     ]
    }
   ],
   "source": [
    "\n",
    "from minimize_thomson import coulomb_gradient_descent\n",
    "from minimize_thomson import generate_cluster\n",
    "config=coulomb_gradient_descent(generate_cluster(3))"
   ]
  },
  {
   "cell_type": "code",
   "execution_count": null,
   "id": "363c2fc3",
   "metadata": {},
   "outputs": [],
   "source": [
    "lj_new=np.load(\"config.npy\")\n",
    "lj_new=lj_new.reshape((-1,3))\n",
    "print(lj_new)\n",
    "print(pairwise_potential_gradient(lj_potential_derivative,lj_new))\n",
    "print(lj_new*pairwise_potential_gradient(lj_potential_derivative,lj_new))"
   ]
  },
  {
   "cell_type": "code",
   "execution_count": null,
   "id": "ddb58cf0",
   "metadata": {},
   "outputs": [],
   "source": [
    "lj_new=np.load(\"config.npy\")\n",
    "\n",
    "lj_new=lj_new.reshape((-1,3))\n",
    "print(lj_new)\n",
    "lj_new=lj_new.tolist()\n",
    "print(array_norm(pairwise_potential_gradient(lj_potential_derivative,lj_new)))\n",
    "min_config=lj_gradient_descent(lj_new,1e-12,c0=0.3,tau=0.5)\n",
    "print(min_config)\n",
    "print(pairwise_potential(lj_potential,lj_new))\n",
    "print(lj_energy_c(min_config))\n",
    "print(lj_gradient_c(min_config))\n",
    "print(array_norm(lj_gradient_c(min_config)))\n",
    "np.save(\"minimum.npy\",min_config)"
   ]
  },
  {
   "cell_type": "code",
   "execution_count": 41,
   "id": "c45f9f7f",
   "metadata": {},
   "outputs": [
    {
     "name": "stdout",
     "output_type": "stream",
     "text": [
      "-2.999999999999931\n"
     ]
    }
   ],
   "source": [
    "from matplotlib import pyplot as plt\n",
    "\n",
    "unique_energies=[]\n",
    "energies=[]\n",
    "\n",
    "sup_energy=0\n",
    "\n",
    "for i in range(1000):\n",
    "    random_array = np.random.normal(0, 0.5, (3,3))\n",
    "    descent_energy=lj_energy_c(lj_gradient_descent(random_array,1e-5,c0=0.3))\n",
    "    new=False\n",
    "    if descent_energy<sup_energy:\n",
    "        sup_energy=descent_energy\n",
    "        \n",
    "\n",
    "print(descent_energy)\n"
   ]
  },
  {
   "cell_type": "code",
   "execution_count": 392,
   "id": "30c36085",
   "metadata": {},
   "outputs": [
    {
     "name": "stdout",
     "output_type": "stream",
     "text": [
      "[-27.545206852348702, -28.422531893437334, -27.479738906477294, -26.623319771923548, -27.213935439903388, -26.490498702068088, -26.362284335032015, -27.205646971186752, -26.48390904528584, -25.34420481630673, -25.407481840789487, -25.504007890317464, -26.52174160444426, -27.555863037945116, -27.44682896765391, -27.190102501661464, -26.579186616363778, -26.418356107700358, -26.59552069909815, -26.46435386266269, -27.114909528901226, -26.558010932288, -26.695238099314672, -27.522330113201335, -26.442884992140012, -26.59079434116065, -26.588625004893185, -27.372275756240402, -26.53143449792979, -26.622637325840454, -26.738617469384558, -26.611451210540594, -26.492051620125714, -26.37385878453653, -27.27396498820465, -26.212478010288997, -26.199610066010724, -25.443356178312126, -26.116140443747327, -26.328746703630262, -25.552040888246353, -26.60797281829455, -26.416524302590055, -25.526840246157956, -25.330736977541193, -26.319945122963183, -26.494893926588272, -25.288749213448906, -25.791843431811625, -26.464463807379307, -26.261633153483242, -25.566619206119803, -25.427039332381664, -26.472963066995536, -26.253192111626728, -25.57855034564877]\n",
      "56\n"
     ]
    }
   ],
   "source": [
    "energies=[]\n",
    "for i in range(1000):\n",
    "    random_array = np.random.normal(0, 0.5, (10,3))\n",
    "    descent_energy=lj_energy_c(lj_gradient_descent(random_array,1e-5,c0=0.3))\n",
    "    new=False\n",
    "    if all(abs(e-descent_energy)>1e-4 for e in energies):\n",
    "        energies.append(descent_energy)\n",
    "        \n",
    "\n",
    "print(energies)\n",
    "print(len(energies))"
   ]
  },
  {
   "cell_type": "code",
   "execution_count": 386,
   "id": "5590f42e",
   "metadata": {},
   "outputs": [
    {
     "data": {
      "image/png": "[encoded data removed]",
      "text/plain": [
       "<Figure size 640x480 with 1 Axes>"
      ]
     },
     "metadata": {},
     "output_type": "display_data"
    }
   ],
   "source": [
    "cluster_size=[i for i in range(2,21)]\n",
    "lowest_energy=[-1,-3,-6,-9.1039,-12.7121,-16.5054,-19.8215,-24.1134,-28.4226,-32.7660,-37.9676,-44.3269,-47.8452,-52.3227,-56.8158,-61.3180,-66.5310,-72.6598,-77.1771]\n",
    "\n",
    "unique_energy_number=[1, 1, 1, 1, 2, 4, 8, 21, 59, 128, 253, 311, 462, 539, 657, 780, 1048, 1277, 1470]\n",
    "\n",
    "\n",
    "plt.scatter(cluster_size,unique_energy_number)\n",
    "plt.xlabel(\"N\")\n",
    "plt.ylabel(\"number of unique energies\")\n",
    "plt.xticks(range(2, 21))\n",
    "plt.savefig(\"unique_energies.png\")"
   ]
  },
  {
   "cell_type": "code",
   "execution_count": null,
   "id": "545f5c7a",
   "metadata": {},
   "outputs": [],
   "source": [
    "lj_min=np.load(\"minimum.npy\")\n",
    "print(array_norm(pairwise_potential_gradient(lj_potential_derivative,lj_min)))\n",
    "print(lj_min)\n",
    "print(pairwise_potential_gradient(lj_potential_derivative,lj_min))"
   ]
  },
  {
   "cell_type": "code",
   "execution_count": 391,
   "id": "592b63bc",
   "metadata": {},
   "outputs": [
    {
     "name": "stdout",
     "output_type": "stream",
     "text": [
      "[[[1, 2, 3]]]\n"
     ]
    }
   ],
   "source": [
    "l=[[[1,2,3]]]\n",
    "print(l.copy())"
   ]
  }
 ],
 "metadata": {
  "kernelspec": {
   "display_name": "Python 3",
   "language": "python",
   "name": "python3"
  },
  "language_info": {
   "codemirror_mode": {
    "name": "ipython",
    "version": 3
   },
   "file_extension": ".py",
   "mimetype": "text/x-python",
   "name": "python",
   "nbconvert_exporter": "python",
   "pygments_lexer": "ipython3",
   "version": "3.11.2"
  },
  "vscode": {
   "interpreter": {
    "hash": "aee8b7b246df8f9039afb4144a1f6fd8d2ca17a180786b69acc140d282b71a49"
   }
  }
 },
 "nbformat": 4,
 "nbformat_minor": 5
}
