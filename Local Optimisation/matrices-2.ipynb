{
 "cells": [
  {
   "cell_type": "code",
   "execution_count": 1,
   "id": "34044d9c-8814-4a88-934f-56ad4f048058",
   "metadata": {},
   "outputs": [],
   "source": [
    "from typing import Callable\n",
    "from itertools import pairwise\n",
    "\n",
    "import numpy as np\n",
    "from numpy import ndarray\n",
    "\n",
    "import matplotlib.pyplot as plt\n",
    "from matplotlib.colors import LogNorm\n",
    "\n",
    "from scipy.optimize import rosen, rosen_der, rosen_hess\n",
    "\n",
    "import doctest\n",
    "import autograd.numpy as aunp\n",
    "from autograd import grad, jacobian, hessian"
   ]
  },
  {
   "cell_type": "markdown",
   "id": "f8ff846e-adfa-41bc-b88d-bffd30d3c1a9",
   "metadata": {},
   "source": [
    "# Solving linear systems\n",
    "\n",
    "Solving linear problems of the form $\\mathbf{Ax}=\\mathbf{b}$ is foundational for solving non-linear problems in many dimensions.\n",
    "\n",
    "Along the way, we also learn how to solve for determinants and inverses of matrices."
   ]
  },
  {
   "cell_type": "code",
   "execution_count": 3,
   "id": "ce3a2cc3-b5e7-4230-8a22-d1c549371b63",
   "metadata": {},
   "outputs": [
    {
     "data": {
      "text/plain": [
       "TestResults(failed=0, attempted=18)"
      ]
     },
     "execution_count": 3,
     "metadata": {},
     "output_type": "execute_result"
    }
   ],
   "source": [
    "def gauss_jordan_helper(matrix: ndarray) -> ndarray:\n",
    "    \"\"\"\n",
    "    perform Gauss Jordan elimination to bring A into upper-triangular form\n",
    "    changes A in place\n",
    "\n",
    "    >>> x = np.array([[2,1,-1],[-3,-1,2],[-2,1,2]], dtype=float)\n",
    "    >>> y = np.array([[2,1,-1],[0,1/2,1/2],[0,0,-1]], dtype=float)\n",
    "    >>> np.allclose(y, gauss_jordan_helper(x))\n",
    "    True\n",
    "    \"\"\"\n",
    "    n, m = matrix.shape\n",
    "    if n == 1:\n",
    "        return matrix\n",
    "    matrix[1:] -= (matrix[1:n, 0:1] / matrix[0:1, 0:1]) * matrix[0:1]\n",
    "    gauss_jordan_helper(matrix[1:n, 1:m])\n",
    "    return matrix\n",
    "\n",
    "\n",
    "def gauss_jordan(matrix: ndarray) -> ndarray:\n",
    "    \"\"\"\n",
    "    perform Gauss Jordan elimination to bring A into upper-triangular form\n",
    "\n",
    "    >>> x = np.array([[2,1,-1],[-3,-1,2],[-2,1,2]], dtype=float)\n",
    "    >>> y = np.array([[2,1,-1],[0,1/2,1/2],[0,0,-1]], dtype=float)\n",
    "    >>> np.allclose(y, gauss_jordan(x))\n",
    "    True\n",
    "    \"\"\"\n",
    "    return gauss_jordan_helper(matrix.copy())\n",
    "\n",
    "\n",
    "def determinant(matrix: ndarray) -> float:\n",
    "    \"\"\"\n",
    "    get the determinant of a matrix\n",
    "\n",
    "    >>> x = np.array([[2,1,-1],[-3,-1,2],[-2,1,2]], dtype=float)\n",
    "    >>> determinant(x)\n",
    "    -1.0\n",
    "    \"\"\"\n",
    "    return np.product(np.diagonal(gauss_jordan(matrix)))\n",
    "\n",
    "\n",
    "def reduced_row_echelon(matrix: ndarray) -> ndarray:\n",
    "    \"\"\"\n",
    "    get the reduced row echelon form of an (n x m) matrix, m >= n, using Gaussian elimination\n",
    "\n",
    "\n",
    "    >>> A = np.array([[2,1,-1],[-3,-1,2],[-2,1,2]], dtype=float)\n",
    "    >>> np.allclose(np.eye(3), reduced_row_echelon(A))\n",
    "    True\n",
    "    \"\"\"\n",
    "    n, _ = matrix.shape\n",
    "\n",
    "    matrix = gauss_jordan(matrix)\n",
    "    matrix[:] = matrix[::-1]\n",
    "    matrix[:, 0:n] = matrix[:, (n - 1)::-1]\n",
    "\n",
    "    matrix = gauss_jordan(matrix)\n",
    "    matrix[:] = matrix[::-1]\n",
    "    matrix[:, 0:n] = matrix[:, (n - 1)::-1]\n",
    "\n",
    "    matrix /= np.diagonal(matrix)[:, None]\n",
    "\n",
    "    return matrix\n",
    "\n",
    "\n",
    "def solve(matrix: ndarray, vector: ndarray) -> ndarray:\n",
    "    \"\"\"\n",
    "    solve Ax = b for x using Gaussian elimination\n",
    "\n",
    "    >>> m = np.array([[2,1,-1],[-3,-1,2],[-2,1,2]], dtype=float)\n",
    "    >>> v = np.array([8, -11, -3], dtype=float).reshape(3,1)\n",
    "    >>> x = np.array([2,3,-1], dtype=float).reshape(3,1)\n",
    "    >>> np.allclose(x, solve(m, v))\n",
    "    True\n",
    "    \"\"\"\n",
    "    n, _ = matrix.shape\n",
    "\n",
    "    aug = np.hstack([matrix, vector])\n",
    "    return reduced_row_echelon(aug)[:, -1:]\n",
    "\n",
    "\n",
    "def inverse(matrix: ndarray) -> ndarray:\n",
    "    \"\"\"\n",
    "    find the inverse of square matrix A\n",
    "\n",
    "    >>> matrix = np.array([[2,1,-1],[-3,-1,2],[-2,1,2]], dtype=float)\n",
    "    >>> np.allclose(np.eye(3), matrix@inverse(matrix))\n",
    "    True\n",
    "    >>> matrix = np.random.rand(9).reshape(3,3)\n",
    "    >>> np.allclose(np.eye(3), matrix@inverse(matrix))\n",
    "    True\n",
    "    \"\"\"\n",
    "    n, _ = matrix.shape\n",
    "\n",
    "    aug = np.hstack([matrix, np.eye(n)])\n",
    "    return reduced_row_echelon(aug)[:, n:]\n",
    "\n",
    "\n",
    "doctest.testmod(verbose=False)"
   ]
  },
  {
   "cell_type": "markdown",
   "id": "f434952f-afe2-4216-bcca-76d05e8d2666",
   "metadata": {},
   "source": [
    "This approach can suffer from precision loss and divide-by-zero errors.\n",
    "\n",
    "One solution, **pivoting**, is to rearrange the rows of the matrix to ensure that we always divide by the largest number possible."
   ]
  },
  {
   "cell_type": "code",
   "execution_count": 4,
   "id": "57428c48-6792-4624-9301-1a343c84334f",
   "metadata": {
    "tags": []
   },
   "outputs": [
    {
     "data": {
      "text/plain": [
       "TestResults(failed=0, attempted=20)"
      ]
     },
     "execution_count": 4,
     "metadata": {},
     "output_type": "execute_result"
    }
   ],
   "source": [
    "def pivot(matrix: ndarray) -> ndarray:\n",
    "    \"\"\"\n",
    "    >>> x = np.array([[-3,2,6],[-9,1,3],[8,-5,2]], dtype=float);\n",
    "    >>> pivot(x)\n",
    "    array([[-9.,  1.,  3.],\n",
    "           [ 8., -5.,  2.],\n",
    "           [-3.,  2.,  6.]])\n",
    "    \"\"\"\n",
    "    n, m = matrix.shape\n",
    "    if n == 1:\n",
    "        return matrix\n",
    "    matrix[:] = matrix[[i for i, _ in sorted(zip(range(n), matrix[:, 0]), key=lambda xs: -abs(xs[1]))]]\n",
    "    pivot(matrix[1:, 1:])\n",
    "    return matrix\n",
    "\n",
    "doctest.testmod(verbose=False)"
   ]
  },
  {
   "cell_type": "code",
   "execution_count": 19,
   "id": "9f1379dc-9611-4b89-8649-6d8e074cd4f5",
   "metadata": {},
   "outputs": [
    {
     "data": {
      "text/plain": [
       "array([4., 1.])"
      ]
     },
     "execution_count": 19,
     "metadata": {},
     "output_type": "execute_result"
    }
   ],
   "source": [
    "def newton(f, df, d2f, x0, tol):\n",
    "    sequence = [x0.copy()]\n",
    "    \n",
    "    while np.linalg.norm(x0 - (x1:=x0 - inverse(d2f(x0)) @ df(x0))) > tol:\n",
    "        sequence.append(x1.copy())\n",
    "        x0[:] = x1[:]\n",
    "    \n",
    "    sequence.append(x1.copy())\n",
    "\n",
    "    return sequence\n",
    "\n",
    "def test_f(x):\n",
    "    return x[0]**2+x[0]*x[1]\n",
    "\n",
    "J = jacobian(test_f)\n",
    "x0 = np.array([1, 2]).astype(float)\n",
    "\n",
    "\n",
    "# Evaluate the Hessian matrix of J(x) at x0 = (1, 2)\n",
    "H = hessian(test_f)\n",
    "\n",
    "J(x0)"
   ]
  },
  {
   "cell_type": "code",
   "execution_count": 5,
   "id": "eb621081-69ed-462c-be3c-f28bc4d22e7a",
   "metadata": {},
   "outputs": [
    {
     "name": "stdout",
     "output_type": "stream",
     "text": [
      "drawing frame 0\n",
      "drawing frame 1\n",
      "drawing frame 2\n",
      "drawing frame 3\n",
      "drawing frame 4\n",
      "drawing frame 5\n"
     ]
    },
    {
     "data": {
      "text/plain": [
       "<Figure size 800x600 with 0 Axes>"
      ]
     },
     "metadata": {},
     "output_type": "display_data"
    }
   ],
   "source": [
    "x0 = np.array([0.5, 0.5])\n",
    "\n",
    "sequence = newton(f=rosen, df=rosen_der, d2f=rosen_hess, x0=x0, tol=1e-6)\n",
    "\n",
    "fig, ax = plt.subplots(1, 1, constrained_layout=True, figsize=(8,6))\n",
    "\n",
    "\n",
    "for frame, (x0, x1) in enumerate(pairwise(sequence)):\n",
    "    if frame % 1 and frame > 10 and frame != len(sequence) - 1:\n",
    "        continue\n",
    "    print(f\"drawing frame {frame}\")\n",
    "\n",
    "    simplexx = np.array([x0[0], x1[0]])\n",
    "    simplexy = np.array([x0[1], x1[1]])\n",
    "\n",
    "    if frame == 0:\n",
    "        xlim, ylim = [[-4, 4], [-4, 4]]\n",
    "    else:\n",
    "        xlim = np.array([min(simplexx.min(), 1), max(simplexx.max(), 1)])\n",
    "        xlim[0] -= (xlim[1]-xlim[0])*0.1\n",
    "        xlim[1] += (xlim[1]-xlim[0])*0.1\n",
    "        ylim = np.array([min(simplexy.min(), 1), max(simplexy.max(), 1)])\n",
    "        ylim[0] -= (ylim[1]-ylim[0])*0.1\n",
    "        ylim[1] += (ylim[1]-ylim[0])*0.1\n",
    "\n",
    "    xs = np.linspace(*xlim, 402)\n",
    "    ys = np.linspace(*ylim, 402)\n",
    "    xs, ys = np.meshgrid(xs, ys)\n",
    "    points = np.stack([xs, ys])\n",
    "    \n",
    "    ax.plot(*x0, 'ko')\n",
    "    ax.plot([1],[1],'k*')\n",
    "    cs = ax.contourf(\n",
    "        xs, ys, rosen(points),\n",
    "        cmap=plt.get_cmap(\"coolwarm\"),\n",
    "        levels=np.geomspace(1e-16,1e5,22),\n",
    "        norm=LogNorm(),\n",
    "        extend='both'\n",
    "    )\n",
    "    cbar = fig.colorbar(cs)\n",
    "    cbar.ax.set_yticklabels([f'{tick:.0e}' for tick in np.geomspace(1e-16,1e5,22)])\n",
    "    \n",
    "    ax.set_xlim(*xlim)\n",
    "    ax.set_ylim(*ylim)\n",
    "    ax.annotate(\"\", xy=x1, xytext=x0, arrowprops=dict(arrowstyle=\"->\", linewidth=2))\n",
    "    ax.set_title(f\"iteration {frame}; mean $\\sigma={np.linalg.norm(x1-x0):.1g}$\")\n",
    "    plt.savefig(f\"newton.{frame:03n}.png\", dpi=160)\n",
    "    \n",
    "    ax.cla()\n",
    "    cbar.remove()\n",
    "fig.clf()"
   ]
  },
  {
   "cell_type": "code",
   "execution_count": 29,
   "id": "a29aff1d-9e5c-4fd5-8bb4-45a6f04c9c6a",
   "metadata": {},
   "outputs": [],
   "source": [
    "def line_search(\n",
    "    f: Callable[[ndarray], ndarray],\n",
    "    df: Callable[[ndarray], ndarray],\n",
    "    x: ndarray,\n",
    "    p: ndarray,\n",
    "    c: float = 0.5,\n",
    "    t: float = 0.5,\n",
    "    max_alpha: float = 1):\n",
    "    \"\"\"\n",
    "    Performs a backtracking line search based on the Armijo–Goldstein condition\n",
    "    \"\"\"\n",
    "    m = p @ df(x)\n",
    "\n",
    "    if m > 0:\n",
    "        p *= -1\n",
    "\n",
    "    fx = f(x)\n",
    "    alpha = max_alpha\n",
    "    while f(x + alpha * p) > fx + c * alpha * m:\n",
    "        alpha *= t\n",
    "    return alpha\n",
    "\n",
    "\n",
    "def bfgs(f: Callable[[ndarray], ndarray],\n",
    "         df: Callable[[ndarray], ndarray],\n",
    "         x0: ndarray,\n",
    "         d2f: None |  Callable[[ndarray], ndarray] = None,\n",
    "         tol: float = 1e-8,\n",
    "         c: float = 0.5,\n",
    "         tau: float = 0.5):\n",
    "    d = x0.size\n",
    "    b0 = np.eye(d)#  if d2f is None else d2f(x0)\n",
    "    \n",
    "    sequence = [x0.copy()]\n",
    "    \n",
    "    def update():\n",
    "        raise NotImplementedError\n",
    "\n",
    "    while np.linalg.norm((x1:=update()) - x0) > tol:\n",
    "        x0[:] = x1[:] \n",
    "\n",
    "    return sequence"
   ]
  },
  {
   "cell_type": "code",
   "execution_count": null,
   "id": "4078cc56-d0b4-461b-ae63-4b79fc7b293f",
   "metadata": {},
   "outputs": [],
   "source": [
    "f, df, d2f = rosen, rosen_der, rosen_hess\n",
    "\n",
    "x0 = np.array([-2.0, 2.0])\n",
    "sequence = bfgs(f=f, df=df, x0=x0.copy(), d2f=d2f, tol=1e-8)\n",
    "len(sequence)"
   ]
  },
  {
   "cell_type": "code",
   "execution_count": null,
   "id": "acd6991a-6045-44c8-8d66-9b8e1e2be68d",
   "metadata": {
    "tags": []
   },
   "outputs": [],
   "source": [
    "fig, ax = plt.subplots(1, 1, constrained_layout=True, figsize=(8,6))\n",
    "\n",
    "xs = np.linspace(-4, 4, 402)\n",
    "ys = np.linspace(-4, 4, 402)\n",
    "xs, ys = np.meshgrid(xs, ys)\n",
    "points = np.stack([xs, ys])\n",
    "    \n",
    "sequence = np.array(sequence)\n",
    "ax.plot(*sequence.T, '.--', color=\"tab:blue\")\n",
    "ax.plot([1],[1],'k*')\n",
    "cs = ax.contourf(\n",
    "    xs, ys, f(points),\n",
    "    cmap=plt.get_cmap(\"coolwarm\"),\n",
    "    levels=np.geomspace(1e-16,1e5,22),\n",
    "    norm=LogNorm(),\n",
    "    extend='both'\n",
    ")\n",
    "cbar = fig.colorbar(cs)\n",
    "cbar.ax.set_yticklabels([f'{tick:.0e}' for tick in np.geomspace(1e-16,1e5,22)])\n",
    "\n",
    "ax.set_xlim(-4, 4)\n",
    "ax.set_ylim(-4, 4)\n"
   ]
  }
 ],
 "metadata": {
  "kernelspec": {
   "display_name": "Python 3 (ipykernel)",
   "language": "python",
   "name": "python3"
  },
  "language_info": {
   "codemirror_mode": {
    "name": "ipython",
    "version": 3
   },
   "file_extension": ".py",
   "mimetype": "text/x-python",
   "name": "python",
   "nbconvert_exporter": "python",
   "pygments_lexer": "ipython3",
   "version": "3.10.9"
  }
 },
 "nbformat": 4,
 "nbformat_minor": 5
}
