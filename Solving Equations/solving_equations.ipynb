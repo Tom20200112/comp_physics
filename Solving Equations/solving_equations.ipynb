{
 "cells": [
  {
   "cell_type": "code",
   "execution_count": 12,
   "metadata": {},
   "outputs": [],
   "source": [
    "import numpy as np\n",
    "import matplotlib.pyplot as plt\n",
    "\n",
    "from typing import Callable\n",
    "from functools import partial\n",
    "\n",
    "\n",
    "import numpy as np\n",
    "from numpy import ndarray\n",
    "import matplotlib.pyplot as plt"
   ]
  },
  {
   "cell_type": "code",
   "execution_count": 13,
   "metadata": {},
   "outputs": [],
   "source": [
    "def five_point_formula(f: Callable[[float], float], x: float, h: float) -> float:\n",
    "    \"\"\"\n",
    "    five-point formula applied to f at point x with step size h\n",
    "    \"\"\"\n",
    "    return (f(x - 2 * h) - f(x + 2 * h) - 8 * f(x - h) + 8 * f(x + h) ) / (12 * h)"
   ]
  },
  {
   "cell_type": "code",
   "execution_count": 14,
   "metadata": {},
   "outputs": [],
   "source": [
    "def newton_raphson(f: Callable[[float], float], a: float | ndarray,\n",
    "            iteration: int) -> float | ndarray:\n",
    "    x_old=a \n",
    "    x_new=a\n",
    "    x=[]\n",
    "    i=0\n",
    "    \n",
    "    while i<iteration:\n",
    "        x.append(x_new)\n",
    "        x_old=x_new\n",
    "        x_new=x_new-f(x_new)/five_point_formula(f, x_new, 1e-10)\n",
    "        i+=1\n",
    "        \n",
    "    return x"
   ]
  },
  {
   "cell_type": "code",
   "execution_count": 15,
   "metadata": {},
   "outputs": [],
   "source": [
    "def polynomial(x: float)->float:\n",
    "    return x**2-3/x"
   ]
  },
  {
   "cell_type": "code",
   "execution_count": 16,
   "metadata": {},
   "outputs": [
    {
     "data": {
      "text/plain": [
       "[3,\n",
       " 1.7368422097773022,\n",
       " 1.44827962979656,\n",
       " 1.4422496388138835,\n",
       " 1.4422495703074358]"
      ]
     },
     "execution_count": 16,
     "metadata": {},
     "output_type": "execute_result"
    }
   ],
   "source": [
    "newton_raphson(polynomial,3,5)"
   ]
  },
  {
   "cell_type": "code",
   "execution_count": 19,
   "metadata": {},
   "outputs": [
    {
     "name": "stdout",
     "output_type": "stream",
     "text": [
      "[-1.2631577902226978, -0.2885625799807421, -0.006029990982676647, -6.85064476257935e-08, -2.731148640577885e-14]\n"
     ]
    }
   ],
   "source": [
    "delta_x=[]\n",
    "x=newton_raphson(polynomial,3,6)\n",
    "\n",
    "for i in range(1,len(x)):\n",
    "    delta_x.append(x[i]-x[i-1])\n",
    "print(delta_x)"
   ]
  }
 ],
 "metadata": {
  "kernelspec": {
   "display_name": "Python 3",
   "language": "python",
   "name": "python3"
  },
  "language_info": {
   "codemirror_mode": {
    "name": "ipython",
    "version": 3
   },
   "file_extension": ".py",
   "mimetype": "text/x-python",
   "name": "python",
   "nbconvert_exporter": "python",
   "pygments_lexer": "ipython3",
   "version": "3.11.2"
  },
  "orig_nbformat": 4,
  "vscode": {
   "interpreter": {
    "hash": "aee8b7b246df8f9039afb4144a1f6fd8d2ca17a180786b69acc140d282b71a49"
   }
  }
 },
 "nbformat": 4,
 "nbformat_minor": 2
}
