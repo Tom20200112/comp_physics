{
 "cells": [
  {
   "cell_type": "code",
   "execution_count": 2,
   "metadata": {},
   "outputs": [],
   "source": [
    "import numpy as np\n",
    "import matplotlib.pyplot as plt\n",
    "\n",
    "from typing import Callable\n",
    "from functools import partial\n",
    "\n",
    "\n",
    "import numpy as np\n",
    "from numpy import ndarray\n",
    "import matplotlib.pyplot as plt"
   ]
  },
  {
   "cell_type": "code",
   "execution_count": 10,
   "metadata": {},
   "outputs": [],
   "source": [
    "def five_point_formula(f: Callable[[float], float], x: float, h: float) -> float:\n",
    "    \"\"\"\n",
    "    five-point formula applied to f at point x with step size h\n",
    "    \"\"\"\n",
    "    return (f(x - 2 * h) - f(x + 2 * h) - 8 * f(x - h) + 8 * f(x + h) ) / (12 * h)"
   ]
  },
  {
   "cell_type": "code",
   "execution_count": 7,
   "metadata": {},
   "outputs": [],
   "source": [
    "def newton_raphson(f: Callable[[float], float], a: float | ndarray,\n",
    "            delta: float | ndarray) -> float | ndarray:\n",
    "    x_old=a \n",
    "    x_new=a\n",
    "    while x_old==x_new==a or abs(x_new-x_old)>=delta:\n",
    "        x_old=x_new\n",
    "        x_new=x_new-f(x_new)/five_point_formula(f, x_new, delta/10)\n",
    "        \n",
    "    return x_new "
   ]
  },
  {
   "cell_type": "code",
   "execution_count": 23,
   "metadata": {},
   "outputs": [],
   "source": [
    "def polynomial(x: float)->float:\n",
    "    return (x-1)*(x-8)"
   ]
  },
  {
   "cell_type": "code",
   "execution_count": 30,
   "metadata": {},
   "outputs": [
    {
     "data": {
      "text/plain": [
       "0.0"
      ]
     },
     "execution_count": 30,
     "metadata": {},
     "output_type": "execute_result"
    }
   ],
   "source": [
    "newton_raphson(np.sin,0.1,0.00001)"
   ]
  }
 ],
 "metadata": {
  "kernelspec": {
   "display_name": "Python 3",
   "language": "python",
   "name": "python3"
  },
  "language_info": {
   "codemirror_mode": {
    "name": "ipython",
    "version": 3
   },
   "file_extension": ".py",
   "mimetype": "text/x-python",
   "name": "python",
   "nbconvert_exporter": "python",
   "pygments_lexer": "ipython3",
   "version": "3.11.2"
  },
  "orig_nbformat": 4,
  "vscode": {
   "interpreter": {
    "hash": "aee8b7b246df8f9039afb4144a1f6fd8d2ca17a180786b69acc140d282b71a49"
   }
  }
 },
 "nbformat": 4,
 "nbformat_minor": 2
}
