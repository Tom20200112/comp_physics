{
 "cells": [
  {
   "cell_type": "markdown",
   "metadata": {},
   "source": [
    "# Numerical Calculus\n",
    "## Differentiation\n",
    "### Difference formulae"
   ]
  },
  {
   "cell_type": "code",
   "execution_count": null,
   "metadata": {},
   "outputs": [],
   "source": [
    "import numpy as np\n",
    "import matplotlib.pyplot as plt\n",
    "\n",
    "from typing import Callable"
   ]
  },
  {
   "cell_type": "code",
   "execution_count": null,
   "metadata": {},
   "outputs": [],
   "source": [
    "from math import factorial\n",
    "\n",
    "\n",
    "def taylor_exponential(x0, h, order):\n",
    "    return np.exp(x0) * np.array([\n",
    "        h ** n / factorial(n)\n",
    "        for n in range(0,order+1)\n",
    "    ]).sum(axis=0)\n",
    "\n",
    "\n",
    "fig, ax = plt.subplots(1, 1, constrained_layout=True, figsize=(8,4))\n",
    "\n",
    "x = np.linspace(-1, 1, 100)\n",
    "h = np.logspace(-6,0,100)\n",
    "y = np.exp(x)\n",
    "ax.plot(x, y, 'k--', label=\"exact\")\n",
    "\n",
    "for order in range(4):\n",
    "    ax.plot(x, taylor_exponential(x0=0, h=x, order=order), label=f\"order={order}\")\n",
    "ax.legend()"
   ]
  },
  {
   "cell_type": "code",
   "execution_count": null,
   "metadata": {},
   "outputs": [],
   "source": [
    "def polynomial(x: float) -> float:\n",
    "    return x - x ** 2 + x ** 3 - x ** 4\n",
    "\n",
    "def polynomial_derivative(x: float) -> float:\n",
    "    return 1 - 2 * x + 3 * x ** 2 - 4 * x ** 3\n",
    "\n",
    "def tangent_factory(x0: float, f: Callable[[float], float], df: Callable[[float], float]) -> Callable[[float], float]:\n",
    "    y0 = f(x0)\n",
    "    m = df(x0)\n",
    "    c = y0 - m * x0\n",
    "    \n",
    "    def tangent(x: float) -> float:\n",
    "        return m * x + c\n",
    "    \n",
    "    return tangent"
   ]
  },
  {
   "cell_type": "code",
   "execution_count": null,
   "metadata": {},
   "outputs": [],
   "source": [
    "def first_forward_difference(f: Callable[[float], float], x: float, h: float) -> float:\n",
    "    \"\"\"\n",
    "    first forward differences of Callable[[float], float] f at point x with step size h\n",
    "    \"\"\"\n",
    "    ...\n",
    "    \n",
    "\n",
    "def first_backward_difference(f: Callable[[float], float], x: float, h: float) -> float:\n",
    "    \"\"\"\n",
    "    first backward differences of Callable[[float], float] f at point x with step size h\n",
    "    \"\"\"\n",
    "    ...\n",
    "    \n",
    "\n",
    "def first_central_difference(f: Callable[[float], float], x: float, h: float) -> float:\n",
    "    \"\"\"\n",
    "    first central differences of Callable[[float], float] f at point x with step size h\n",
    "    \"\"\"\n",
    "    ..."
   ]
  },
  {
   "cell_type": "code",
   "execution_count": null,
   "metadata": {
    "scrolled": true
   },
   "outputs": [],
   "source": [
    "x = np.linspace(0, 1, 100)\n",
    "f = polynomial\n",
    "df = polynomial_derivative\n",
    "\n",
    "x0 = 0.6\n",
    "tangent = tangent_factory(x0, f, df)\n",
    "\n",
    "fig, ax = plt.subplots(1, 1, constrained_layout=True, figsize=(8,4))\n",
    "ax.plot(x, f(x))\n",
    "ax.plot(x, tangent(x), '--', label=\"exact\")\n",
    "ax.set_xlim(0.4,0.8)\n",
    "ax.set_ylim(0.25,0.35)\n",
    "\n",
    "\n",
    "h = 0.1\n",
    "\n",
    "ax.plot((x0 - h, x0 - h), (0, f(x0 - h)), color='k', linestyle='--')\n",
    "ax.plot((x0, x0), (0, f(x0)), color='k', linestyle='--')\n",
    "ax.plot((x0 + h, x0 + h), (0, f(x0 + h)), color='k', linestyle='--')\n",
    "\n",
    "# ax.axline((x0, f(x0)), slope=first_forward_difference(f, x0, h), linestyle='--', color='tab:red', label=\"forward\")\n",
    "# ax.axline((x0, f(x0)), slope=first_backward_difference(f, x0, h), linestyle='--', color='tab:green', label=\"backward\")\n",
    "# ax.axline((x0-h, f(x0-h)), slope=first_central_difference(f, x0, h), linestyle='--', color='tab:purple', label=\"central\")\n",
    "# ax.axline((x0, f(x0)), slope=first_complex_difference(f, x0, h), linestyle='--', color='tab:cyan', label=\"complex\")\n",
    "\n",
    "ax.legend()"
   ]
  },
  {
   "cell_type": "markdown",
   "metadata": {},
   "source": [
    "### Errors"
   ]
  },
  {
   "cell_type": "code",
   "execution_count": null,
   "metadata": {},
   "outputs": [],
   "source": [
    "fig, ax = plt.subplots(1, 1, constrained_layout=True, figsize=(8,4))\n",
    "\n",
    "x0 = 0.6\n",
    "df0 = df(x0)\n",
    "\n",
    "h = np.logspace(-16,0,100)\n",
    "df_approx = first_forward_difference(f, x0, h)\n",
    "ax.plot(h, abs(df_approx-df0), label='first_forward')\n",
    "ax.set_xscale('log')\n",
    "ax.set_yscale('log')\n",
    "ax.set_xlabel(\"h\")\n",
    "ax.set_ylabel(\"error\")\n",
    "ax.legend()"
   ]
  },
  {
   "cell_type": "code",
   "execution_count": null,
   "metadata": {},
   "outputs": [],
   "source": [
    "def first_complex_difference(f: Callable[[complex], complex], x: float, h: float) -> float:\n",
    "    \"\"\"\n",
    "    first complex differences of Callable[[float], float] f at point x with step size h*1j\n",
    "    \"\"\"\n",
    "    ..."
   ]
  }
 ],
 "metadata": {
  "kernelspec": {
   "display_name": "Python 3 (ipykernel)",
   "language": "python",
   "name": "python3"
  },
  "language_info": {
   "codemirror_mode": {
    "name": "ipython",
    "version": 3
   },
   "file_extension": ".py",
   "mimetype": "text/x-python",
   "name": "python",
   "nbconvert_exporter": "python",
   "pygments_lexer": "ipython3",
   "version": "3.10.9"
  }
 },
 "nbformat": 4,
 "nbformat_minor": 1
}
